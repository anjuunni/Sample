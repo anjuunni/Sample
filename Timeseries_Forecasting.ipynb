{
  "nbformat": 4,
  "nbformat_minor": 0,
  "metadata": {
    "colab": {
      "name": "Timeseries Forecasting.ipynb",
      "provenance": [],
      "authorship_tag": "ABX9TyPF+zlqsRSO/c7qj3+R6jZH",
      "include_colab_link": true
    },
    "kernelspec": {
      "name": "python3",
      "display_name": "Python 3"
    }
  },
  "cells": [
    {
      "cell_type": "markdown",
      "metadata": {
        "id": "view-in-github",
        "colab_type": "text"
      },
      "source": [
        "<a href=\"https://colab.research.google.com/github/anjuunni/Sample/blob/main/Timeseries_Forecasting.ipynb\" target=\"_parent\"><img src=\"https://colab.research.google.com/assets/colab-badge.svg\" alt=\"Open In Colab\"/></a>"
      ]
    },
    {
      "cell_type": "code",
      "metadata": {
        "id": "E53d_10CbbTl"
      },
      "source": [
        "import pandas as pd\r\n",
        "import matplotlib.pyplot as plt\r\n",
        "%matplotlib inline"
      ],
      "execution_count": 2,
      "outputs": []
    },
    {
      "cell_type": "code",
      "metadata": {
        "colab": {
          "resources": {
            "http://localhost:8080/nbextensions/google.colab/files.js": {
              "data": "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",
              "ok": true,
              "headers": [
                [
                  "content-type",
                  "application/javascript"
                ]
              ],
              "status": 200,
              "status_text": ""
            }
          },
          "base_uri": "https://localhost:8080/",
          "height": 73
        },
        "id": "RWf70VGWmbsY",
        "outputId": "7f89674e-2b21-40e2-c765-6b3d50d4bc9e"
      },
      "source": [
        "from google.colab import files\r\n",
        "uploaded = files.upload()"
      ],
      "execution_count": 3,
      "outputs": [
        {
          "output_type": "display_data",
          "data": {
            "text/html": [
              "\n",
              "     <input type=\"file\" id=\"files-61bfc994-01be-4e5d-9ed2-3828c1cc5619\" name=\"files[]\" multiple disabled\n",
              "        style=\"border:none\" />\n",
              "     <output id=\"result-61bfc994-01be-4e5d-9ed2-3828c1cc5619\">\n",
              "      Upload widget is only available when the cell has been executed in the\n",
              "      current browser session. Please rerun this cell to enable.\n",
              "      </output>\n",
              "      <script src=\"/nbextensions/google.colab/files.js\"></script> "
            ],
            "text/plain": [
              "<IPython.core.display.HTML object>"
            ]
          },
          "metadata": {
            "tags": []
          }
        },
        {
          "output_type": "stream",
          "text": [
            "Saving daily-total-female-births-CA.csv to daily-total-female-births-CA (2).csv\n"
          ],
          "name": "stdout"
        }
      ]
    },
    {
      "cell_type": "code",
      "metadata": {
        "id": "Q7rMNEZ1mbv8"
      },
      "source": [
        "f_birth=pd.read_csv(\"daily-total-female-births-CA.csv\",index_col=[0],parse_dates=[0])"
      ],
      "execution_count": 4,
      "outputs": []
    },
    {
      "cell_type": "code",
      "metadata": {
        "id": "OyDgeLcWmbzF",
        "colab": {
          "base_uri": "https://localhost:8080/",
          "height": 225
        },
        "outputId": "a7136157-2ab2-47c5-d84d-2371aa438997"
      },
      "source": [
        "f_birth.head()"
      ],
      "execution_count": 5,
      "outputs": [
        {
          "output_type": "execute_result",
          "data": {
            "text/html": [
              "<div>\n",
              "<style scoped>\n",
              "    .dataframe tbody tr th:only-of-type {\n",
              "        vertical-align: middle;\n",
              "    }\n",
              "\n",
              "    .dataframe tbody tr th {\n",
              "        vertical-align: top;\n",
              "    }\n",
              "\n",
              "    .dataframe thead th {\n",
              "        text-align: right;\n",
              "    }\n",
              "</style>\n",
              "<table border=\"1\" class=\"dataframe\">\n",
              "  <thead>\n",
              "    <tr style=\"text-align: right;\">\n",
              "      <th></th>\n",
              "      <th>births</th>\n",
              "    </tr>\n",
              "    <tr>\n",
              "      <th>date</th>\n",
              "      <th></th>\n",
              "    </tr>\n",
              "  </thead>\n",
              "  <tbody>\n",
              "    <tr>\n",
              "      <th>1959-01-01</th>\n",
              "      <td>35</td>\n",
              "    </tr>\n",
              "    <tr>\n",
              "      <th>1959-01-02</th>\n",
              "      <td>32</td>\n",
              "    </tr>\n",
              "    <tr>\n",
              "      <th>1959-01-03</th>\n",
              "      <td>30</td>\n",
              "    </tr>\n",
              "    <tr>\n",
              "      <th>1959-01-04</th>\n",
              "      <td>31</td>\n",
              "    </tr>\n",
              "    <tr>\n",
              "      <th>1959-01-05</th>\n",
              "      <td>44</td>\n",
              "    </tr>\n",
              "  </tbody>\n",
              "</table>\n",
              "</div>"
            ],
            "text/plain": [
              "            births\n",
              "date              \n",
              "1959-01-01      35\n",
              "1959-01-02      32\n",
              "1959-01-03      30\n",
              "1959-01-04      31\n",
              "1959-01-05      44"
            ]
          },
          "metadata": {
            "tags": []
          },
          "execution_count": 5
        }
      ]
    },
    {
      "cell_type": "code",
      "metadata": {
        "colab": {
          "base_uri": "https://localhost:8080/"
        },
        "id": "bH1TJgMAm-AS",
        "outputId": "2633d4fc-27cd-4df3-babd-2d5e1da834a3"
      },
      "source": [
        "type(f_birth)"
      ],
      "execution_count": 6,
      "outputs": [
        {
          "output_type": "execute_result",
          "data": {
            "text/plain": [
              "pandas.core.frame.DataFrame"
            ]
          },
          "metadata": {
            "tags": []
          },
          "execution_count": 6
        }
      ]
    },
    {
      "cell_type": "code",
      "metadata": {
        "id": "Pc2h25SBm-Dk"
      },
      "source": [
        "series_value=f_birth.values"
      ],
      "execution_count": 7,
      "outputs": []
    },
    {
      "cell_type": "code",
      "metadata": {
        "colab": {
          "base_uri": "https://localhost:8080/"
        },
        "id": "rOJWpGrtm-Gt",
        "outputId": "fd4c772f-841d-4fde-8146-694fee8072e0"
      },
      "source": [
        "type(series_value)"
      ],
      "execution_count": 8,
      "outputs": [
        {
          "output_type": "execute_result",
          "data": {
            "text/plain": [
              "numpy.ndarray"
            ]
          },
          "metadata": {
            "tags": []
          },
          "execution_count": 8
        }
      ]
    },
    {
      "cell_type": "code",
      "metadata": {
        "colab": {
          "base_uri": "https://localhost:8080/"
        },
        "id": "FgnfmUYzng85",
        "outputId": "774367d6-3f27-4f4d-b839-83b04d7e3b61"
      },
      "source": [
        "f_birth.size"
      ],
      "execution_count": 9,
      "outputs": [
        {
          "output_type": "execute_result",
          "data": {
            "text/plain": [
              "365"
            ]
          },
          "metadata": {
            "tags": []
          },
          "execution_count": 9
        }
      ]
    },
    {
      "cell_type": "code",
      "metadata": {
        "colab": {
          "base_uri": "https://localhost:8080/",
          "height": 225
        },
        "id": "_FYV9VxpnhAp",
        "outputId": "43cb0ecd-824a-4b62-814b-1daebd71d2a2"
      },
      "source": [
        "f_birth.tail()"
      ],
      "execution_count": 10,
      "outputs": [
        {
          "output_type": "execute_result",
          "data": {
            "text/html": [
              "<div>\n",
              "<style scoped>\n",
              "    .dataframe tbody tr th:only-of-type {\n",
              "        vertical-align: middle;\n",
              "    }\n",
              "\n",
              "    .dataframe tbody tr th {\n",
              "        vertical-align: top;\n",
              "    }\n",
              "\n",
              "    .dataframe thead th {\n",
              "        text-align: right;\n",
              "    }\n",
              "</style>\n",
              "<table border=\"1\" class=\"dataframe\">\n",
              "  <thead>\n",
              "    <tr style=\"text-align: right;\">\n",
              "      <th></th>\n",
              "      <th>births</th>\n",
              "    </tr>\n",
              "    <tr>\n",
              "      <th>date</th>\n",
              "      <th></th>\n",
              "    </tr>\n",
              "  </thead>\n",
              "  <tbody>\n",
              "    <tr>\n",
              "      <th>1959-12-27</th>\n",
              "      <td>37</td>\n",
              "    </tr>\n",
              "    <tr>\n",
              "      <th>1959-12-28</th>\n",
              "      <td>52</td>\n",
              "    </tr>\n",
              "    <tr>\n",
              "      <th>1959-12-29</th>\n",
              "      <td>48</td>\n",
              "    </tr>\n",
              "    <tr>\n",
              "      <th>1959-12-30</th>\n",
              "      <td>55</td>\n",
              "    </tr>\n",
              "    <tr>\n",
              "      <th>1959-12-31</th>\n",
              "      <td>50</td>\n",
              "    </tr>\n",
              "  </tbody>\n",
              "</table>\n",
              "</div>"
            ],
            "text/plain": [
              "            births\n",
              "date              \n",
              "1959-12-27      37\n",
              "1959-12-28      52\n",
              "1959-12-29      48\n",
              "1959-12-30      55\n",
              "1959-12-31      50"
            ]
          },
          "metadata": {
            "tags": []
          },
          "execution_count": 10
        }
      ]
    },
    {
      "cell_type": "code",
      "metadata": {
        "colab": {
          "base_uri": "https://localhost:8080/",
          "height": 284
        },
        "id": "rou_HGtunhG1",
        "outputId": "1e70d403-971e-4203-b9b5-6c154f8a7fdd"
      },
      "source": [
        "f_birth.describe()"
      ],
      "execution_count": 11,
      "outputs": [
        {
          "output_type": "execute_result",
          "data": {
            "text/html": [
              "<div>\n",
              "<style scoped>\n",
              "    .dataframe tbody tr th:only-of-type {\n",
              "        vertical-align: middle;\n",
              "    }\n",
              "\n",
              "    .dataframe tbody tr th {\n",
              "        vertical-align: top;\n",
              "    }\n",
              "\n",
              "    .dataframe thead th {\n",
              "        text-align: right;\n",
              "    }\n",
              "</style>\n",
              "<table border=\"1\" class=\"dataframe\">\n",
              "  <thead>\n",
              "    <tr style=\"text-align: right;\">\n",
              "      <th></th>\n",
              "      <th>births</th>\n",
              "    </tr>\n",
              "  </thead>\n",
              "  <tbody>\n",
              "    <tr>\n",
              "      <th>count</th>\n",
              "      <td>365.000000</td>\n",
              "    </tr>\n",
              "    <tr>\n",
              "      <th>mean</th>\n",
              "      <td>41.980822</td>\n",
              "    </tr>\n",
              "    <tr>\n",
              "      <th>std</th>\n",
              "      <td>7.348257</td>\n",
              "    </tr>\n",
              "    <tr>\n",
              "      <th>min</th>\n",
              "      <td>23.000000</td>\n",
              "    </tr>\n",
              "    <tr>\n",
              "      <th>25%</th>\n",
              "      <td>37.000000</td>\n",
              "    </tr>\n",
              "    <tr>\n",
              "      <th>50%</th>\n",
              "      <td>42.000000</td>\n",
              "    </tr>\n",
              "    <tr>\n",
              "      <th>75%</th>\n",
              "      <td>46.000000</td>\n",
              "    </tr>\n",
              "    <tr>\n",
              "      <th>max</th>\n",
              "      <td>73.000000</td>\n",
              "    </tr>\n",
              "  </tbody>\n",
              "</table>\n",
              "</div>"
            ],
            "text/plain": [
              "           births\n",
              "count  365.000000\n",
              "mean    41.980822\n",
              "std      7.348257\n",
              "min     23.000000\n",
              "25%     37.000000\n",
              "50%     42.000000\n",
              "75%     46.000000\n",
              "max     73.000000"
            ]
          },
          "metadata": {
            "tags": []
          },
          "execution_count": 11
        }
      ]
    },
    {
      "cell_type": "code",
      "metadata": {
        "colab": {
          "base_uri": "https://localhost:8080/",
          "height": 308
        },
        "id": "00d7pcGSnhKv",
        "outputId": "60e49664-c9f5-4834-dbc9-62f087321a6f"
      },
      "source": [
        "f_birth.plot()"
      ],
      "execution_count": 12,
      "outputs": [
        {
          "output_type": "execute_result",
          "data": {
            "text/plain": [
              "<matplotlib.axes._subplots.AxesSubplot at 0x7fbde72329b0>"
            ]
          },
          "metadata": {
            "tags": []
          },
          "execution_count": 12
        },
        {
          "output_type": "display_data",
          "data": {
            "image/png": "[encoded data removed]",
            "text/plain": [
              "<Figure size 432x288 with 1 Axes>"
            ]
          },
          "metadata": {
            "tags": [],
            "needs_background": "light"
          }
        }
      ]
    },
    {
      "cell_type": "code",
      "metadata": {
        "id": "tjC59f1-pet2"
      },
      "source": [
        "f_birth_mean=f_birth.rolling(window=30).mean()"
      ],
      "execution_count": 13,
      "outputs": []
    },
    {
      "cell_type": "code",
      "metadata": {
        "colab": {
          "base_uri": "https://localhost:8080/",
          "height": 308
        },
        "id": "d9ENGp8WpexX",
        "outputId": "82c8883e-1650-43bb-e7b6-6f540bd193bc"
      },
      "source": [
        "f_birth_mean.plot()"
      ],
      "execution_count": 14,
      "outputs": [
        {
          "output_type": "execute_result",
          "data": {
            "text/plain": [
              "<matplotlib.axes._subplots.AxesSubplot at 0x7fbde7232908>"
            ]
          },
          "metadata": {
            "tags": []
          },
          "execution_count": 14
        },
        {
          "output_type": "display_data",
          "data": {
            "image/png": "[encoded data removed]",
            "text/plain": [
              "<Figure size 432x288 with 1 Axes>"
            ]
          },
          "metadata": {
            "tags": [],
            "needs_background": "light"
          }
        }
      ]
    },
    {
      "cell_type": "code",
      "metadata": {
        "id": "GPwTCddUnpg2"
      },
      "source": [
        "value=pd.DataFrame(series_value)"
      ],
      "execution_count": 15,
      "outputs": []
    },
    {
      "cell_type": "code",
      "metadata": {
        "id": "iFb89_XOpe1V"
      },
      "source": [
        "birth_df=pd.concat([value,value.shift(1)],axis=1)"
      ],
      "execution_count": 16,
      "outputs": []
    },
    {
      "cell_type": "code",
      "metadata": {
        "colab": {
          "base_uri": "https://localhost:8080/",
          "height": 195
        },
        "id": "hRG2n3KDn-fa",
        "outputId": "bb287206-5e92-4696-a1ca-d8bf6093c021"
      },
      "source": [
        "birth_df.head()"
      ],
      "execution_count": 17,
      "outputs": [
        {
          "output_type": "execute_result",
          "data": {
            "text/html": [
              "<div>\n",
              "<style scoped>\n",
              "    .dataframe tbody tr th:only-of-type {\n",
              "        vertical-align: middle;\n",
              "    }\n",
              "\n",
              "    .dataframe tbody tr th {\n",
              "        vertical-align: top;\n",
              "    }\n",
              "\n",
              "    .dataframe thead th {\n",
              "        text-align: right;\n",
              "    }\n",
              "</style>\n",
              "<table border=\"1\" class=\"dataframe\">\n",
              "  <thead>\n",
              "    <tr style=\"text-align: right;\">\n",
              "      <th></th>\n",
              "      <th>0</th>\n",
              "      <th>0</th>\n",
              "    </tr>\n",
              "  </thead>\n",
              "  <tbody>\n",
              "    <tr>\n",
              "      <th>0</th>\n",
              "      <td>35</td>\n",
              "      <td>NaN</td>\n",
              "    </tr>\n",
              "    <tr>\n",
              "      <th>1</th>\n",
              "      <td>32</td>\n",
              "      <td>35.0</td>\n",
              "    </tr>\n",
              "    <tr>\n",
              "      <th>2</th>\n",
              "      <td>30</td>\n",
              "      <td>32.0</td>\n",
              "    </tr>\n",
              "    <tr>\n",
              "      <th>3</th>\n",
              "      <td>31</td>\n",
              "      <td>30.0</td>\n",
              "    </tr>\n",
              "    <tr>\n",
              "      <th>4</th>\n",
              "      <td>44</td>\n",
              "      <td>31.0</td>\n",
              "    </tr>\n",
              "  </tbody>\n",
              "</table>\n",
              "</div>"
            ],
            "text/plain": [
              "    0     0\n",
              "0  35   NaN\n",
              "1  32  35.0\n",
              "2  30  32.0\n",
              "3  31  30.0\n",
              "4  44  31.0"
            ]
          },
          "metadata": {
            "tags": []
          },
          "execution_count": 17
        }
      ]
    },
    {
      "cell_type": "code",
      "metadata": {
        "id": "3jwOifPfn-jC"
      },
      "source": [
        "birth_df.columns=['Actual_birth','Forecast_birth']"
      ],
      "execution_count": 18,
      "outputs": []
    },
    {
      "cell_type": "code",
      "metadata": {
        "id": "OOaYtPqDpuwp"
      },
      "source": [
        "birth_test=birth_df[1:]"
      ],
      "execution_count": 19,
      "outputs": []
    },
    {
      "cell_type": "code",
      "metadata": {
        "colab": {
          "base_uri": "https://localhost:8080/",
          "height": 195
        },
        "id": "zMfN3RN1qpi_",
        "outputId": "369e7666-cec4-4807-d901-46e085b89cff"
      },
      "source": [
        "birth_test.head()"
      ],
      "execution_count": 20,
      "outputs": [
        {
          "output_type": "execute_result",
          "data": {
            "text/html": [
              "<div>\n",
              "<style scoped>\n",
              "    .dataframe tbody tr th:only-of-type {\n",
              "        vertical-align: middle;\n",
              "    }\n",
              "\n",
              "    .dataframe tbody tr th {\n",
              "        vertical-align: top;\n",
              "    }\n",
              "\n",
              "    .dataframe thead th {\n",
              "        text-align: right;\n",
              "    }\n",
              "</style>\n",
              "<table border=\"1\" class=\"dataframe\">\n",
              "  <thead>\n",
              "    <tr style=\"text-align: right;\">\n",
              "      <th></th>\n",
              "      <th>Actual_birth</th>\n",
              "      <th>Forecast_birth</th>\n",
              "    </tr>\n",
              "  </thead>\n",
              "  <tbody>\n",
              "    <tr>\n",
              "      <th>1</th>\n",
              "      <td>32</td>\n",
              "      <td>35.0</td>\n",
              "    </tr>\n",
              "    <tr>\n",
              "      <th>2</th>\n",
              "      <td>30</td>\n",
              "      <td>32.0</td>\n",
              "    </tr>\n",
              "    <tr>\n",
              "      <th>3</th>\n",
              "      <td>31</td>\n",
              "      <td>30.0</td>\n",
              "    </tr>\n",
              "    <tr>\n",
              "      <th>4</th>\n",
              "      <td>44</td>\n",
              "      <td>31.0</td>\n",
              "    </tr>\n",
              "    <tr>\n",
              "      <th>5</th>\n",
              "      <td>29</td>\n",
              "      <td>44.0</td>\n",
              "    </tr>\n",
              "  </tbody>\n",
              "</table>\n",
              "</div>"
            ],
            "text/plain": [
              "   Actual_birth  Forecast_birth\n",
              "1            32            35.0\n",
              "2            30            32.0\n",
              "3            31            30.0\n",
              "4            44            31.0\n",
              "5            29            44.0"
            ]
          },
          "metadata": {
            "tags": []
          },
          "execution_count": 20
        }
      ]
    },
    {
      "cell_type": "code",
      "metadata": {
        "id": "xOaeNQiln-ml"
      },
      "source": [
        "from sklearn.metrics import mean_squared_error\r\n",
        "import numpy as np"
      ],
      "execution_count": 21,
      "outputs": []
    },
    {
      "cell_type": "code",
      "metadata": {
        "id": "oH-KaXhLp36q"
      },
      "source": [
        "birth_error=mean_squared_error(birth_test.Actual_birth,birth_test.Forecast_birth)"
      ],
      "execution_count": 22,
      "outputs": []
    },
    {
      "cell_type": "code",
      "metadata": {
        "colab": {
          "base_uri": "https://localhost:8080/"
        },
        "id": "k2dWPlUHp3-2",
        "outputId": "ad3cdb74-88ee-4ac4-8e17-43539fe90b15"
      },
      "source": [
        "birth_error"
      ],
      "execution_count": 23,
      "outputs": [
        {
          "output_type": "execute_result",
          "data": {
            "text/plain": [
              "84.22252747252747"
            ]
          },
          "metadata": {
            "tags": []
          },
          "execution_count": 23
        }
      ]
    },
    {
      "cell_type": "code",
      "metadata": {
        "colab": {
          "base_uri": "https://localhost:8080/"
        },
        "id": "laADdNe_p4DA",
        "outputId": "1d816213-dc1c-4b9e-8ca3-a6591f8bdfe6"
      },
      "source": [
        "np.sqrt(birth_error)"
      ],
      "execution_count": 24,
      "outputs": [
        {
          "output_type": "execute_result",
          "data": {
            "text/plain": [
              "9.177283229394606"
            ]
          },
          "metadata": {
            "tags": []
          },
          "execution_count": 24
        }
      ]
    },
    {
      "cell_type": "code",
      "metadata": {
        "id": "DZs9wOC-r1f6"
      },
      "source": [
        "#ARIMA-Autoregressive(p) Integrated(d) Moving Average(q)"
      ],
      "execution_count": 25,
      "outputs": []
    },
    {
      "cell_type": "code",
      "metadata": {
        "colab": {
          "base_uri": "https://localhost:8080/"
        },
        "id": "VsmhvQxzr1oR",
        "outputId": "9549d106-47c9-4150-b6c2-3876c5286a92"
      },
      "source": [
        "from statsmodels.graphics.tsaplots import plot_acf,plot_pacf\r\n"
      ],
      "execution_count": 26,
      "outputs": [
        {
          "output_type": "stream",
          "text": [
            "/usr/local/lib/python3.6/dist-packages/statsmodels/tools/_testing.py:19: FutureWarning: pandas.util.testing is deprecated. Use the functions in the public API at pandas.testing instead.\n",
            "  import pandas.util.testing as tm\n"
          ],
          "name": "stderr"
        }
      ]
    },
    {
      "cell_type": "code",
      "metadata": {
        "id": "AmdEd9_pr1rv"
      },
      "source": [
        "#plot_pacf is to identify parameter q\r\n",
        "#ARIMA(p,d,q)"
      ],
      "execution_count": 27,
      "outputs": []
    },
    {
      "cell_type": "code",
      "metadata": {
        "colab": {
          "base_uri": "https://localhost:8080/",
          "height": 545
        },
        "id": "LEqUeD13r1vk",
        "outputId": "18661429-d361-4515-a1d3-12cdb9c25ee6"
      },
      "source": [
        "plot_acf(f_birth)"
      ],
      "execution_count": 28,
      "outputs": [
        {
          "output_type": "execute_result",
          "data": {
            "image/png": "[encoded data removed]",
            "text/plain": [
              "<Figure size 432x288 with 1 Axes>"
            ]
          },
          "metadata": {
            "tags": []
          },
          "execution_count": 28
        },
        {
          "output_type": "display_data",
          "data": {
            "image/png": "[encoded data removed]",
            "text/plain": [
              "<Figure size 432x288 with 1 Axes>"
            ]
          },
          "metadata": {
            "tags": [],
            "needs_background": "light"
          }
        }
      ]
    },
    {
      "cell_type": "code",
      "metadata": {
        "colab": {
          "base_uri": "https://localhost:8080/",
          "height": 545
        },
        "id": "ZHzEbmEzzjoC",
        "outputId": "0a4eaacb-4c59-4086-f246-af8405add53b"
      },
      "source": [
        "plot_pacf(f_birth)#to identify the value of p"
      ],
      "execution_count": 29,
      "outputs": [
        {
          "output_type": "execute_result",
          "data": {
            "image/png": "[encoded data removed]",
            "text/plain": [
              "<Figure size 432x288 with 1 Axes>"
            ]
          },
          "metadata": {
            "tags": []
          },
          "execution_count": 29
        },
        {
          "output_type": "display_data",
          "data": {
            "image/png": "[encoded data removed]",
            "text/plain": [
              "<Figure size 432x288 with 1 Axes>"
            ]
          },
          "metadata": {
            "tags": [],
            "needs_background": "light"
          }
        }
      ]
    },
    {
      "cell_type": "code",
      "metadata": {
        "id": "dHPjxLpXzjq7"
      },
      "source": [
        "#p=2,3 d=0,q=3,4"
      ],
      "execution_count": 30,
      "outputs": []
    },
    {
      "cell_type": "code",
      "metadata": {
        "id": "W0xfX2spzjwr"
      },
      "source": [
        "birth_train=f_birth[0:330]\r\n",
        "birth_test=f_birth[330:365]"
      ],
      "execution_count": 31,
      "outputs": []
    },
    {
      "cell_type": "code",
      "metadata": {
        "colab": {
          "base_uri": "https://localhost:8080/"
        },
        "id": "2C40aoNXzj1D",
        "outputId": "ab798ff7-bbe1-4170-a8f1-0ab072670b7c"
      },
      "source": [
        "birth_train.size"
      ],
      "execution_count": 32,
      "outputs": [
        {
          "output_type": "execute_result",
          "data": {
            "text/plain": [
              "330"
            ]
          },
          "metadata": {
            "tags": []
          },
          "execution_count": 32
        }
      ]
    },
    {
      "cell_type": "code",
      "metadata": {
        "colab": {
          "base_uri": "https://localhost:8080/"
        },
        "id": "Txy97cCS1w1Z",
        "outputId": "3072961d-3f9a-4aa3-bc59-bfe5b459e27f"
      },
      "source": [
        "birth_test.size"
      ],
      "execution_count": 33,
      "outputs": [
        {
          "output_type": "execute_result",
          "data": {
            "text/plain": [
              "35"
            ]
          },
          "metadata": {
            "tags": []
          },
          "execution_count": 33
        }
      ]
    },
    {
      "cell_type": "code",
      "metadata": {
        "id": "cCluA76i1w5r"
      },
      "source": [
        "from statsmodels.tsa.arima_model import ARIMA"
      ],
      "execution_count": 34,
      "outputs": []
    },
    {
      "cell_type": "code",
      "metadata": {
        "colab": {
          "base_uri": "https://localhost:8080/"
        },
        "id": "4vUSS-5V1w9k",
        "outputId": "80deaccb-2188-4470-8e27-dc6b8162a2ef"
      },
      "source": [
        "birth_model=ARIMA(birth_train,order=(2,1,3))"
      ],
      "execution_count": 35,
      "outputs": [
        {
          "output_type": "stream",
          "text": [
            "/usr/local/lib/python3.6/dist-packages/statsmodels/tsa/base/tsa_model.py:165: ValueWarning: No frequency information was provided, so inferred frequency D will be used.\n",
            "  % freq, ValueWarning)\n",
            "/usr/local/lib/python3.6/dist-packages/statsmodels/tsa/base/tsa_model.py:165: ValueWarning: No frequency information was provided, so inferred frequency D will be used.\n",
            "  % freq, ValueWarning)\n"
          ],
          "name": "stderr"
        }
      ]
    },
    {
      "cell_type": "code",
      "metadata": {
        "id": "mUteWVn23Luz"
      },
      "source": [
        "birth_model_fit=birth_model.fit()"
      ],
      "execution_count": 36,
      "outputs": []
    },
    {
      "cell_type": "code",
      "metadata": {
        "colab": {
          "base_uri": "https://localhost:8080/"
        },
        "id": "zQ7CjoIX3Lyt",
        "outputId": "56a7c338-e870-4f65-b7e9-2e6df06bbf6c"
      },
      "source": [
        "birth_model_fit.aic"
      ],
      "execution_count": 37,
      "outputs": [
        {
          "output_type": "execute_result",
          "data": {
            "text/plain": [
              "2230.9482523572665"
            ]
          },
          "metadata": {
            "tags": []
          },
          "execution_count": 37
        }
      ]
    },
    {
      "cell_type": "code",
      "metadata": {
        "id": "CZme3Trz3L2R"
      },
      "source": [
        "birth_forecast=birth_model_fit.forecast(steps=35)[0]"
      ],
      "execution_count": 38,
      "outputs": []
    },
    {
      "cell_type": "code",
      "metadata": {
        "colab": {
          "base_uri": "https://localhost:8080/"
        },
        "id": "mv6qUKG04BEU",
        "outputId": "4aba7426-e442-4798-e51b-337fd465a9c1"
      },
      "source": [
        "birth_forecast"
      ],
      "execution_count": 39,
      "outputs": [
        {
          "output_type": "execute_result",
          "data": {
            "text/plain": [
              "array([45.30369833, 46.3106401 , 43.64945872, 44.59219668, 46.49706372,\n",
              "       44.34348086, 44.08984412, 46.34390382, 45.07535206, 43.88105961,\n",
              "       45.9521466 , 45.69576995, 43.97398079, 45.45674188, 46.10377395,\n",
              "       44.31134533, 44.99233795, 46.26018937, 44.79345871, 44.66474437,\n",
              "       46.18573149, 45.30637415, 44.5332346 , 45.94670787, 45.74844039,\n",
              "       44.60565402, 45.63340441, 46.04985077, 44.84525522, 45.33695327,\n",
              "       46.18219996, 45.1858708 , 45.12984484, 46.15767119, 45.55082443])"
            ]
          },
          "metadata": {
            "tags": []
          },
          "execution_count": 39
        }
      ]
    },
    {
      "cell_type": "code",
      "metadata": {
        "colab": {
          "base_uri": "https://localhost:8080/"
        },
        "id": "AMDNbk9i4BIE",
        "outputId": "68cfc5d7-3d4d-40a9-b13a-c997be02ea7f"
      },
      "source": [
        "np.sqrt(mean_squared_error(birth_test,birth_forecast))"
      ],
      "execution_count": 40,
      "outputs": [
        {
          "output_type": "execute_result",
          "data": {
            "text/plain": [
              "6.859975697276732"
            ]
          },
          "metadata": {
            "tags": []
          },
          "execution_count": 40
        }
      ]
    },
    {
      "cell_type": "code",
      "metadata": {
        "id": "6kIIUOZD4BNK"
      },
      "source": [
        "#Normalization\r\n",
        "#1.If your data is on different scales\r\n",
        "#2.Because some algorithms works better when data is normalized"
      ],
      "execution_count": 41,
      "outputs": []
    },
    {
      "cell_type": "code",
      "metadata": {
        "id": "caGfA0meqZZX"
      },
      "source": [
        "#normalization=(x-min)/(max-min)"
      ],
      "execution_count": 42,
      "outputs": []
    },
    {
      "cell_type": "code",
      "metadata": {
        "colab": {
          "base_uri": "https://localhost:8080/"
        },
        "id": "DMz6CAjOqZdd",
        "outputId": "41d51363-c1ff-443f-ba4d-a27c754e42eb"
      },
      "source": [
        "f_birth.min()"
      ],
      "execution_count": 43,
      "outputs": [
        {
          "output_type": "execute_result",
          "data": {
            "text/plain": [
              "births    23\n",
              "dtype: int64"
            ]
          },
          "metadata": {
            "tags": []
          },
          "execution_count": 43
        }
      ]
    },
    {
      "cell_type": "code",
      "metadata": {
        "colab": {
          "base_uri": "https://localhost:8080/"
        },
        "id": "-cXjOmM-qZhI",
        "outputId": "6f4a9733-ce44-4d18-9638-aff79a68d31b"
      },
      "source": [
        "f_birth.max()"
      ],
      "execution_count": 44,
      "outputs": [
        {
          "output_type": "execute_result",
          "data": {
            "text/plain": [
              "births    73\n",
              "dtype: int64"
            ]
          },
          "metadata": {
            "tags": []
          },
          "execution_count": 44
        }
      ]
    },
    {
      "cell_type": "code",
      "metadata": {
        "colab": {
          "base_uri": "https://localhost:8080/"
        },
        "id": "kUdw5cq4qZlI",
        "outputId": "f754e7d8-bad6-48a2-97e8-8470908d61d9"
      },
      "source": [
        "(37-23)/(73-23)"
      ],
      "execution_count": 45,
      "outputs": [
        {
          "output_type": "execute_result",
          "data": {
            "text/plain": [
              "0.28"
            ]
          },
          "metadata": {
            "tags": []
          },
          "execution_count": 45
        }
      ]
    },
    {
      "cell_type": "code",
      "metadata": {
        "colab": {
          "base_uri": "https://localhost:8080/"
        },
        "id": "jnATf8wwrIsZ",
        "outputId": "9e683564-76f8-4053-996e-444873eb2dda"
      },
      "source": [
        "(55-23)/(73-23)"
      ],
      "execution_count": 46,
      "outputs": [
        {
          "output_type": "execute_result",
          "data": {
            "text/plain": [
              "0.64"
            ]
          },
          "metadata": {
            "tags": []
          },
          "execution_count": 46
        }
      ]
    },
    {
      "cell_type": "code",
      "metadata": {
        "id": "XzC0IHsRrIwB"
      },
      "source": [
        "from sklearn.preprocessing import MinMaxScaler"
      ],
      "execution_count": 47,
      "outputs": []
    },
    {
      "cell_type": "code",
      "metadata": {
        "id": "4Ov_jdVnrIza"
      },
      "source": [
        "birth_arr=f_birth.values"
      ],
      "execution_count": 48,
      "outputs": []
    },
    {
      "cell_type": "code",
      "metadata": {
        "colab": {
          "base_uri": "https://localhost:8080/"
        },
        "id": "KxQck9bcrI21",
        "outputId": "fdc06325-8079-4505-850d-6a144012eff2"
      },
      "source": [
        "birth_arr"
      ],
      "execution_count": 49,
      "outputs": [
        {
          "output_type": "execute_result",
          "data": {
            "text/plain": [
              "array([[35],\n",
              "       [32],\n",
              "       [30],\n",
              "       [31],\n",
              "       [44],\n",
              "       [29],\n",
              "       [45],\n",
              "       [43],\n",
              "       [38],\n",
              "       [27],\n",
              "       [38],\n",
              "       [33],\n",
              "       [55],\n",
              "       [47],\n",
              "       [45],\n",
              "       [37],\n",
              "       [50],\n",
              "       [43],\n",
              "       [41],\n",
              "       [52],\n",
              "       [34],\n",
              "       [53],\n",
              "       [39],\n",
              "       [32],\n",
              "       [37],\n",
              "       [43],\n",
              "       [39],\n",
              "       [35],\n",
              "       [44],\n",
              "       [38],\n",
              "       [24],\n",
              "       [23],\n",
              "       [31],\n",
              "       [44],\n",
              "       [38],\n",
              "       [50],\n",
              "       [38],\n",
              "       [51],\n",
              "       [31],\n",
              "       [31],\n",
              "       [51],\n",
              "       [36],\n",
              "       [45],\n",
              "       [51],\n",
              "       [34],\n",
              "       [52],\n",
              "       [47],\n",
              "       [45],\n",
              "       [46],\n",
              "       [39],\n",
              "       [48],\n",
              "       [37],\n",
              "       [35],\n",
              "       [52],\n",
              "       [42],\n",
              "       [45],\n",
              "       [39],\n",
              "       [37],\n",
              "       [30],\n",
              "       [35],\n",
              "       [28],\n",
              "       [45],\n",
              "       [34],\n",
              "       [36],\n",
              "       [50],\n",
              "       [44],\n",
              "       [39],\n",
              "       [32],\n",
              "       [39],\n",
              "       [45],\n",
              "       [43],\n",
              "       [39],\n",
              "       [31],\n",
              "       [27],\n",
              "       [30],\n",
              "       [42],\n",
              "       [46],\n",
              "       [41],\n",
              "       [36],\n",
              "       [45],\n",
              "       [46],\n",
              "       [43],\n",
              "       [38],\n",
              "       [34],\n",
              "       [35],\n",
              "       [56],\n",
              "       [36],\n",
              "       [32],\n",
              "       [50],\n",
              "       [41],\n",
              "       [39],\n",
              "       [41],\n",
              "       [47],\n",
              "       [34],\n",
              "       [36],\n",
              "       [33],\n",
              "       [35],\n",
              "       [38],\n",
              "       [38],\n",
              "       [34],\n",
              "       [53],\n",
              "       [34],\n",
              "       [34],\n",
              "       [38],\n",
              "       [35],\n",
              "       [32],\n",
              "       [42],\n",
              "       [34],\n",
              "       [46],\n",
              "       [30],\n",
              "       [46],\n",
              "       [45],\n",
              "       [54],\n",
              "       [34],\n",
              "       [37],\n",
              "       [35],\n",
              "       [40],\n",
              "       [42],\n",
              "       [58],\n",
              "       [51],\n",
              "       [32],\n",
              "       [35],\n",
              "       [38],\n",
              "       [33],\n",
              "       [39],\n",
              "       [47],\n",
              "       [38],\n",
              "       [52],\n",
              "       [30],\n",
              "       [34],\n",
              "       [40],\n",
              "       [35],\n",
              "       [42],\n",
              "       [41],\n",
              "       [42],\n",
              "       [38],\n",
              "       [24],\n",
              "       [34],\n",
              "       [43],\n",
              "       [36],\n",
              "       [55],\n",
              "       [41],\n",
              "       [45],\n",
              "       [41],\n",
              "       [37],\n",
              "       [43],\n",
              "       [39],\n",
              "       [33],\n",
              "       [43],\n",
              "       [40],\n",
              "       [38],\n",
              "       [45],\n",
              "       [46],\n",
              "       [34],\n",
              "       [35],\n",
              "       [48],\n",
              "       [51],\n",
              "       [36],\n",
              "       [33],\n",
              "       [46],\n",
              "       [42],\n",
              "       [48],\n",
              "       [34],\n",
              "       [41],\n",
              "       [35],\n",
              "       [40],\n",
              "       [34],\n",
              "       [30],\n",
              "       [36],\n",
              "       [40],\n",
              "       [39],\n",
              "       [45],\n",
              "       [38],\n",
              "       [47],\n",
              "       [33],\n",
              "       [30],\n",
              "       [42],\n",
              "       [43],\n",
              "       [41],\n",
              "       [41],\n",
              "       [59],\n",
              "       [43],\n",
              "       [45],\n",
              "       [38],\n",
              "       [37],\n",
              "       [45],\n",
              "       [42],\n",
              "       [57],\n",
              "       [46],\n",
              "       [51],\n",
              "       [41],\n",
              "       [47],\n",
              "       [26],\n",
              "       [35],\n",
              "       [44],\n",
              "       [41],\n",
              "       [42],\n",
              "       [36],\n",
              "       [45],\n",
              "       [45],\n",
              "       [45],\n",
              "       [47],\n",
              "       [38],\n",
              "       [42],\n",
              "       [35],\n",
              "       [36],\n",
              "       [39],\n",
              "       [45],\n",
              "       [43],\n",
              "       [47],\n",
              "       [36],\n",
              "       [41],\n",
              "       [50],\n",
              "       [39],\n",
              "       [41],\n",
              "       [46],\n",
              "       [64],\n",
              "       [45],\n",
              "       [34],\n",
              "       [38],\n",
              "       [44],\n",
              "       [48],\n",
              "       [46],\n",
              "       [44],\n",
              "       [37],\n",
              "       [39],\n",
              "       [44],\n",
              "       [45],\n",
              "       [33],\n",
              "       [44],\n",
              "       [38],\n",
              "       [46],\n",
              "       [46],\n",
              "       [40],\n",
              "       [39],\n",
              "       [44],\n",
              "       [48],\n",
              "       [50],\n",
              "       [41],\n",
              "       [42],\n",
              "       [51],\n",
              "       [41],\n",
              "       [44],\n",
              "       [38],\n",
              "       [68],\n",
              "       [40],\n",
              "       [42],\n",
              "       [51],\n",
              "       [44],\n",
              "       [45],\n",
              "       [36],\n",
              "       [57],\n",
              "       [44],\n",
              "       [42],\n",
              "       [53],\n",
              "       [42],\n",
              "       [34],\n",
              "       [40],\n",
              "       [56],\n",
              "       [44],\n",
              "       [53],\n",
              "       [55],\n",
              "       [39],\n",
              "       [59],\n",
              "       [55],\n",
              "       [73],\n",
              "       [55],\n",
              "       [44],\n",
              "       [43],\n",
              "       [40],\n",
              "       [47],\n",
              "       [51],\n",
              "       [56],\n",
              "       [49],\n",
              "       [54],\n",
              "       [56],\n",
              "       [47],\n",
              "       [44],\n",
              "       [43],\n",
              "       [42],\n",
              "       [45],\n",
              "       [50],\n",
              "       [48],\n",
              "       [43],\n",
              "       [40],\n",
              "       [59],\n",
              "       [41],\n",
              "       [42],\n",
              "       [51],\n",
              "       [49],\n",
              "       [45],\n",
              "       [43],\n",
              "       [42],\n",
              "       [38],\n",
              "       [47],\n",
              "       [38],\n",
              "       [36],\n",
              "       [42],\n",
              "       [35],\n",
              "       [28],\n",
              "       [44],\n",
              "       [36],\n",
              "       [45],\n",
              "       [46],\n",
              "       [48],\n",
              "       [49],\n",
              "       [43],\n",
              "       [42],\n",
              "       [59],\n",
              "       [45],\n",
              "       [52],\n",
              "       [46],\n",
              "       [42],\n",
              "       [40],\n",
              "       [40],\n",
              "       [45],\n",
              "       [35],\n",
              "       [35],\n",
              "       [40],\n",
              "       [39],\n",
              "       [33],\n",
              "       [42],\n",
              "       [47],\n",
              "       [51],\n",
              "       [44],\n",
              "       [40],\n",
              "       [57],\n",
              "       [49],\n",
              "       [45],\n",
              "       [49],\n",
              "       [51],\n",
              "       [46],\n",
              "       [44],\n",
              "       [52],\n",
              "       [45],\n",
              "       [32],\n",
              "       [46],\n",
              "       [41],\n",
              "       [34],\n",
              "       [33],\n",
              "       [36],\n",
              "       [49],\n",
              "       [43],\n",
              "       [43],\n",
              "       [34],\n",
              "       [39],\n",
              "       [35],\n",
              "       [52],\n",
              "       [47],\n",
              "       [52],\n",
              "       [39],\n",
              "       [40],\n",
              "       [42],\n",
              "       [42],\n",
              "       [53],\n",
              "       [39],\n",
              "       [40],\n",
              "       [38],\n",
              "       [44],\n",
              "       [34],\n",
              "       [37],\n",
              "       [52],\n",
              "       [48],\n",
              "       [55],\n",
              "       [50]])"
            ]
          },
          "metadata": {
            "tags": []
          },
          "execution_count": 49
        }
      ]
    },
    {
      "cell_type": "code",
      "metadata": {
        "id": "mgLnR6L5sDgB"
      },
      "source": [
        "scaler=MinMaxScaler(feature_range=(0,1))"
      ],
      "execution_count": 50,
      "outputs": []
    },
    {
      "cell_type": "code",
      "metadata": {
        "id": "1PMFe6vbsDjh"
      },
      "source": [
        "scaler=scaler.fit(birth_arr)"
      ],
      "execution_count": 51,
      "outputs": []
    },
    {
      "cell_type": "code",
      "metadata": {
        "colab": {
          "base_uri": "https://localhost:8080/"
        },
        "id": "GWJrDJCzsDnT",
        "outputId": "c3799196-8f99-4152-c246-fd3417039905"
      },
      "source": [
        "scaler.data_min_"
      ],
      "execution_count": 52,
      "outputs": [
        {
          "output_type": "execute_result",
          "data": {
            "text/plain": [
              "array([23.])"
            ]
          },
          "metadata": {
            "tags": []
          },
          "execution_count": 52
        }
      ]
    },
    {
      "cell_type": "code",
      "metadata": {
        "colab": {
          "base_uri": "https://localhost:8080/"
        },
        "id": "onNjj3lHsDqy",
        "outputId": "e71682cf-ea94-437b-f097-5ffe2fb33b2d"
      },
      "source": [
        "scaler.data_max_"
      ],
      "execution_count": 53,
      "outputs": [
        {
          "output_type": "execute_result",
          "data": {
            "text/plain": [
              "array([73.])"
            ]
          },
          "metadata": {
            "tags": []
          },
          "execution_count": 53
        }
      ]
    },
    {
      "cell_type": "code",
      "metadata": {
        "id": "COxknzVPsDt5"
      },
      "source": [
        "birth_normalize=scaler.transform(birth_arr)"
      ],
      "execution_count": 54,
      "outputs": []
    },
    {
      "cell_type": "code",
      "metadata": {
        "colab": {
          "base_uri": "https://localhost:8080/"
        },
        "id": "-IVneIKCsDxv",
        "outputId": "61d6e70d-e798-4a22-cf36-19246c8d3bf8"
      },
      "source": [
        "birth_normalize[0]"
      ],
      "execution_count": 55,
      "outputs": [
        {
          "output_type": "execute_result",
          "data": {
            "text/plain": [
              "array([0.24])"
            ]
          },
          "metadata": {
            "tags": []
          },
          "execution_count": 55
        }
      ]
    },
    {
      "cell_type": "code",
      "metadata": {
        "colab": {
          "base_uri": "https://localhost:8080/"
        },
        "id": "V0nhldyzsD1Q",
        "outputId": "511349f5-c446-4601-b0ca-6acbc7bdf1c2"
      },
      "source": [
        "for i in range(5):\r\n",
        "  print(birth_normalize[i])"
      ],
      "execution_count": 56,
      "outputs": [
        {
          "output_type": "stream",
          "text": [
            "[0.24]\n",
            "[0.18]\n",
            "[0.14]\n",
            "[0.16]\n",
            "[0.42]\n"
          ],
          "name": "stdout"
        }
      ]
    },
    {
      "cell_type": "code",
      "metadata": {
        "id": "lq4iw72msD43"
      },
      "source": [
        "birth_train=birth_normalize[0:330]\r\n",
        "birth_test=birth_normalize[330:365]"
      ],
      "execution_count": 57,
      "outputs": []
    },
    {
      "cell_type": "code",
      "metadata": {
        "colab": {
          "base_uri": "https://localhost:8080/"
        },
        "id": "E4KHSj9lsD8z",
        "outputId": "007595f3-e5ea-48ff-aeef-4e39639389fd"
      },
      "source": [
        "birth_train.size"
      ],
      "execution_count": 58,
      "outputs": [
        {
          "output_type": "execute_result",
          "data": {
            "text/plain": [
              "330"
            ]
          },
          "metadata": {
            "tags": []
          },
          "execution_count": 58
        }
      ]
    },
    {
      "cell_type": "code",
      "metadata": {
        "colab": {
          "base_uri": "https://localhost:8080/"
        },
        "id": "QJckprzpuLLr",
        "outputId": "5cd865f1-1a1b-4bfa-a79b-d67b8b2e58d6"
      },
      "source": [
        "birth_test.size"
      ],
      "execution_count": 59,
      "outputs": [
        {
          "output_type": "execute_result",
          "data": {
            "text/plain": [
              "35"
            ]
          },
          "metadata": {
            "tags": []
          },
          "execution_count": 59
        }
      ]
    },
    {
      "cell_type": "code",
      "metadata": {
        "id": "N8MShrQFuLPl"
      },
      "source": [
        "birth_model=ARIMA(birth_train,order=(2,1,3))"
      ],
      "execution_count": 60,
      "outputs": []
    },
    {
      "cell_type": "code",
      "metadata": {
        "id": "pOjLdegxuLTl"
      },
      "source": [
        "birth_model_fit=birth_model.fit()"
      ],
      "execution_count": 61,
      "outputs": []
    },
    {
      "cell_type": "code",
      "metadata": {
        "colab": {
          "base_uri": "https://localhost:8080/"
        },
        "id": "0xWaa-1duLW9",
        "outputId": "c16fefb0-7009-482e-c39b-89efd29edc86"
      },
      "source": [
        "birth_model_fit.aic"
      ],
      "execution_count": 62,
      "outputs": [
        {
          "output_type": "execute_result",
          "data": {
            "text/plain": [
              "-343.1628896136639"
            ]
          },
          "metadata": {
            "tags": []
          },
          "execution_count": 62
        }
      ]
    },
    {
      "cell_type": "code",
      "metadata": {
        "id": "16HvxEu9uLa0"
      },
      "source": [
        "birth_forecast=birth_model_fit.forecast(steps=35)[0]"
      ],
      "execution_count": 63,
      "outputs": []
    },
    {
      "cell_type": "code",
      "metadata": {
        "colab": {
          "base_uri": "https://localhost:8080/"
        },
        "id": "mGxz7JNLuLdY",
        "outputId": "c5b8c916-011a-4671-a826-b44d2827f8cc"
      },
      "source": [
        "birth_forecast"
      ],
      "execution_count": 64,
      "outputs": [
        {
          "output_type": "execute_result",
          "data": {
            "text/plain": [
              "array([0.44607351, 0.46621278, 0.41298824, 0.43184319, 0.4699413 ,\n",
              "       0.42686889, 0.4217959 , 0.46687801, 0.44150658, 0.41762008,\n",
              "       0.45904267, 0.45391517, 0.41947851, 0.4491343 , 0.4620754 ,\n",
              "       0.42622593, 0.43984595, 0.46520373, 0.43586841, 0.43329386,\n",
              "       0.46371447, 0.44612696, 0.43066356, 0.4589338 , 0.45496849,\n",
              "       0.43211196, 0.45266748, 0.46099682, 0.43690411, 0.44673822,\n",
              "       0.46364382, 0.44371661, 0.44259586, 0.46315314, 0.45101589])"
            ]
          },
          "metadata": {
            "tags": []
          },
          "execution_count": 64
        }
      ]
    },
    {
      "cell_type": "code",
      "metadata": {
        "colab": {
          "base_uri": "https://localhost:8080/"
        },
        "id": "TgH133_4uLgi",
        "outputId": "4a13a787-9c75-42c5-e126-ebff06f8809c"
      },
      "source": [
        "birth_test"
      ],
      "execution_count": 65,
      "outputs": [
        {
          "output_type": "execute_result",
          "data": {
            "text/plain": [
              "array([[0.56],\n",
              "       [0.46],\n",
              "       [0.42],\n",
              "       [0.58],\n",
              "       [0.44],\n",
              "       [0.18],\n",
              "       [0.46],\n",
              "       [0.36],\n",
              "       [0.22],\n",
              "       [0.2 ],\n",
              "       [0.26],\n",
              "       [0.52],\n",
              "       [0.4 ],\n",
              "       [0.4 ],\n",
              "       [0.22],\n",
              "       [0.32],\n",
              "       [0.24],\n",
              "       [0.58],\n",
              "       [0.48],\n",
              "       [0.58],\n",
              "       [0.32],\n",
              "       [0.34],\n",
              "       [0.38],\n",
              "       [0.38],\n",
              "       [0.6 ],\n",
              "       [0.32],\n",
              "       [0.34],\n",
              "       [0.3 ],\n",
              "       [0.42],\n",
              "       [0.22],\n",
              "       [0.28],\n",
              "       [0.58],\n",
              "       [0.5 ],\n",
              "       [0.64],\n",
              "       [0.54]])"
            ]
          },
          "metadata": {
            "tags": []
          },
          "execution_count": 65
        }
      ]
    },
    {
      "cell_type": "code",
      "metadata": {
        "colab": {
          "base_uri": "https://localhost:8080/"
        },
        "id": "ZJYaI_Srv8rz",
        "outputId": "496fc9ed-74a9-4db8-ca91-ee5523b0cdf7"
      },
      "source": [
        "np.sqrt(mean_squared_error(birth_test,birth_forecast))"
      ],
      "execution_count": 66,
      "outputs": [
        {
          "output_type": "execute_result",
          "data": {
            "text/plain": [
              "0.13719934348894777"
            ]
          },
          "metadata": {
            "tags": []
          },
          "execution_count": 66
        }
      ]
    },
    {
      "cell_type": "code",
      "metadata": {
        "id": "Ds6_mQcQv8vU"
      },
      "source": [
        "birth_forecast_reshape=birth_forecast.reshape(len(birth_forecast),1)"
      ],
      "execution_count": 67,
      "outputs": []
    },
    {
      "cell_type": "code",
      "metadata": {
        "id": "T707OA8av8y6"
      },
      "source": [
        "birth_forecast_reverse=scaler.inverse_transform(birth_forecast_reshape)"
      ],
      "execution_count": 68,
      "outputs": []
    },
    {
      "cell_type": "code",
      "metadata": {
        "colab": {
          "base_uri": "https://localhost:8080/"
        },
        "id": "7RqyO56Kv855",
        "outputId": "6549c5bf-d895-4018-ef25-83eb681269bb"
      },
      "source": [
        "birth_forecast_reverse"
      ],
      "execution_count": 69,
      "outputs": [
        {
          "output_type": "execute_result",
          "data": {
            "text/plain": [
              "array([[45.30367537],\n",
              "       [46.31063877],\n",
              "       [43.649412  ],\n",
              "       [44.59215949],\n",
              "       [46.49706496],\n",
              "       [44.34344474],\n",
              "       [44.0897951 ],\n",
              "       [46.34390071],\n",
              "       [45.07532884],\n",
              "       [43.88100406],\n",
              "       [45.95213326],\n",
              "       [45.69575841],\n",
              "       [43.97392537],\n",
              "       [45.45671493],\n",
              "       [46.10376983],\n",
              "       [44.31129632],\n",
              "       [44.99229731],\n",
              "       [46.26018655],\n",
              "       [44.79342039],\n",
              "       [44.66469309],\n",
              "       [46.18572364],\n",
              "       [45.30634788],\n",
              "       [44.53317795],\n",
              "       [45.94669001],\n",
              "       [45.74842445],\n",
              "       [44.60559807],\n",
              "       [45.63337403],\n",
              "       [46.04984097],\n",
              "       [44.84520533],\n",
              "       [45.33691076],\n",
              "       [46.1821908 ],\n",
              "       [45.18583041],\n",
              "       [45.12979317],\n",
              "       [46.15765723],\n",
              "       [45.55079439]])"
            ]
          },
          "metadata": {
            "tags": []
          },
          "execution_count": 69
        }
      ]
    },
    {
      "cell_type": "code",
      "metadata": {
        "id": "6Kwq4nq4xYzj"
      },
      "source": [
        "birth_test_reshape=birth_test.reshape(len(birth_test),1)"
      ],
      "execution_count": 70,
      "outputs": []
    },
    {
      "cell_type": "code",
      "metadata": {
        "id": "vM8eAuolxY_G"
      },
      "source": [
        "birth_test_reverse=scaler.inverse_transform(birth_test_reshape)"
      ],
      "execution_count": 71,
      "outputs": []
    },
    {
      "cell_type": "code",
      "metadata": {
        "colab": {
          "base_uri": "https://localhost:8080/"
        },
        "id": "TpgCErnkxZHU",
        "outputId": "36465028-d2f9-445c-931e-4bd37893b30a"
      },
      "source": [
        "np.sqrt(mean_squared_error(birth_test_reverse,birth_forecast_reverse))"
      ],
      "execution_count": 72,
      "outputs": [
        {
          "output_type": "execute_result",
          "data": {
            "text/plain": [
              "6.859967174447386"
            ]
          },
          "metadata": {
            "tags": []
          },
          "execution_count": 72
        }
      ]
    },
    {
      "cell_type": "code",
      "metadata": {
        "id": "f78WFmM66xYy"
      },
      "source": [
        "#standardization\r\n",
        "#=x-mean/std"
      ],
      "execution_count": 73,
      "outputs": []
    },
    {
      "cell_type": "code",
      "metadata": {
        "id": "fF4h5RQ16xd-"
      },
      "source": [
        "from sklearn.preprocessing import StandardScaler"
      ],
      "execution_count": 74,
      "outputs": []
    },
    {
      "cell_type": "code",
      "metadata": {
        "id": "r_JDxmUz6xjX"
      },
      "source": [
        "std_scaler=StandardScaler()"
      ],
      "execution_count": 75,
      "outputs": []
    },
    {
      "cell_type": "code",
      "metadata": {
        "id": "s8pzj5CP6xmn"
      },
      "source": [
        "std_scaler=std_scaler.fit(birth_arr)"
      ],
      "execution_count": 76,
      "outputs": []
    },
    {
      "cell_type": "code",
      "metadata": {
        "colab": {
          "base_uri": "https://localhost:8080/"
        },
        "id": "vhOybAuD6xqu",
        "outputId": "f35a733b-da48-4f9d-bb18-cd8717992792"
      },
      "source": [
        "std_scaler.mean_"
      ],
      "execution_count": 77,
      "outputs": [
        {
          "output_type": "execute_result",
          "data": {
            "text/plain": [
              "array([41.98082192])"
            ]
          },
          "metadata": {
            "tags": []
          },
          "execution_count": 77
        }
      ]
    },
    {
      "cell_type": "code",
      "metadata": {
        "colab": {
          "base_uri": "https://localhost:8080/"
        },
        "id": "6xdqzHXh6xuZ",
        "outputId": "ed5baace-36a2-4048-edfa-e34e941a62c0"
      },
      "source": [
        "std_scaler.var_"
      ],
      "execution_count": 78,
      "outputs": [
        {
          "output_type": "execute_result",
          "data": {
            "text/plain": [
              "array([53.84894727])"
            ]
          },
          "metadata": {
            "tags": []
          },
          "execution_count": 78
        }
      ]
    },
    {
      "cell_type": "code",
      "metadata": {
        "id": "FYjWj-WU6x2n"
      },
      "source": [
        "std_birth=std_scaler.transform(birth_arr)"
      ],
      "execution_count": 79,
      "outputs": []
    },
    {
      "cell_type": "code",
      "metadata": {
        "colab": {
          "base_uri": "https://localhost:8080/"
        },
        "id": "OdB4hAz2-0jl",
        "outputId": "ec9a7db5-479e-4303-e8ce-75d6e80e26d3"
      },
      "source": [
        "std_birth[0]"
      ],
      "execution_count": 80,
      "outputs": [
        {
          "output_type": "execute_result",
          "data": {
            "text/plain": [
              "array([-0.95130099])"
            ]
          },
          "metadata": {
            "tags": []
          },
          "execution_count": 80
        }
      ]
    },
    {
      "cell_type": "code",
      "metadata": {
        "colab": {
          "base_uri": "https://localhost:8080/"
        },
        "id": "UV1akvsA-0nO",
        "outputId": "8da58023-8b89-4925-caeb-6402d0918ec7"
      },
      "source": [
        "std_birth[5]"
      ],
      "execution_count": 81,
      "outputs": [
        {
          "output_type": "execute_result",
          "data": {
            "text/plain": [
              "array([-1.76894196])"
            ]
          },
          "metadata": {
            "tags": []
          },
          "execution_count": 81
        }
      ]
    },
    {
      "cell_type": "code",
      "metadata": {
        "id": "eGOVroBv-0rR"
      },
      "source": [
        "std_birth_train=std_birth[0:330]\r\n",
        "std_birth_test=std_birth[330:365]"
      ],
      "execution_count": 82,
      "outputs": []
    },
    {
      "cell_type": "code",
      "metadata": {
        "id": "7ro_MmRT-0ut"
      },
      "source": [
        "std_birth_arima=ARIMA(std_birth_train,order=(2,1,3))"
      ],
      "execution_count": 83,
      "outputs": []
    },
    {
      "cell_type": "code",
      "metadata": {
        "id": "rpd4yqYe-0yB"
      },
      "source": [
        "std_birth_arima_fit=std_birth_arima.fit()"
      ],
      "execution_count": 84,
      "outputs": []
    },
    {
      "cell_type": "code",
      "metadata": {
        "colab": {
          "base_uri": "https://localhost:8080/"
        },
        "id": "P0DE3dUi-01P",
        "outputId": "357dcb60-8512-48fd-b667-db36491d09d9"
      },
      "source": [
        "std_birth_arima_fit.aic"
      ],
      "execution_count": 85,
      "outputs": [
        {
          "output_type": "execute_result",
          "data": {
            "text/plain": [
              "919.494087909759"
            ]
          },
          "metadata": {
            "tags": []
          },
          "execution_count": 85
        }
      ]
    },
    {
      "cell_type": "code",
      "metadata": {
        "id": "-cHLBOrOAPHC"
      },
      "source": [
        "std_birth_forecast=std_birth_arima_fit.forecast(steps=35)[0]"
      ],
      "execution_count": 86,
      "outputs": []
    },
    {
      "cell_type": "code",
      "metadata": {
        "colab": {
          "base_uri": "https://localhost:8080/"
        },
        "id": "4anM1a1cAPMI",
        "outputId": "fc2cac8a-6b97-4649-a49f-137aa7eb8a5d"
      },
      "source": [
        "std_birth_forecast"
      ],
      "execution_count": 87,
      "outputs": [
        {
          "output_type": "execute_result",
          "data": {
            "text/plain": [
              "array([0.45283951, 0.59007459, 0.22738248, 0.35586729, 0.61548008,\n",
              "       0.32197096, 0.2874015 , 0.59460342, 0.42171662, 0.2589471 ,\n",
              "       0.54120901, 0.50627096, 0.27161226, 0.47368979, 0.56187452,\n",
              "       0.3175918 , 0.41039706, 0.58318904, 0.38329777, 0.36575114,\n",
              "       0.57303867, 0.45320025, 0.34782963, 0.54046106, 0.51344561,\n",
              "       0.35770089, 0.49776147, 0.55452063, 0.39035596, 0.45735996,\n",
              "       0.57255483, 0.43677662, 0.42913559, 0.56920938, 0.48651284])"
            ]
          },
          "metadata": {
            "tags": []
          },
          "execution_count": 87
        }
      ]
    },
    {
      "cell_type": "code",
      "metadata": {
        "colab": {
          "base_uri": "https://localhost:8080/"
        },
        "id": "8TvPlO5WAPRW",
        "outputId": "cb15d932-b02d-47cd-cc82-ebc3c176557c"
      },
      "source": [
        "std_birth_test"
      ],
      "execution_count": 88,
      "outputs": [
        {
          "output_type": "execute_result",
          "data": {
            "text/plain": [
              "array([[ 1.22907491],\n",
              "       [ 0.54770744],\n",
              "       [ 0.27516045],\n",
              "       [ 1.3653484 ],\n",
              "       [ 0.41143395],\n",
              "       [-1.36012148],\n",
              "       [ 0.54770744],\n",
              "       [-0.13366003],\n",
              "       [-1.08757449],\n",
              "       [-1.22384798],\n",
              "       [-0.8150275 ],\n",
              "       [ 0.95652792],\n",
              "       [ 0.13888696],\n",
              "       [ 0.13888696],\n",
              "       [-1.08757449],\n",
              "       [-0.40620702],\n",
              "       [-0.95130099],\n",
              "       [ 1.3653484 ],\n",
              "       [ 0.68398093],\n",
              "       [ 1.3653484 ],\n",
              "       [-0.40620702],\n",
              "       [-0.26993352],\n",
              "       [ 0.00261346],\n",
              "       [ 0.00261346],\n",
              "       [ 1.5016219 ],\n",
              "       [-0.40620702],\n",
              "       [-0.26993352],\n",
              "       [-0.54248051],\n",
              "       [ 0.27516045],\n",
              "       [-1.08757449],\n",
              "       [-0.67875401],\n",
              "       [ 1.3653484 ],\n",
              "       [ 0.82025443],\n",
              "       [ 1.77416889],\n",
              "       [ 1.09280142]])"
            ]
          },
          "metadata": {
            "tags": []
          },
          "execution_count": 88
        }
      ]
    },
    {
      "cell_type": "code",
      "metadata": {
        "id": "WgHhKyX0APU6"
      },
      "source": [
        "std_birth_forecast_reshape=std_birth_forecast.reshape(len(std_birth_forecast),1)"
      ],
      "execution_count": 89,
      "outputs": []
    },
    {
      "cell_type": "code",
      "metadata": {
        "id": "eZs_yeVWAPZl"
      },
      "source": [
        "std_birth_forecast_reverse=std_scaler.inverse_transform(std_birth_forecast_reshape)"
      ],
      "execution_count": 90,
      "outputs": []
    },
    {
      "cell_type": "code",
      "metadata": {
        "colab": {
          "base_uri": "https://localhost:8080/"
        },
        "id": "2DlgCa2HAPb4",
        "outputId": "cc2b81f8-ecbd-4817-f285-aac1fb66364d"
      },
      "source": [
        "std_birth_forecast_reverse"
      ],
      "execution_count": 91,
      "outputs": [
        {
          "output_type": "execute_result",
          "data": {
            "text/plain": [
              "array([[45.30384166],\n",
              "       [46.31089791],\n",
              "       [43.64939643],\n",
              "       [44.59224164],\n",
              "       [46.4973281 ],\n",
              "       [44.34350409],\n",
              "       [44.0898271 ],\n",
              "       [46.3441313 ],\n",
              "       [45.07545616],\n",
              "       [43.88102343],\n",
              "       [45.9523133 ],\n",
              "       [45.69593144],\n",
              "       [43.97396271],\n",
              "       [45.45684486],\n",
              "       [46.10396067],\n",
              "       [44.31136907],\n",
              "       [44.99239114],\n",
              "       [46.26037054],\n",
              "       [44.79353156],\n",
              "       [44.66477119],\n",
              "       [46.18588521],\n",
              "       [45.30648886],\n",
              "       [44.5332598 ],\n",
              "       [45.94682475],\n",
              "       [45.74858035],\n",
              "       [44.60569695],\n",
              "       [45.63348724],\n",
              "       [46.04999643],\n",
              "       [44.84532588],\n",
              "       [45.33701358],\n",
              "       [46.18233472],\n",
              "       [45.18596924],\n",
              "       [45.12989791],\n",
              "       [46.15778523],\n",
              "       [45.55094278]])"
            ]
          },
          "metadata": {
            "tags": []
          },
          "execution_count": 91
        }
      ]
    },
    {
      "cell_type": "code",
      "metadata": {
        "id": "zcBeSeLjAPeR"
      },
      "source": [
        "std_birth_test_reshape=std_birth_test.reshape(len(std_birth_test),1)"
      ],
      "execution_count": 92,
      "outputs": []
    },
    {
      "cell_type": "code",
      "metadata": {
        "id": "C-E1d9oNAPjU"
      },
      "source": [
        "std_birth_test_reverse=std_scaler.inverse_transform(birth_test_reshape)"
      ],
      "execution_count": 93,
      "outputs": []
    },
    {
      "cell_type": "code",
      "metadata": {
        "colab": {
          "base_uri": "https://localhost:8080/"
        },
        "id": "D9R_NOvnB1Tg",
        "outputId": "48e7508a-d9ce-4577-d2f2-6abface583c3"
      },
      "source": [
        "std_birth_test_reverse"
      ],
      "execution_count": 94,
      "outputs": [
        {
          "output_type": "execute_result",
          "data": {
            "text/plain": [
              "array([[46.09020507],\n",
              "       [45.35638665],\n",
              "       [45.06285928],\n",
              "       [46.23696875],\n",
              "       [45.20962296],\n",
              "       [43.30169507],\n",
              "       [45.35638665],\n",
              "       [44.62256823],\n",
              "       [43.59522244],\n",
              "       [43.44845876],\n",
              "       [43.88874981],\n",
              "       [45.7966777 ],\n",
              "       [44.9160956 ],\n",
              "       [44.9160956 ],\n",
              "       [43.59522244],\n",
              "       [44.32904086],\n",
              "       [43.74198612],\n",
              "       [46.23696875],\n",
              "       [45.50315033],\n",
              "       [46.23696875],\n",
              "       [44.32904086],\n",
              "       [44.47580454],\n",
              "       [44.76933191],\n",
              "       [44.76933191],\n",
              "       [46.38373243],\n",
              "       [44.32904086],\n",
              "       [44.47580454],\n",
              "       [44.18227718],\n",
              "       [45.06285928],\n",
              "       [43.59522244],\n",
              "       [44.03551349],\n",
              "       [46.23696875],\n",
              "       [45.64991401],\n",
              "       [46.6772598 ],\n",
              "       [45.94344138]])"
            ]
          },
          "metadata": {
            "tags": []
          },
          "execution_count": 94
        }
      ]
    },
    {
      "cell_type": "code",
      "metadata": {
        "colab": {
          "base_uri": "https://localhost:8080/"
        },
        "id": "ev-AoM8hB1hc",
        "outputId": "2a07b831-f2c0-4a12-b4f0-ee25df8b9c1a"
      },
      "source": [
        "np.sqrt(mean_squared_error(std_birth_test_reverse,std_birth_forecast_reverse))"
      ],
      "execution_count": 95,
      "outputs": [
        {
          "output_type": "execute_result",
          "data": {
            "text/plain": [
              "1.2256981150664508"
            ]
          },
          "metadata": {
            "tags": []
          },
          "execution_count": 95
        }
      ]
    },
    {
      "cell_type": "code",
      "metadata": {
        "id": "YVnmKnkrB1qt"
      },
      "source": [
        "f_birth['lag1']=f_birth['births'].shift(1)"
      ],
      "execution_count": 96,
      "outputs": []
    },
    {
      "cell_type": "code",
      "metadata": {
        "colab": {
          "base_uri": "https://localhost:8080/",
          "height": 225
        },
        "id": "rIi46tM3qv3X",
        "outputId": "9c62cd72-774c-4205-bc05-289198fa7fa9"
      },
      "source": [
        "f_birth.head()"
      ],
      "execution_count": 97,
      "outputs": [
        {
          "output_type": "execute_result",
          "data": {
            "text/html": [
              "<div>\n",
              "<style scoped>\n",
              "    .dataframe tbody tr th:only-of-type {\n",
              "        vertical-align: middle;\n",
              "    }\n",
              "\n",
              "    .dataframe tbody tr th {\n",
              "        vertical-align: top;\n",
              "    }\n",
              "\n",
              "    .dataframe thead th {\n",
              "        text-align: right;\n",
              "    }\n",
              "</style>\n",
              "<table border=\"1\" class=\"dataframe\">\n",
              "  <thead>\n",
              "    <tr style=\"text-align: right;\">\n",
              "      <th></th>\n",
              "      <th>births</th>\n",
              "      <th>lag1</th>\n",
              "    </tr>\n",
              "    <tr>\n",
              "      <th>date</th>\n",
              "      <th></th>\n",
              "      <th></th>\n",
              "    </tr>\n",
              "  </thead>\n",
              "  <tbody>\n",
              "    <tr>\n",
              "      <th>1959-01-01</th>\n",
              "      <td>35</td>\n",
              "      <td>NaN</td>\n",
              "    </tr>\n",
              "    <tr>\n",
              "      <th>1959-01-02</th>\n",
              "      <td>32</td>\n",
              "      <td>35.0</td>\n",
              "    </tr>\n",
              "    <tr>\n",
              "      <th>1959-01-03</th>\n",
              "      <td>30</td>\n",
              "      <td>32.0</td>\n",
              "    </tr>\n",
              "    <tr>\n",
              "      <th>1959-01-04</th>\n",
              "      <td>31</td>\n",
              "      <td>30.0</td>\n",
              "    </tr>\n",
              "    <tr>\n",
              "      <th>1959-01-05</th>\n",
              "      <td>44</td>\n",
              "      <td>31.0</td>\n",
              "    </tr>\n",
              "  </tbody>\n",
              "</table>\n",
              "</div>"
            ],
            "text/plain": [
              "            births  lag1\n",
              "date                    \n",
              "1959-01-01      35   NaN\n",
              "1959-01-02      32  35.0\n",
              "1959-01-03      30  32.0\n",
              "1959-01-04      31  30.0\n",
              "1959-01-05      44  31.0"
            ]
          },
          "metadata": {
            "tags": []
          },
          "execution_count": 97
        }
      ]
    },
    {
      "cell_type": "code",
      "metadata": {
        "id": "LAUuT2z4q45e"
      },
      "source": [
        "f_birth['lag2']=f_birth['births'].shift(2)"
      ],
      "execution_count": 98,
      "outputs": []
    },
    {
      "cell_type": "code",
      "metadata": {
        "id": "FBPiMrn8q49Y"
      },
      "source": [
        "f_birth['lag3']=f_birth['births'].shift(3)"
      ],
      "execution_count": 99,
      "outputs": []
    },
    {
      "cell_type": "code",
      "metadata": {
        "colab": {
          "base_uri": "https://localhost:8080/",
          "height": 225
        },
        "id": "u7Fjrp7Fq5CZ",
        "outputId": "ab99f974-730b-4cb6-c314-8665571de1a8"
      },
      "source": [
        "f_birth.head()"
      ],
      "execution_count": 100,
      "outputs": [
        {
          "output_type": "execute_result",
          "data": {
            "text/html": [
              "<div>\n",
              "<style scoped>\n",
              "    .dataframe tbody tr th:only-of-type {\n",
              "        vertical-align: middle;\n",
              "    }\n",
              "\n",
              "    .dataframe tbody tr th {\n",
              "        vertical-align: top;\n",
              "    }\n",
              "\n",
              "    .dataframe thead th {\n",
              "        text-align: right;\n",
              "    }\n",
              "</style>\n",
              "<table border=\"1\" class=\"dataframe\">\n",
              "  <thead>\n",
              "    <tr style=\"text-align: right;\">\n",
              "      <th></th>\n",
              "      <th>births</th>\n",
              "      <th>lag1</th>\n",
              "      <th>lag2</th>\n",
              "      <th>lag3</th>\n",
              "    </tr>\n",
              "    <tr>\n",
              "      <th>date</th>\n",
              "      <th></th>\n",
              "      <th></th>\n",
              "      <th></th>\n",
              "      <th></th>\n",
              "    </tr>\n",
              "  </thead>\n",
              "  <tbody>\n",
              "    <tr>\n",
              "      <th>1959-01-01</th>\n",
              "      <td>35</td>\n",
              "      <td>NaN</td>\n",
              "      <td>NaN</td>\n",
              "      <td>NaN</td>\n",
              "    </tr>\n",
              "    <tr>\n",
              "      <th>1959-01-02</th>\n",
              "      <td>32</td>\n",
              "      <td>35.0</td>\n",
              "      <td>NaN</td>\n",
              "      <td>NaN</td>\n",
              "    </tr>\n",
              "    <tr>\n",
              "      <th>1959-01-03</th>\n",
              "      <td>30</td>\n",
              "      <td>32.0</td>\n",
              "      <td>35.0</td>\n",
              "      <td>NaN</td>\n",
              "    </tr>\n",
              "    <tr>\n",
              "      <th>1959-01-04</th>\n",
              "      <td>31</td>\n",
              "      <td>30.0</td>\n",
              "      <td>32.0</td>\n",
              "      <td>35.0</td>\n",
              "    </tr>\n",
              "    <tr>\n",
              "      <th>1959-01-05</th>\n",
              "      <td>44</td>\n",
              "      <td>31.0</td>\n",
              "      <td>30.0</td>\n",
              "      <td>32.0</td>\n",
              "    </tr>\n",
              "  </tbody>\n",
              "</table>\n",
              "</div>"
            ],
            "text/plain": [
              "            births  lag1  lag2  lag3\n",
              "date                                \n",
              "1959-01-01      35   NaN   NaN   NaN\n",
              "1959-01-02      32  35.0   NaN   NaN\n",
              "1959-01-03      30  32.0  35.0   NaN\n",
              "1959-01-04      31  30.0  32.0  35.0\n",
              "1959-01-05      44  31.0  30.0  32.0"
            ]
          },
          "metadata": {
            "tags": []
          },
          "execution_count": 100
        }
      ]
    },
    {
      "cell_type": "code",
      "metadata": {
        "id": "J4CqdzVMq5En"
      },
      "source": [
        "f_birth['MA3']=f_birth['births'].rolling(window=3).mean()"
      ],
      "execution_count": 101,
      "outputs": []
    },
    {
      "cell_type": "code",
      "metadata": {
        "colab": {
          "base_uri": "https://localhost:8080/",
          "height": 225
        },
        "id": "a1sr5NvAsMn7",
        "outputId": "b6e4a442-960c-4169-9c60-9fdf88a93d0a"
      },
      "source": [
        "f_birth.head()"
      ],
      "execution_count": 102,
      "outputs": [
        {
          "output_type": "execute_result",
          "data": {
            "text/html": [
              "<div>\n",
              "<style scoped>\n",
              "    .dataframe tbody tr th:only-of-type {\n",
              "        vertical-align: middle;\n",
              "    }\n",
              "\n",
              "    .dataframe tbody tr th {\n",
              "        vertical-align: top;\n",
              "    }\n",
              "\n",
              "    .dataframe thead th {\n",
              "        text-align: right;\n",
              "    }\n",
              "</style>\n",
              "<table border=\"1\" class=\"dataframe\">\n",
              "  <thead>\n",
              "    <tr style=\"text-align: right;\">\n",
              "      <th></th>\n",
              "      <th>births</th>\n",
              "      <th>lag1</th>\n",
              "      <th>lag2</th>\n",
              "      <th>lag3</th>\n",
              "      <th>MA3</th>\n",
              "    </tr>\n",
              "    <tr>\n",
              "      <th>date</th>\n",
              "      <th></th>\n",
              "      <th></th>\n",
              "      <th></th>\n",
              "      <th></th>\n",
              "      <th></th>\n",
              "    </tr>\n",
              "  </thead>\n",
              "  <tbody>\n",
              "    <tr>\n",
              "      <th>1959-01-01</th>\n",
              "      <td>35</td>\n",
              "      <td>NaN</td>\n",
              "      <td>NaN</td>\n",
              "      <td>NaN</td>\n",
              "      <td>NaN</td>\n",
              "    </tr>\n",
              "    <tr>\n",
              "      <th>1959-01-02</th>\n",
              "      <td>32</td>\n",
              "      <td>35.0</td>\n",
              "      <td>NaN</td>\n",
              "      <td>NaN</td>\n",
              "      <td>NaN</td>\n",
              "    </tr>\n",
              "    <tr>\n",
              "      <th>1959-01-03</th>\n",
              "      <td>30</td>\n",
              "      <td>32.0</td>\n",
              "      <td>35.0</td>\n",
              "      <td>NaN</td>\n",
              "      <td>32.333333</td>\n",
              "    </tr>\n",
              "    <tr>\n",
              "      <th>1959-01-04</th>\n",
              "      <td>31</td>\n",
              "      <td>30.0</td>\n",
              "      <td>32.0</td>\n",
              "      <td>35.0</td>\n",
              "      <td>31.000000</td>\n",
              "    </tr>\n",
              "    <tr>\n",
              "      <th>1959-01-05</th>\n",
              "      <td>44</td>\n",
              "      <td>31.0</td>\n",
              "      <td>30.0</td>\n",
              "      <td>32.0</td>\n",
              "      <td>35.000000</td>\n",
              "    </tr>\n",
              "  </tbody>\n",
              "</table>\n",
              "</div>"
            ],
            "text/plain": [
              "            births  lag1  lag2  lag3        MA3\n",
              "date                                           \n",
              "1959-01-01      35   NaN   NaN   NaN        NaN\n",
              "1959-01-02      32  35.0   NaN   NaN        NaN\n",
              "1959-01-03      30  32.0  35.0   NaN  32.333333\n",
              "1959-01-04      31  30.0  32.0  35.0  31.000000\n",
              "1959-01-05      44  31.0  30.0  32.0  35.000000"
            ]
          },
          "metadata": {
            "tags": []
          },
          "execution_count": 102
        }
      ]
    },
    {
      "cell_type": "code",
      "metadata": {
        "id": "bzsQ696xsMvk"
      },
      "source": [
        "f_birth['MA4']=f_birth['births'].rolling(window=4).mean()"
      ],
      "execution_count": 103,
      "outputs": []
    },
    {
      "cell_type": "code",
      "metadata": {
        "id": "x1boMK8usMx2"
      },
      "source": [
        "f_birth['MA5']=f_birth['births'].rolling(window=5).mean()"
      ],
      "execution_count": 104,
      "outputs": []
    },
    {
      "cell_type": "code",
      "metadata": {
        "colab": {
          "base_uri": "https://localhost:8080/",
          "height": 225
        },
        "id": "qQA7vIUqsMzz",
        "outputId": "ad6c7cb7-b097-46bc-adb1-5550e6b96477"
      },
      "source": [
        "f_birth.head()"
      ],
      "execution_count": 105,
      "outputs": [
        {
          "output_type": "execute_result",
          "data": {
            "text/html": [
              "<div>\n",
              "<style scoped>\n",
              "    .dataframe tbody tr th:only-of-type {\n",
              "        vertical-align: middle;\n",
              "    }\n",
              "\n",
              "    .dataframe tbody tr th {\n",
              "        vertical-align: top;\n",
              "    }\n",
              "\n",
              "    .dataframe thead th {\n",
              "        text-align: right;\n",
              "    }\n",
              "</style>\n",
              "<table border=\"1\" class=\"dataframe\">\n",
              "  <thead>\n",
              "    <tr style=\"text-align: right;\">\n",
              "      <th></th>\n",
              "      <th>births</th>\n",
              "      <th>lag1</th>\n",
              "      <th>lag2</th>\n",
              "      <th>lag3</th>\n",
              "      <th>MA3</th>\n",
              "      <th>MA4</th>\n",
              "      <th>MA5</th>\n",
              "    </tr>\n",
              "    <tr>\n",
              "      <th>date</th>\n",
              "      <th></th>\n",
              "      <th></th>\n",
              "      <th></th>\n",
              "      <th></th>\n",
              "      <th></th>\n",
              "      <th></th>\n",
              "      <th></th>\n",
              "    </tr>\n",
              "  </thead>\n",
              "  <tbody>\n",
              "    <tr>\n",
              "      <th>1959-01-01</th>\n",
              "      <td>35</td>\n",
              "      <td>NaN</td>\n",
              "      <td>NaN</td>\n",
              "      <td>NaN</td>\n",
              "      <td>NaN</td>\n",
              "      <td>NaN</td>\n",
              "      <td>NaN</td>\n",
              "    </tr>\n",
              "    <tr>\n",
              "      <th>1959-01-02</th>\n",
              "      <td>32</td>\n",
              "      <td>35.0</td>\n",
              "      <td>NaN</td>\n",
              "      <td>NaN</td>\n",
              "      <td>NaN</td>\n",
              "      <td>NaN</td>\n",
              "      <td>NaN</td>\n",
              "    </tr>\n",
              "    <tr>\n",
              "      <th>1959-01-03</th>\n",
              "      <td>30</td>\n",
              "      <td>32.0</td>\n",
              "      <td>35.0</td>\n",
              "      <td>NaN</td>\n",
              "      <td>32.333333</td>\n",
              "      <td>NaN</td>\n",
              "      <td>NaN</td>\n",
              "    </tr>\n",
              "    <tr>\n",
              "      <th>1959-01-04</th>\n",
              "      <td>31</td>\n",
              "      <td>30.0</td>\n",
              "      <td>32.0</td>\n",
              "      <td>35.0</td>\n",
              "      <td>31.000000</td>\n",
              "      <td>32.00</td>\n",
              "      <td>NaN</td>\n",
              "    </tr>\n",
              "    <tr>\n",
              "      <th>1959-01-05</th>\n",
              "      <td>44</td>\n",
              "      <td>31.0</td>\n",
              "      <td>30.0</td>\n",
              "      <td>32.0</td>\n",
              "      <td>35.000000</td>\n",
              "      <td>34.25</td>\n",
              "      <td>34.4</td>\n",
              "    </tr>\n",
              "  </tbody>\n",
              "</table>\n",
              "</div>"
            ],
            "text/plain": [
              "            births  lag1  lag2  lag3        MA3    MA4   MA5\n",
              "date                                                        \n",
              "1959-01-01      35   NaN   NaN   NaN        NaN    NaN   NaN\n",
              "1959-01-02      32  35.0   NaN   NaN        NaN    NaN   NaN\n",
              "1959-01-03      30  32.0  35.0   NaN  32.333333    NaN   NaN\n",
              "1959-01-04      31  30.0  32.0  35.0  31.000000  32.00   NaN\n",
              "1959-01-05      44  31.0  30.0  32.0  35.000000  34.25  34.4"
            ]
          },
          "metadata": {
            "tags": []
          },
          "execution_count": 105
        }
      ]
    },
    {
      "cell_type": "code",
      "metadata": {
        "id": "HgjiTq-4sM3r"
      },
      "source": [
        "f_birth['MAX5']=f_birth['births'].rolling(window=5).max()"
      ],
      "execution_count": 106,
      "outputs": []
    },
    {
      "cell_type": "code",
      "metadata": {
        "colab": {
          "base_uri": "https://localhost:8080/",
          "height": 225
        },
        "id": "ae-tPVessNC9",
        "outputId": "7c0ac0fb-88b2-4769-f805-e67e13083ee4"
      },
      "source": [
        "f_birth.head()"
      ],
      "execution_count": 107,
      "outputs": [
        {
          "output_type": "execute_result",
          "data": {
            "text/html": [
              "<div>\n",
              "<style scoped>\n",
              "    .dataframe tbody tr th:only-of-type {\n",
              "        vertical-align: middle;\n",
              "    }\n",
              "\n",
              "    .dataframe tbody tr th {\n",
              "        vertical-align: top;\n",
              "    }\n",
              "\n",
              "    .dataframe thead th {\n",
              "        text-align: right;\n",
              "    }\n",
              "</style>\n",
              "<table border=\"1\" class=\"dataframe\">\n",
              "  <thead>\n",
              "    <tr style=\"text-align: right;\">\n",
              "      <th></th>\n",
              "      <th>births</th>\n",
              "      <th>lag1</th>\n",
              "      <th>lag2</th>\n",
              "      <th>lag3</th>\n",
              "      <th>MA3</th>\n",
              "      <th>MA4</th>\n",
              "      <th>MA5</th>\n",
              "      <th>MAX5</th>\n",
              "    </tr>\n",
              "    <tr>\n",
              "      <th>date</th>\n",
              "      <th></th>\n",
              "      <th></th>\n",
              "      <th></th>\n",
              "      <th></th>\n",
              "      <th></th>\n",
              "      <th></th>\n",
              "      <th></th>\n",
              "      <th></th>\n",
              "    </tr>\n",
              "  </thead>\n",
              "  <tbody>\n",
              "    <tr>\n",
              "      <th>1959-01-01</th>\n",
              "      <td>35</td>\n",
              "      <td>NaN</td>\n",
              "      <td>NaN</td>\n",
              "      <td>NaN</td>\n",
              "      <td>NaN</td>\n",
              "      <td>NaN</td>\n",
              "      <td>NaN</td>\n",
              "      <td>NaN</td>\n",
              "    </tr>\n",
              "    <tr>\n",
              "      <th>1959-01-02</th>\n",
              "      <td>32</td>\n",
              "      <td>35.0</td>\n",
              "      <td>NaN</td>\n",
              "      <td>NaN</td>\n",
              "      <td>NaN</td>\n",
              "      <td>NaN</td>\n",
              "      <td>NaN</td>\n",
              "      <td>NaN</td>\n",
              "    </tr>\n",
              "    <tr>\n",
              "      <th>1959-01-03</th>\n",
              "      <td>30</td>\n",
              "      <td>32.0</td>\n",
              "      <td>35.0</td>\n",
              "      <td>NaN</td>\n",
              "      <td>32.333333</td>\n",
              "      <td>NaN</td>\n",
              "      <td>NaN</td>\n",
              "      <td>NaN</td>\n",
              "    </tr>\n",
              "    <tr>\n",
              "      <th>1959-01-04</th>\n",
              "      <td>31</td>\n",
              "      <td>30.0</td>\n",
              "      <td>32.0</td>\n",
              "      <td>35.0</td>\n",
              "      <td>31.000000</td>\n",
              "      <td>32.00</td>\n",
              "      <td>NaN</td>\n",
              "      <td>NaN</td>\n",
              "    </tr>\n",
              "    <tr>\n",
              "      <th>1959-01-05</th>\n",
              "      <td>44</td>\n",
              "      <td>31.0</td>\n",
              "      <td>30.0</td>\n",
              "      <td>32.0</td>\n",
              "      <td>35.000000</td>\n",
              "      <td>34.25</td>\n",
              "      <td>34.4</td>\n",
              "      <td>44.0</td>\n",
              "    </tr>\n",
              "  </tbody>\n",
              "</table>\n",
              "</div>"
            ],
            "text/plain": [
              "            births  lag1  lag2  lag3        MA3    MA4   MA5  MAX5\n",
              "date                                                              \n",
              "1959-01-01      35   NaN   NaN   NaN        NaN    NaN   NaN   NaN\n",
              "1959-01-02      32  35.0   NaN   NaN        NaN    NaN   NaN   NaN\n",
              "1959-01-03      30  32.0  35.0   NaN  32.333333    NaN   NaN   NaN\n",
              "1959-01-04      31  30.0  32.0  35.0  31.000000  32.00   NaN   NaN\n",
              "1959-01-05      44  31.0  30.0  32.0  35.000000  34.25  34.4  44.0"
            ]
          },
          "metadata": {
            "tags": []
          },
          "execution_count": 107
        }
      ]
    },
    {
      "cell_type": "code",
      "metadata": {
        "id": "PNZWzxuvtW2l"
      },
      "source": [
        "f_birth['MIN5']=f_birth['births'].rolling(window=5).min()"
      ],
      "execution_count": 108,
      "outputs": []
    },
    {
      "cell_type": "code",
      "metadata": {
        "colab": {
          "base_uri": "https://localhost:8080/",
          "height": 225
        },
        "id": "FWjOG2cJtW6g",
        "outputId": "b3d8251f-7bb1-42e3-9aa4-03d7f445b27c"
      },
      "source": [
        "f_birth.head()"
      ],
      "execution_count": 109,
      "outputs": [
        {
          "output_type": "execute_result",
          "data": {
            "text/html": [
              "<div>\n",
              "<style scoped>\n",
              "    .dataframe tbody tr th:only-of-type {\n",
              "        vertical-align: middle;\n",
              "    }\n",
              "\n",
              "    .dataframe tbody tr th {\n",
              "        vertical-align: top;\n",
              "    }\n",
              "\n",
              "    .dataframe thead th {\n",
              "        text-align: right;\n",
              "    }\n",
              "</style>\n",
              "<table border=\"1\" class=\"dataframe\">\n",
              "  <thead>\n",
              "    <tr style=\"text-align: right;\">\n",
              "      <th></th>\n",
              "      <th>births</th>\n",
              "      <th>lag1</th>\n",
              "      <th>lag2</th>\n",
              "      <th>lag3</th>\n",
              "      <th>MA3</th>\n",
              "      <th>MA4</th>\n",
              "      <th>MA5</th>\n",
              "      <th>MAX5</th>\n",
              "      <th>MIN5</th>\n",
              "    </tr>\n",
              "    <tr>\n",
              "      <th>date</th>\n",
              "      <th></th>\n",
              "      <th></th>\n",
              "      <th></th>\n",
              "      <th></th>\n",
              "      <th></th>\n",
              "      <th></th>\n",
              "      <th></th>\n",
              "      <th></th>\n",
              "      <th></th>\n",
              "    </tr>\n",
              "  </thead>\n",
              "  <tbody>\n",
              "    <tr>\n",
              "      <th>1959-01-01</th>\n",
              "      <td>35</td>\n",
              "      <td>NaN</td>\n",
              "      <td>NaN</td>\n",
              "      <td>NaN</td>\n",
              "      <td>NaN</td>\n",
              "      <td>NaN</td>\n",
              "      <td>NaN</td>\n",
              "      <td>NaN</td>\n",
              "      <td>NaN</td>\n",
              "    </tr>\n",
              "    <tr>\n",
              "      <th>1959-01-02</th>\n",
              "      <td>32</td>\n",
              "      <td>35.0</td>\n",
              "      <td>NaN</td>\n",
              "      <td>NaN</td>\n",
              "      <td>NaN</td>\n",
              "      <td>NaN</td>\n",
              "      <td>NaN</td>\n",
              "      <td>NaN</td>\n",
              "      <td>NaN</td>\n",
              "    </tr>\n",
              "    <tr>\n",
              "      <th>1959-01-03</th>\n",
              "      <td>30</td>\n",
              "      <td>32.0</td>\n",
              "      <td>35.0</td>\n",
              "      <td>NaN</td>\n",
              "      <td>32.333333</td>\n",
              "      <td>NaN</td>\n",
              "      <td>NaN</td>\n",
              "      <td>NaN</td>\n",
              "      <td>NaN</td>\n",
              "    </tr>\n",
              "    <tr>\n",
              "      <th>1959-01-04</th>\n",
              "      <td>31</td>\n",
              "      <td>30.0</td>\n",
              "      <td>32.0</td>\n",
              "      <td>35.0</td>\n",
              "      <td>31.000000</td>\n",
              "      <td>32.00</td>\n",
              "      <td>NaN</td>\n",
              "      <td>NaN</td>\n",
              "      <td>NaN</td>\n",
              "    </tr>\n",
              "    <tr>\n",
              "      <th>1959-01-05</th>\n",
              "      <td>44</td>\n",
              "      <td>31.0</td>\n",
              "      <td>30.0</td>\n",
              "      <td>32.0</td>\n",
              "      <td>35.000000</td>\n",
              "      <td>34.25</td>\n",
              "      <td>34.4</td>\n",
              "      <td>44.0</td>\n",
              "      <td>30.0</td>\n",
              "    </tr>\n",
              "  </tbody>\n",
              "</table>\n",
              "</div>"
            ],
            "text/plain": [
              "            births  lag1  lag2  lag3        MA3    MA4   MA5  MAX5  MIN5\n",
              "date                                                                    \n",
              "1959-01-01      35   NaN   NaN   NaN        NaN    NaN   NaN   NaN   NaN\n",
              "1959-01-02      32  35.0   NaN   NaN        NaN    NaN   NaN   NaN   NaN\n",
              "1959-01-03      30  32.0  35.0   NaN  32.333333    NaN   NaN   NaN   NaN\n",
              "1959-01-04      31  30.0  32.0  35.0  31.000000  32.00   NaN   NaN   NaN\n",
              "1959-01-05      44  31.0  30.0  32.0  35.000000  34.25  34.4  44.0  30.0"
            ]
          },
          "metadata": {
            "tags": []
          },
          "execution_count": 109
        }
      ]
    },
    {
      "cell_type": "code",
      "metadata": {
        "id": "3GNrLbOItW-5"
      },
      "source": [
        "f_birth['day']=f_birth.index.day"
      ],
      "execution_count": 110,
      "outputs": []
    },
    {
      "cell_type": "code",
      "metadata": {
        "colab": {
          "base_uri": "https://localhost:8080/",
          "height": 225
        },
        "id": "S4idR0KqtXCZ",
        "outputId": "7559aa6e-c540-4a89-bf45-6e71eb3fd54f"
      },
      "source": [
        "f_birth.head()"
      ],
      "execution_count": 111,
      "outputs": [
        {
          "output_type": "execute_result",
          "data": {
            "text/html": [
              "<div>\n",
              "<style scoped>\n",
              "    .dataframe tbody tr th:only-of-type {\n",
              "        vertical-align: middle;\n",
              "    }\n",
              "\n",
              "    .dataframe tbody tr th {\n",
              "        vertical-align: top;\n",
              "    }\n",
              "\n",
              "    .dataframe thead th {\n",
              "        text-align: right;\n",
              "    }\n",
              "</style>\n",
              "<table border=\"1\" class=\"dataframe\">\n",
              "  <thead>\n",
              "    <tr style=\"text-align: right;\">\n",
              "      <th></th>\n",
              "      <th>births</th>\n",
              "      <th>lag1</th>\n",
              "      <th>lag2</th>\n",
              "      <th>lag3</th>\n",
              "      <th>MA3</th>\n",
              "      <th>MA4</th>\n",
              "      <th>MA5</th>\n",
              "      <th>MAX5</th>\n",
              "      <th>MIN5</th>\n",
              "      <th>day</th>\n",
              "    </tr>\n",
              "    <tr>\n",
              "      <th>date</th>\n",
              "      <th></th>\n",
              "      <th></th>\n",
              "      <th></th>\n",
              "      <th></th>\n",
              "      <th></th>\n",
              "      <th></th>\n",
              "      <th></th>\n",
              "      <th></th>\n",
              "      <th></th>\n",
              "      <th></th>\n",
              "    </tr>\n",
              "  </thead>\n",
              "  <tbody>\n",
              "    <tr>\n",
              "      <th>1959-01-01</th>\n",
              "      <td>35</td>\n",
              "      <td>NaN</td>\n",
              "      <td>NaN</td>\n",
              "      <td>NaN</td>\n",
              "      <td>NaN</td>\n",
              "      <td>NaN</td>\n",
              "      <td>NaN</td>\n",
              "      <td>NaN</td>\n",
              "      <td>NaN</td>\n",
              "      <td>1</td>\n",
              "    </tr>\n",
              "    <tr>\n",
              "      <th>1959-01-02</th>\n",
              "      <td>32</td>\n",
              "      <td>35.0</td>\n",
              "      <td>NaN</td>\n",
              "      <td>NaN</td>\n",
              "      <td>NaN</td>\n",
              "      <td>NaN</td>\n",
              "      <td>NaN</td>\n",
              "      <td>NaN</td>\n",
              "      <td>NaN</td>\n",
              "      <td>2</td>\n",
              "    </tr>\n",
              "    <tr>\n",
              "      <th>1959-01-03</th>\n",
              "      <td>30</td>\n",
              "      <td>32.0</td>\n",
              "      <td>35.0</td>\n",
              "      <td>NaN</td>\n",
              "      <td>32.333333</td>\n",
              "      <td>NaN</td>\n",
              "      <td>NaN</td>\n",
              "      <td>NaN</td>\n",
              "      <td>NaN</td>\n",
              "      <td>3</td>\n",
              "    </tr>\n",
              "    <tr>\n",
              "      <th>1959-01-04</th>\n",
              "      <td>31</td>\n",
              "      <td>30.0</td>\n",
              "      <td>32.0</td>\n",
              "      <td>35.0</td>\n",
              "      <td>31.000000</td>\n",
              "      <td>32.00</td>\n",
              "      <td>NaN</td>\n",
              "      <td>NaN</td>\n",
              "      <td>NaN</td>\n",
              "      <td>4</td>\n",
              "    </tr>\n",
              "    <tr>\n",
              "      <th>1959-01-05</th>\n",
              "      <td>44</td>\n",
              "      <td>31.0</td>\n",
              "      <td>30.0</td>\n",
              "      <td>32.0</td>\n",
              "      <td>35.000000</td>\n",
              "      <td>34.25</td>\n",
              "      <td>34.4</td>\n",
              "      <td>44.0</td>\n",
              "      <td>30.0</td>\n",
              "      <td>5</td>\n",
              "    </tr>\n",
              "  </tbody>\n",
              "</table>\n",
              "</div>"
            ],
            "text/plain": [
              "            births  lag1  lag2  lag3        MA3    MA4   MA5  MAX5  MIN5  day\n",
              "date                                                                         \n",
              "1959-01-01      35   NaN   NaN   NaN        NaN    NaN   NaN   NaN   NaN    1\n",
              "1959-01-02      32  35.0   NaN   NaN        NaN    NaN   NaN   NaN   NaN    2\n",
              "1959-01-03      30  32.0  35.0   NaN  32.333333    NaN   NaN   NaN   NaN    3\n",
              "1959-01-04      31  30.0  32.0  35.0  31.000000  32.00   NaN   NaN   NaN    4\n",
              "1959-01-05      44  31.0  30.0  32.0  35.000000  34.25  34.4  44.0  30.0    5"
            ]
          },
          "metadata": {
            "tags": []
          },
          "execution_count": 111
        }
      ]
    },
    {
      "cell_type": "code",
      "metadata": {
        "id": "3hmEC1wXtXHB"
      },
      "source": [
        "f_birth['month']=f_birth.index.month"
      ],
      "execution_count": 112,
      "outputs": []
    },
    {
      "cell_type": "code",
      "metadata": {
        "colab": {
          "base_uri": "https://localhost:8080/",
          "height": 225
        },
        "id": "q6glqn9IugJT",
        "outputId": "0b8f338e-7401-4605-b398-ef839e481e55"
      },
      "source": [
        "f_birth.head()"
      ],
      "execution_count": 113,
      "outputs": [
        {
          "output_type": "execute_result",
          "data": {
            "text/html": [
              "<div>\n",
              "<style scoped>\n",
              "    .dataframe tbody tr th:only-of-type {\n",
              "        vertical-align: middle;\n",
              "    }\n",
              "\n",
              "    .dataframe tbody tr th {\n",
              "        vertical-align: top;\n",
              "    }\n",
              "\n",
              "    .dataframe thead th {\n",
              "        text-align: right;\n",
              "    }\n",
              "</style>\n",
              "<table border=\"1\" class=\"dataframe\">\n",
              "  <thead>\n",
              "    <tr style=\"text-align: right;\">\n",
              "      <th></th>\n",
              "      <th>births</th>\n",
              "      <th>lag1</th>\n",
              "      <th>lag2</th>\n",
              "      <th>lag3</th>\n",
              "      <th>MA3</th>\n",
              "      <th>MA4</th>\n",
              "      <th>MA5</th>\n",
              "      <th>MAX5</th>\n",
              "      <th>MIN5</th>\n",
              "      <th>day</th>\n",
              "      <th>month</th>\n",
              "    </tr>\n",
              "    <tr>\n",
              "      <th>date</th>\n",
              "      <th></th>\n",
              "      <th></th>\n",
              "      <th></th>\n",
              "      <th></th>\n",
              "      <th></th>\n",
              "      <th></th>\n",
              "      <th></th>\n",
              "      <th></th>\n",
              "      <th></th>\n",
              "      <th></th>\n",
              "      <th></th>\n",
              "    </tr>\n",
              "  </thead>\n",
              "  <tbody>\n",
              "    <tr>\n",
              "      <th>1959-01-01</th>\n",
              "      <td>35</td>\n",
              "      <td>NaN</td>\n",
              "      <td>NaN</td>\n",
              "      <td>NaN</td>\n",
              "      <td>NaN</td>\n",
              "      <td>NaN</td>\n",
              "      <td>NaN</td>\n",
              "      <td>NaN</td>\n",
              "      <td>NaN</td>\n",
              "      <td>1</td>\n",
              "      <td>1</td>\n",
              "    </tr>\n",
              "    <tr>\n",
              "      <th>1959-01-02</th>\n",
              "      <td>32</td>\n",
              "      <td>35.0</td>\n",
              "      <td>NaN</td>\n",
              "      <td>NaN</td>\n",
              "      <td>NaN</td>\n",
              "      <td>NaN</td>\n",
              "      <td>NaN</td>\n",
              "      <td>NaN</td>\n",
              "      <td>NaN</td>\n",
              "      <td>2</td>\n",
              "      <td>1</td>\n",
              "    </tr>\n",
              "    <tr>\n",
              "      <th>1959-01-03</th>\n",
              "      <td>30</td>\n",
              "      <td>32.0</td>\n",
              "      <td>35.0</td>\n",
              "      <td>NaN</td>\n",
              "      <td>32.333333</td>\n",
              "      <td>NaN</td>\n",
              "      <td>NaN</td>\n",
              "      <td>NaN</td>\n",
              "      <td>NaN</td>\n",
              "      <td>3</td>\n",
              "      <td>1</td>\n",
              "    </tr>\n",
              "    <tr>\n",
              "      <th>1959-01-04</th>\n",
              "      <td>31</td>\n",
              "      <td>30.0</td>\n",
              "      <td>32.0</td>\n",
              "      <td>35.0</td>\n",
              "      <td>31.000000</td>\n",
              "      <td>32.00</td>\n",
              "      <td>NaN</td>\n",
              "      <td>NaN</td>\n",
              "      <td>NaN</td>\n",
              "      <td>4</td>\n",
              "      <td>1</td>\n",
              "    </tr>\n",
              "    <tr>\n",
              "      <th>1959-01-05</th>\n",
              "      <td>44</td>\n",
              "      <td>31.0</td>\n",
              "      <td>30.0</td>\n",
              "      <td>32.0</td>\n",
              "      <td>35.000000</td>\n",
              "      <td>34.25</td>\n",
              "      <td>34.4</td>\n",
              "      <td>44.0</td>\n",
              "      <td>30.0</td>\n",
              "      <td>5</td>\n",
              "      <td>1</td>\n",
              "    </tr>\n",
              "  </tbody>\n",
              "</table>\n",
              "</div>"
            ],
            "text/plain": [
              "            births  lag1  lag2  lag3        MA3  ...   MA5  MAX5  MIN5  day  month\n",
              "date                                             ...                              \n",
              "1959-01-01      35   NaN   NaN   NaN        NaN  ...   NaN   NaN   NaN    1      1\n",
              "1959-01-02      32  35.0   NaN   NaN        NaN  ...   NaN   NaN   NaN    2      1\n",
              "1959-01-03      30  32.0  35.0   NaN  32.333333  ...   NaN   NaN   NaN    3      1\n",
              "1959-01-04      31  30.0  32.0  35.0  31.000000  ...   NaN   NaN   NaN    4      1\n",
              "1959-01-05      44  31.0  30.0  32.0  35.000000  ...  34.4  44.0  30.0    5      1\n",
              "\n",
              "[5 rows x 11 columns]"
            ]
          },
          "metadata": {
            "tags": []
          },
          "execution_count": 113
        }
      ]
    },
    {
      "cell_type": "code",
      "metadata": {
        "id": "SPxcDYVauhEn"
      },
      "source": [
        "f_birth['year']=f_birth.index.year"
      ],
      "execution_count": 114,
      "outputs": []
    },
    {
      "cell_type": "code",
      "metadata": {
        "colab": {
          "base_uri": "https://localhost:8080/",
          "height": 225
        },
        "id": "94tOAo5EuhI3",
        "outputId": "8ccc2235-e8f4-4ef9-dc0e-833529fa1b99"
      },
      "source": [
        "f_birth.head()"
      ],
      "execution_count": 115,
      "outputs": [
        {
          "output_type": "execute_result",
          "data": {
            "text/html": [
              "<div>\n",
              "<style scoped>\n",
              "    .dataframe tbody tr th:only-of-type {\n",
              "        vertical-align: middle;\n",
              "    }\n",
              "\n",
              "    .dataframe tbody tr th {\n",
              "        vertical-align: top;\n",
              "    }\n",
              "\n",
              "    .dataframe thead th {\n",
              "        text-align: right;\n",
              "    }\n",
              "</style>\n",
              "<table border=\"1\" class=\"dataframe\">\n",
              "  <thead>\n",
              "    <tr style=\"text-align: right;\">\n",
              "      <th></th>\n",
              "      <th>births</th>\n",
              "      <th>lag1</th>\n",
              "      <th>lag2</th>\n",
              "      <th>lag3</th>\n",
              "      <th>MA3</th>\n",
              "      <th>MA4</th>\n",
              "      <th>MA5</th>\n",
              "      <th>MAX5</th>\n",
              "      <th>MIN5</th>\n",
              "      <th>day</th>\n",
              "      <th>month</th>\n",
              "      <th>year</th>\n",
              "    </tr>\n",
              "    <tr>\n",
              "      <th>date</th>\n",
              "      <th></th>\n",
              "      <th></th>\n",
              "      <th></th>\n",
              "      <th></th>\n",
              "      <th></th>\n",
              "      <th></th>\n",
              "      <th></th>\n",
              "      <th></th>\n",
              "      <th></th>\n",
              "      <th></th>\n",
              "      <th></th>\n",
              "      <th></th>\n",
              "    </tr>\n",
              "  </thead>\n",
              "  <tbody>\n",
              "    <tr>\n",
              "      <th>1959-01-01</th>\n",
              "      <td>35</td>\n",
              "      <td>NaN</td>\n",
              "      <td>NaN</td>\n",
              "      <td>NaN</td>\n",
              "      <td>NaN</td>\n",
              "      <td>NaN</td>\n",
              "      <td>NaN</td>\n",
              "      <td>NaN</td>\n",
              "      <td>NaN</td>\n",
              "      <td>1</td>\n",
              "      <td>1</td>\n",
              "      <td>1959</td>\n",
              "    </tr>\n",
              "    <tr>\n",
              "      <th>1959-01-02</th>\n",
              "      <td>32</td>\n",
              "      <td>35.0</td>\n",
              "      <td>NaN</td>\n",
              "      <td>NaN</td>\n",
              "      <td>NaN</td>\n",
              "      <td>NaN</td>\n",
              "      <td>NaN</td>\n",
              "      <td>NaN</td>\n",
              "      <td>NaN</td>\n",
              "      <td>2</td>\n",
              "      <td>1</td>\n",
              "      <td>1959</td>\n",
              "    </tr>\n",
              "    <tr>\n",
              "      <th>1959-01-03</th>\n",
              "      <td>30</td>\n",
              "      <td>32.0</td>\n",
              "      <td>35.0</td>\n",
              "      <td>NaN</td>\n",
              "      <td>32.333333</td>\n",
              "      <td>NaN</td>\n",
              "      <td>NaN</td>\n",
              "      <td>NaN</td>\n",
              "      <td>NaN</td>\n",
              "      <td>3</td>\n",
              "      <td>1</td>\n",
              "      <td>1959</td>\n",
              "    </tr>\n",
              "    <tr>\n",
              "      <th>1959-01-04</th>\n",
              "      <td>31</td>\n",
              "      <td>30.0</td>\n",
              "      <td>32.0</td>\n",
              "      <td>35.0</td>\n",
              "      <td>31.000000</td>\n",
              "      <td>32.00</td>\n",
              "      <td>NaN</td>\n",
              "      <td>NaN</td>\n",
              "      <td>NaN</td>\n",
              "      <td>4</td>\n",
              "      <td>1</td>\n",
              "      <td>1959</td>\n",
              "    </tr>\n",
              "    <tr>\n",
              "      <th>1959-01-05</th>\n",
              "      <td>44</td>\n",
              "      <td>31.0</td>\n",
              "      <td>30.0</td>\n",
              "      <td>32.0</td>\n",
              "      <td>35.000000</td>\n",
              "      <td>34.25</td>\n",
              "      <td>34.4</td>\n",
              "      <td>44.0</td>\n",
              "      <td>30.0</td>\n",
              "      <td>5</td>\n",
              "      <td>1</td>\n",
              "      <td>1959</td>\n",
              "    </tr>\n",
              "  </tbody>\n",
              "</table>\n",
              "</div>"
            ],
            "text/plain": [
              "            births  lag1  lag2  lag3        MA3  ...  MAX5  MIN5  day  month  year\n",
              "date                                             ...                              \n",
              "1959-01-01      35   NaN   NaN   NaN        NaN  ...   NaN   NaN    1      1  1959\n",
              "1959-01-02      32  35.0   NaN   NaN        NaN  ...   NaN   NaN    2      1  1959\n",
              "1959-01-03      30  32.0  35.0   NaN  32.333333  ...   NaN   NaN    3      1  1959\n",
              "1959-01-04      31  30.0  32.0  35.0  31.000000  ...   NaN   NaN    4      1  1959\n",
              "1959-01-05      44  31.0  30.0  32.0  35.000000  ...  44.0  30.0    5      1  1959\n",
              "\n",
              "[5 rows x 12 columns]"
            ]
          },
          "metadata": {
            "tags": []
          },
          "execution_count": 115
        }
      ]
    },
    {
      "cell_type": "code",
      "metadata": {
        "colab": {
          "base_uri": "https://localhost:8080/",
          "height": 431
        },
        "id": "X6zakMOuuhMC",
        "outputId": "cdaf01b9-2443-46a8-9491-a277349fe540"
      },
      "source": [
        "f_birth.dropna()"
      ],
      "execution_count": 116,
      "outputs": [
        {
          "output_type": "execute_result",
          "data": {
            "text/html": [
              "<div>\n",
              "<style scoped>\n",
              "    .dataframe tbody tr th:only-of-type {\n",
              "        vertical-align: middle;\n",
              "    }\n",
              "\n",
              "    .dataframe tbody tr th {\n",
              "        vertical-align: top;\n",
              "    }\n",
              "\n",
              "    .dataframe thead th {\n",
              "        text-align: right;\n",
              "    }\n",
              "</style>\n",
              "<table border=\"1\" class=\"dataframe\">\n",
              "  <thead>\n",
              "    <tr style=\"text-align: right;\">\n",
              "      <th></th>\n",
              "      <th>births</th>\n",
              "      <th>lag1</th>\n",
              "      <th>lag2</th>\n",
              "      <th>lag3</th>\n",
              "      <th>MA3</th>\n",
              "      <th>MA4</th>\n",
              "      <th>MA5</th>\n",
              "      <th>MAX5</th>\n",
              "      <th>MIN5</th>\n",
              "      <th>day</th>\n",
              "      <th>month</th>\n",
              "      <th>year</th>\n",
              "    </tr>\n",
              "    <tr>\n",
              "      <th>date</th>\n",
              "      <th></th>\n",
              "      <th></th>\n",
              "      <th></th>\n",
              "      <th></th>\n",
              "      <th></th>\n",
              "      <th></th>\n",
              "      <th></th>\n",
              "      <th></th>\n",
              "      <th></th>\n",
              "      <th></th>\n",
              "      <th></th>\n",
              "      <th></th>\n",
              "    </tr>\n",
              "  </thead>\n",
              "  <tbody>\n",
              "    <tr>\n",
              "      <th>1959-01-05</th>\n",
              "      <td>44</td>\n",
              "      <td>31.0</td>\n",
              "      <td>30.0</td>\n",
              "      <td>32.0</td>\n",
              "      <td>35.000000</td>\n",
              "      <td>34.25</td>\n",
              "      <td>34.4</td>\n",
              "      <td>44.0</td>\n",
              "      <td>30.0</td>\n",
              "      <td>5</td>\n",
              "      <td>1</td>\n",
              "      <td>1959</td>\n",
              "    </tr>\n",
              "    <tr>\n",
              "      <th>1959-01-06</th>\n",
              "      <td>29</td>\n",
              "      <td>44.0</td>\n",
              "      <td>31.0</td>\n",
              "      <td>30.0</td>\n",
              "      <td>34.666667</td>\n",
              "      <td>33.50</td>\n",
              "      <td>33.2</td>\n",
              "      <td>44.0</td>\n",
              "      <td>29.0</td>\n",
              "      <td>6</td>\n",
              "      <td>1</td>\n",
              "      <td>1959</td>\n",
              "    </tr>\n",
              "    <tr>\n",
              "      <th>1959-01-07</th>\n",
              "      <td>45</td>\n",
              "      <td>29.0</td>\n",
              "      <td>44.0</td>\n",
              "      <td>31.0</td>\n",
              "      <td>39.333333</td>\n",
              "      <td>37.25</td>\n",
              "      <td>35.8</td>\n",
              "      <td>45.0</td>\n",
              "      <td>29.0</td>\n",
              "      <td>7</td>\n",
              "      <td>1</td>\n",
              "      <td>1959</td>\n",
              "    </tr>\n",
              "    <tr>\n",
              "      <th>1959-01-08</th>\n",
              "      <td>43</td>\n",
              "      <td>45.0</td>\n",
              "      <td>29.0</td>\n",
              "      <td>44.0</td>\n",
              "      <td>39.000000</td>\n",
              "      <td>40.25</td>\n",
              "      <td>38.4</td>\n",
              "      <td>45.0</td>\n",
              "      <td>29.0</td>\n",
              "      <td>8</td>\n",
              "      <td>1</td>\n",
              "      <td>1959</td>\n",
              "    </tr>\n",
              "    <tr>\n",
              "      <th>1959-01-09</th>\n",
              "      <td>38</td>\n",
              "      <td>43.0</td>\n",
              "      <td>45.0</td>\n",
              "      <td>29.0</td>\n",
              "      <td>42.000000</td>\n",
              "      <td>38.75</td>\n",
              "      <td>39.8</td>\n",
              "      <td>45.0</td>\n",
              "      <td>29.0</td>\n",
              "      <td>9</td>\n",
              "      <td>1</td>\n",
              "      <td>1959</td>\n",
              "    </tr>\n",
              "    <tr>\n",
              "      <th>...</th>\n",
              "      <td>...</td>\n",
              "      <td>...</td>\n",
              "      <td>...</td>\n",
              "      <td>...</td>\n",
              "      <td>...</td>\n",
              "      <td>...</td>\n",
              "      <td>...</td>\n",
              "      <td>...</td>\n",
              "      <td>...</td>\n",
              "      <td>...</td>\n",
              "      <td>...</td>\n",
              "      <td>...</td>\n",
              "    </tr>\n",
              "    <tr>\n",
              "      <th>1959-12-27</th>\n",
              "      <td>37</td>\n",
              "      <td>34.0</td>\n",
              "      <td>44.0</td>\n",
              "      <td>38.0</td>\n",
              "      <td>38.333333</td>\n",
              "      <td>38.25</td>\n",
              "      <td>38.6</td>\n",
              "      <td>44.0</td>\n",
              "      <td>34.0</td>\n",
              "      <td>27</td>\n",
              "      <td>12</td>\n",
              "      <td>1959</td>\n",
              "    </tr>\n",
              "    <tr>\n",
              "      <th>1959-12-28</th>\n",
              "      <td>52</td>\n",
              "      <td>37.0</td>\n",
              "      <td>34.0</td>\n",
              "      <td>44.0</td>\n",
              "      <td>41.000000</td>\n",
              "      <td>41.75</td>\n",
              "      <td>41.0</td>\n",
              "      <td>52.0</td>\n",
              "      <td>34.0</td>\n",
              "      <td>28</td>\n",
              "      <td>12</td>\n",
              "      <td>1959</td>\n",
              "    </tr>\n",
              "    <tr>\n",
              "      <th>1959-12-29</th>\n",
              "      <td>48</td>\n",
              "      <td>52.0</td>\n",
              "      <td>37.0</td>\n",
              "      <td>34.0</td>\n",
              "      <td>45.666667</td>\n",
              "      <td>42.75</td>\n",
              "      <td>43.0</td>\n",
              "      <td>52.0</td>\n",
              "      <td>34.0</td>\n",
              "      <td>29</td>\n",
              "      <td>12</td>\n",
              "      <td>1959</td>\n",
              "    </tr>\n",
              "    <tr>\n",
              "      <th>1959-12-30</th>\n",
              "      <td>55</td>\n",
              "      <td>48.0</td>\n",
              "      <td>52.0</td>\n",
              "      <td>37.0</td>\n",
              "      <td>51.666667</td>\n",
              "      <td>48.00</td>\n",
              "      <td>45.2</td>\n",
              "      <td>55.0</td>\n",
              "      <td>34.0</td>\n",
              "      <td>30</td>\n",
              "      <td>12</td>\n",
              "      <td>1959</td>\n",
              "    </tr>\n",
              "    <tr>\n",
              "      <th>1959-12-31</th>\n",
              "      <td>50</td>\n",
              "      <td>55.0</td>\n",
              "      <td>48.0</td>\n",
              "      <td>52.0</td>\n",
              "      <td>51.000000</td>\n",
              "      <td>51.25</td>\n",
              "      <td>48.4</td>\n",
              "      <td>55.0</td>\n",
              "      <td>37.0</td>\n",
              "      <td>31</td>\n",
              "      <td>12</td>\n",
              "      <td>1959</td>\n",
              "    </tr>\n",
              "  </tbody>\n",
              "</table>\n",
              "<p>361 rows × 12 columns</p>\n",
              "</div>"
            ],
            "text/plain": [
              "            births  lag1  lag2  lag3        MA3  ...  MAX5  MIN5  day  month  year\n",
              "date                                             ...                              \n",
              "1959-01-05      44  31.0  30.0  32.0  35.000000  ...  44.0  30.0    5      1  1959\n",
              "1959-01-06      29  44.0  31.0  30.0  34.666667  ...  44.0  29.0    6      1  1959\n",
              "1959-01-07      45  29.0  44.0  31.0  39.333333  ...  45.0  29.0    7      1  1959\n",
              "1959-01-08      43  45.0  29.0  44.0  39.000000  ...  45.0  29.0    8      1  1959\n",
              "1959-01-09      38  43.0  45.0  29.0  42.000000  ...  45.0  29.0    9      1  1959\n",
              "...            ...   ...   ...   ...        ...  ...   ...   ...  ...    ...   ...\n",
              "1959-12-27      37  34.0  44.0  38.0  38.333333  ...  44.0  34.0   27     12  1959\n",
              "1959-12-28      52  37.0  34.0  44.0  41.000000  ...  52.0  34.0   28     12  1959\n",
              "1959-12-29      48  52.0  37.0  34.0  45.666667  ...  52.0  34.0   29     12  1959\n",
              "1959-12-30      55  48.0  52.0  37.0  51.666667  ...  55.0  34.0   30     12  1959\n",
              "1959-12-31      50  55.0  48.0  52.0  51.000000  ...  55.0  37.0   31     12  1959\n",
              "\n",
              "[361 rows x 12 columns]"
            ]
          },
          "metadata": {
            "tags": []
          },
          "execution_count": 116
        }
      ]
    },
    {
      "cell_type": "code",
      "metadata": {
        "id": "XSovcVkJSFkv"
      },
      "source": [
        "f_birth=pd.read_csv(\"daily-total-female-births-CA.csv\",index_col=[0],parse_dates=[0])"
      ],
      "execution_count": null,
      "outputs": []
    },
    {
      "cell_type": "code",
      "metadata": {
        "colab": {
          "base_uri": "https://localhost:8080/",
          "height": 308
        },
        "id": "3DHnrTdWuhPg",
        "outputId": "231e64b1-16dc-41c7-8a1e-9a038b40f748"
      },
      "source": [
        "f_birth.plot()"
      ],
      "execution_count": 139,
      "outputs": [
        {
          "output_type": "execute_result",
          "data": {
            "text/plain": [
              "<matplotlib.axes._subplots.AxesSubplot at 0x7fbdc9c89208>"
            ]
          },
          "metadata": {
            "tags": []
          },
          "execution_count": 139
        },
        {
          "output_type": "display_data",
          "data": {
            "image/png": "[encoded data removed]",
            "text/plain": [
              "<Figure size 432x288 with 1 Axes>"
            ]
          },
          "metadata": {
            "tags": [],
            "needs_background": "light"
          }
        }
      ]
    },
    {
      "cell_type": "code",
      "metadata": {
        "colab": {
          "base_uri": "https://localhost:8080/",
          "height": 282
        },
        "id": "PzgzkUgWuhSr",
        "outputId": "7f5fc371-7d4f-45e5-9ff4-8cd5ce41d2d5"
      },
      "source": [
        "f_birth.hist()"
      ],
      "execution_count": 140,
      "outputs": [
        {
          "output_type": "execute_result",
          "data": {
            "text/plain": [
              "<matplotlib.axes._subplots.AxesSubplot at 0x7fbdc997e710>"
            ]
          },
          "metadata": {
            "tags": []
          },
          "execution_count": 140
        },
        {
          "output_type": "display_data",
          "data": {
            "image/png": "[encoded data removed]",
            "text/plain": [
              "<Figure size 432x288 with 1 Axes>"
            ]
          },
          "metadata": {
            "tags": [],
            "needs_background": "light"
          }
        }
      ]
    },
    {
      "cell_type": "code",
      "metadata": {
        "id": "InDv1rsmuhVf"
      },
      "source": [
        "f_birth_1=f_birth[0:201]\r\n",
        "f_birth_2=f_birth[201:365]"
      ],
      "execution_count": 119,
      "outputs": []
    },
    {
      "cell_type": "code",
      "metadata": {
        "colab": {
          "base_uri": "https://localhost:8080/",
          "height": 225
        },
        "id": "_1qSgsQ-2reT",
        "outputId": "740bc33c-528b-4796-999e-49d9e44b5ee5"
      },
      "source": [
        "f_birth_2.head()"
      ],
      "execution_count": 120,
      "outputs": [
        {
          "output_type": "execute_result",
          "data": {
            "text/html": [
              "<div>\n",
              "<style scoped>\n",
              "    .dataframe tbody tr th:only-of-type {\n",
              "        vertical-align: middle;\n",
              "    }\n",
              "\n",
              "    .dataframe tbody tr th {\n",
              "        vertical-align: top;\n",
              "    }\n",
              "\n",
              "    .dataframe thead th {\n",
              "        text-align: right;\n",
              "    }\n",
              "</style>\n",
              "<table border=\"1\" class=\"dataframe\">\n",
              "  <thead>\n",
              "    <tr style=\"text-align: right;\">\n",
              "      <th></th>\n",
              "      <th>births</th>\n",
              "      <th>lag1</th>\n",
              "      <th>lag2</th>\n",
              "      <th>lag3</th>\n",
              "      <th>MA3</th>\n",
              "      <th>MA4</th>\n",
              "      <th>MA5</th>\n",
              "      <th>MAX5</th>\n",
              "      <th>MIN5</th>\n",
              "      <th>day</th>\n",
              "      <th>month</th>\n",
              "      <th>year</th>\n",
              "    </tr>\n",
              "    <tr>\n",
              "      <th>date</th>\n",
              "      <th></th>\n",
              "      <th></th>\n",
              "      <th></th>\n",
              "      <th></th>\n",
              "      <th></th>\n",
              "      <th></th>\n",
              "      <th></th>\n",
              "      <th></th>\n",
              "      <th></th>\n",
              "      <th></th>\n",
              "      <th></th>\n",
              "      <th></th>\n",
              "    </tr>\n",
              "  </thead>\n",
              "  <tbody>\n",
              "    <tr>\n",
              "      <th>1959-07-21</th>\n",
              "      <td>47</td>\n",
              "      <td>45.0</td>\n",
              "      <td>45.0</td>\n",
              "      <td>45.0</td>\n",
              "      <td>45.666667</td>\n",
              "      <td>45.50</td>\n",
              "      <td>43.6</td>\n",
              "      <td>47.0</td>\n",
              "      <td>36.0</td>\n",
              "      <td>21</td>\n",
              "      <td>7</td>\n",
              "      <td>1959</td>\n",
              "    </tr>\n",
              "    <tr>\n",
              "      <th>1959-07-22</th>\n",
              "      <td>38</td>\n",
              "      <td>47.0</td>\n",
              "      <td>45.0</td>\n",
              "      <td>45.0</td>\n",
              "      <td>43.333333</td>\n",
              "      <td>43.75</td>\n",
              "      <td>44.0</td>\n",
              "      <td>47.0</td>\n",
              "      <td>38.0</td>\n",
              "      <td>22</td>\n",
              "      <td>7</td>\n",
              "      <td>1959</td>\n",
              "    </tr>\n",
              "    <tr>\n",
              "      <th>1959-07-23</th>\n",
              "      <td>42</td>\n",
              "      <td>38.0</td>\n",
              "      <td>47.0</td>\n",
              "      <td>45.0</td>\n",
              "      <td>42.333333</td>\n",
              "      <td>43.00</td>\n",
              "      <td>43.4</td>\n",
              "      <td>47.0</td>\n",
              "      <td>38.0</td>\n",
              "      <td>23</td>\n",
              "      <td>7</td>\n",
              "      <td>1959</td>\n",
              "    </tr>\n",
              "    <tr>\n",
              "      <th>1959-07-24</th>\n",
              "      <td>35</td>\n",
              "      <td>42.0</td>\n",
              "      <td>38.0</td>\n",
              "      <td>47.0</td>\n",
              "      <td>38.333333</td>\n",
              "      <td>40.50</td>\n",
              "      <td>41.4</td>\n",
              "      <td>47.0</td>\n",
              "      <td>35.0</td>\n",
              "      <td>24</td>\n",
              "      <td>7</td>\n",
              "      <td>1959</td>\n",
              "    </tr>\n",
              "    <tr>\n",
              "      <th>1959-07-25</th>\n",
              "      <td>36</td>\n",
              "      <td>35.0</td>\n",
              "      <td>42.0</td>\n",
              "      <td>38.0</td>\n",
              "      <td>37.666667</td>\n",
              "      <td>37.75</td>\n",
              "      <td>39.6</td>\n",
              "      <td>47.0</td>\n",
              "      <td>35.0</td>\n",
              "      <td>25</td>\n",
              "      <td>7</td>\n",
              "      <td>1959</td>\n",
              "    </tr>\n",
              "  </tbody>\n",
              "</table>\n",
              "</div>"
            ],
            "text/plain": [
              "            births  lag1  lag2  lag3        MA3  ...  MAX5  MIN5  day  month  year\n",
              "date                                             ...                              \n",
              "1959-07-21      47  45.0  45.0  45.0  45.666667  ...  47.0  36.0   21      7  1959\n",
              "1959-07-22      38  47.0  45.0  45.0  43.333333  ...  47.0  38.0   22      7  1959\n",
              "1959-07-23      42  38.0  47.0  45.0  42.333333  ...  47.0  38.0   23      7  1959\n",
              "1959-07-24      35  42.0  38.0  47.0  38.333333  ...  47.0  35.0   24      7  1959\n",
              "1959-07-25      36  35.0  42.0  38.0  37.666667  ...  47.0  35.0   25      7  1959\n",
              "\n",
              "[5 rows x 12 columns]"
            ]
          },
          "metadata": {
            "tags": []
          },
          "execution_count": 120
        }
      ]
    },
    {
      "cell_type": "code",
      "metadata": {
        "colab": {
          "base_uri": "https://localhost:8080/"
        },
        "id": "QGcktc_12rix",
        "outputId": "fd4875c6-6b2d-4826-95de-cfd1a95c17fc"
      },
      "source": [
        "f_birth_1.mean()"
      ],
      "execution_count": 121,
      "outputs": [
        {
          "output_type": "execute_result",
          "data": {
            "text/plain": [
              "births      40.024876\n",
              "lag1        40.000000\n",
              "lag2        39.974874\n",
              "lag3        39.949495\n",
              "MA3         40.030151\n",
              "MA4         40.039141\n",
              "MA5         40.057868\n",
              "MAX5        48.507614\n",
              "MIN5        32.395939\n",
              "day         15.094527\n",
              "month        3.855721\n",
              "year      1959.000000\n",
              "dtype: float64"
            ]
          },
          "metadata": {
            "tags": []
          },
          "execution_count": 121
        }
      ]
    },
    {
      "cell_type": "code",
      "metadata": {
        "colab": {
          "base_uri": "https://localhost:8080/"
        },
        "id": "tavIVXuA2rnB",
        "outputId": "46abb6c8-4f07-4d57-a99e-4b7d5ea7414b"
      },
      "source": [
        "f_birth_2.mean()"
      ],
      "execution_count": 122,
      "outputs": [
        {
          "output_type": "execute_result",
          "data": {
            "text/plain": [
              "births      44.378049\n",
              "lag1        44.347561\n",
              "lag2        44.286585\n",
              "lag3        44.268293\n",
              "MA3         44.337398\n",
              "MA4         44.320122\n",
              "MA5         44.290244\n",
              "MAX5        52.329268\n",
              "MIN5        37.506098\n",
              "day         16.487805\n",
              "month        9.798780\n",
              "year      1959.000000\n",
              "dtype: float64"
            ]
          },
          "metadata": {
            "tags": []
          },
          "execution_count": 122
        }
      ]
    },
    {
      "cell_type": "code",
      "metadata": {
        "colab": {
          "base_uri": "https://localhost:8080/"
        },
        "id": "f3KLjUuP2rqH",
        "outputId": "6cc26368-a5bc-4e66-aafc-c0439fb57c5f"
      },
      "source": [
        "f_birth_1.var()"
      ],
      "execution_count": 123,
      "outputs": [
        {
          "output_type": "execute_result",
          "data": {
            "text/plain": [
              "births    49.314378\n",
              "lag1      49.437186\n",
              "lag2      49.559972\n",
              "lag3      49.682715\n",
              "MA3       18.687077\n",
              "MA4       13.987356\n",
              "MA5       10.813165\n",
              "MAX5      26.292034\n",
              "MIN5      15.240392\n",
              "day       74.726020\n",
              "month      3.744080\n",
              "year       0.000000\n",
              "dtype: float64"
            ]
          },
          "metadata": {
            "tags": []
          },
          "execution_count": 123
        }
      ]
    },
    {
      "cell_type": "code",
      "metadata": {
        "colab": {
          "base_uri": "https://localhost:8080/"
        },
        "id": "1AOfB3JK2rtc",
        "outputId": "abdd8b4f-025a-4999-fffc-8e0ea6ece5b1"
      },
      "source": [
        "f_birth_2.var()"
      ],
      "execution_count": 124,
      "outputs": [
        {
          "output_type": "execute_result",
          "data": {
            "text/plain": [
              "births    49.573994\n",
              "lag1      49.381528\n",
              "lag2      48.684236\n",
              "lag3      48.602424\n",
              "MA3       22.425341\n",
              "MA4       18.292599\n",
              "MA5       15.727266\n",
              "MAX5      46.688463\n",
              "MIN5      15.355791\n",
              "day       80.496783\n",
              "month      2.456195\n",
              "year       0.000000\n",
              "dtype: float64"
            ]
          },
          "metadata": {
            "tags": []
          },
          "execution_count": 124
        }
      ]
    },
    {
      "cell_type": "code",
      "metadata": {
        "id": "GQOJANs-2rws"
      },
      "source": [
        "from statsmodels.tsa.stattools import adfuller"
      ],
      "execution_count": 125,
      "outputs": []
    },
    {
      "cell_type": "code",
      "metadata": {
        "id": "t9pjvSkr46kl"
      },
      "source": [
        "f_birth=pd.read_csv(\"daily-total-female-births-CA.csv\",index_col=[0],parse_dates=[0],squeeze=True)"
      ],
      "execution_count": 126,
      "outputs": []
    },
    {
      "cell_type": "code",
      "metadata": {
        "id": "0lhiOA0R2rz_"
      },
      "source": [
        "birth_series=f_birth.values"
      ],
      "execution_count": 127,
      "outputs": []
    },
    {
      "cell_type": "code",
      "metadata": {
        "id": "tZObsyHw4ykD"
      },
      "source": [
        "adf_test=adfuller(f_birth)"
      ],
      "execution_count": 128,
      "outputs": []
    },
    {
      "cell_type": "code",
      "metadata": {
        "colab": {
          "base_uri": "https://localhost:8080/"
        },
        "id": "_R8aOgsb2r-Z",
        "outputId": "99ad3353-e0e7-4499-aaf2-3c67e8367676"
      },
      "source": [
        "adf_test[0]"
      ],
      "execution_count": 129,
      "outputs": [
        {
          "output_type": "execute_result",
          "data": {
            "text/plain": [
              "-4.808291253559763"
            ]
          },
          "metadata": {
            "tags": []
          },
          "execution_count": 129
        }
      ]
    },
    {
      "cell_type": "code",
      "metadata": {
        "colab": {
          "base_uri": "https://localhost:8080/"
        },
        "id": "GJ8yWQoQ5gop",
        "outputId": "9380c20c-e7c8-4567-9b4d-6a69cc2a76a3"
      },
      "source": [
        "adf_test[1]"
      ],
      "execution_count": 130,
      "outputs": [
        {
          "output_type": "execute_result",
          "data": {
            "text/plain": [
              "5.243412990149865e-05"
            ]
          },
          "metadata": {
            "tags": []
          },
          "execution_count": 130
        }
      ]
    },
    {
      "cell_type": "code",
      "metadata": {
        "id": "rKzwVcuI5gud"
      },
      "source": [
        "#Automation of Testing"
      ],
      "execution_count": 131,
      "outputs": []
    },
    {
      "cell_type": "code",
      "metadata": {
        "id": "nsgxzqNG5gz1"
      },
      "source": [
        "def adf_test(dataset):\r\n",
        "  import pandas as pd\r\n",
        "  import matplotlib.pyplot as plt\r\n",
        "  %matplotlib inline\r\n",
        "  ds=pd.read_csv(dataset,index_col=[0],parse_dates=[0],squeeze=True)\r\n",
        "  print(ds.hist())\r\n",
        "  ds_split=int(len(ds)/2)\r\n",
        "  ds1=ds[0:ds_split]\r\n",
        "  ds2=ds[ds_split:]\r\n",
        "  print('Mean 1 -',ds1.mean())\r\n",
        "  print('Mean 2 -',ds2.mean())\r\n",
        "  print('Var 1 -',ds1.var())\r\n",
        "  print('Var 2 -',ds2.var())\r\n",
        "  from statsmodels.tsa.stattools import adfuller\r\n",
        "  adf_test=adfuller(ds)\r\n",
        "  print('ADfuller Statistics -',adf_test[0])\r\n",
        "  print('P value -', adf_test[1])"
      ],
      "execution_count": 132,
      "outputs": []
    },
    {
      "cell_type": "code",
      "metadata": {
        "colab": {
          "base_uri": "https://localhost:8080/",
          "height": 382
        },
        "id": "MdZ1rRdq5g3N",
        "outputId": "4d6f375e-c9e7-4abc-8fb4-e9be1edcd5e7"
      },
      "source": [
        "adf_test(\"daily-total-female-births-CA.csv\")"
      ],
      "execution_count": 133,
      "outputs": [
        {
          "output_type": "stream",
          "text": [
            "AxesSubplot(0.125,0.125;0.775x0.755)\n",
            "Mean 1 - 39.76373626373626\n",
            "Mean 2 - 44.185792349726775\n",
            "Var 1 - 49.48530751016939\n",
            "Var 2 - 48.97628055005103\n",
            "ADfuller Statistics - -4.808291253559763\n",
            "P value - 5.243412990149865e-05\n"
          ],
          "name": "stdout"
        },
        {
          "output_type": "display_data",
          "data": {
            "image/png": "[encoded data removed]",
            "text/plain": [
              "<Figure size 432x288 with 1 Axes>"
            ]
          },
          "metadata": {
            "tags": [],
            "needs_background": "light"
          }
        }
      ]
    },
    {
      "cell_type": "code",
      "metadata": {
        "id": "kplCkFP25g6i"
      },
      "source": [
        "#Hyperparameters Tuning"
      ],
      "execution_count": 134,
      "outputs": []
    },
    {
      "cell_type": "code",
      "metadata": {
        "id": "O5kty8Wu5g9V"
      },
      "source": [
        "from statsmodels.tsa.arima_model import ARIMA\r\n",
        "from sklearn.metrics import mean_squared_error\r\n",
        "import warnings\r\n",
        "warnings.filterwarnings(\"ignore\")"
      ],
      "execution_count": 135,
      "outputs": []
    },
    {
      "cell_type": "code",
      "metadata": {
        "id": "PQtmn-S5MQz5"
      },
      "source": [
        "f_birth=pd.read_csv(\"daily-total-female-births-CA.csv\",index_col=[0],parse_dates=[0],squeeze=True)"
      ],
      "execution_count": 136,
      "outputs": []
    },
    {
      "cell_type": "code",
      "metadata": {
        "id": "HM8PpPpdMQ4X"
      },
      "source": [
        "p_values=range(0,8)\r\n",
        "d_values=range(0,3)\r\n",
        "q_values=range(0,5)\r\n",
        "               "
      ],
      "execution_count": 137,
      "outputs": []
    },
    {
      "cell_type": "code",
      "metadata": {
        "colab": {
          "base_uri": "https://localhost:8080/"
        },
        "id": "aeoKt0AbMQ7J",
        "outputId": "2c3c9cda-e2f1-48db-8a22-d0b3fbb4654d"
      },
      "source": [
        "\r\n",
        "for p in p_values:\r\n",
        "  for d in d_values:\r\n",
        "    for q in q_values:\r\n",
        "      order=(p,d,q)\r\n",
        "      train,test=f_birth[0:300],f_birth[300:365]\r\n",
        "      predictions=list()\r\n",
        "      for i in range(len(test)):\r\n",
        "        try:\r\n",
        "          model=ARIMA(train,order)\r\n",
        "          model_fit=model.fit(disp=0)\r\n",
        "          pred_y=model_fit.forecast()[0]\r\n",
        "          predictions.append(pred_y)\r\n",
        "          error=mean_squared_error(test,predictions)\r\n",
        "          print('ARIMA%s , MSE= %.2f' % (order,error))\r\n",
        "        except:\r\n",
        "          continue  "
      ],
      "execution_count": 138,
      "outputs": [
        {
          "output_type": "stream",
          "text": [
            "ARIMA(0, 0, 1) , MSE= 56.52\n",
            "ARIMA(0, 0, 2) , MSE= 63.85\n",
            "ARIMA(0, 0, 3) , MSE= 62.33\n",
            "ARIMA(0, 0, 4) , MSE= 64.77\n",
            "ARIMA(0, 1, 1) , MSE= 40.91\n",
            "ARIMA(0, 1, 2) , MSE= 39.78\n",
            "ARIMA(0, 2, 1) , MSE= 290.02\n",
            "ARIMA(1, 0, 0) , MSE= 62.74\n",
            "ARIMA(1, 0, 1) , MSE= 47.07\n",
            "ARIMA(1, 1, 0) , MSE= 193.00\n",
            "ARIMA(1, 1, 1) , MSE= 39.71\n",
            "ARIMA(1, 1, 2) , MSE= 42.80\n",
            "ARIMA(1, 1, 3) , MSE= 40.24\n",
            "ARIMA(1, 1, 4) , MSE= 39.71\n",
            "ARIMA(1, 2, 0) , MSE= 552.28\n",
            "ARIMA(2, 0, 0) , MSE= 67.29\n",
            "ARIMA(2, 0, 1) , MSE= 46.64\n",
            "ARIMA(2, 0, 2) , MSE= 43.86\n",
            "ARIMA(2, 1, 0) , MSE= 127.64\n",
            "ARIMA(2, 1, 1) , MSE= 40.29\n",
            "ARIMA(2, 1, 2) , MSE= 41.56\n",
            "ARIMA(2, 1, 3) , MSE= 40.16\n",
            "ARIMA(2, 1, 4) , MSE= 40.20\n",
            "ARIMA(2, 2, 0) , MSE= 310.84\n",
            "ARIMA(3, 0, 0) , MSE= 65.34\n",
            "ARIMA(3, 0, 1) , MSE= 46.55\n",
            "ARIMA(3, 0, 2) , MSE= 46.68\n",
            "ARIMA(3, 0, 3) , MSE= 58.07\n",
            "ARIMA(3, 1, 0) , MSE= 126.27\n",
            "ARIMA(3, 1, 1) , MSE= 40.33\n",
            "ARIMA(3, 1, 2) , MSE= 41.55\n",
            "ARIMA(3, 1, 3) , MSE= 40.96\n",
            "ARIMA(3, 1, 4) , MSE= 49.68\n",
            "ARIMA(3, 2, 0) , MSE= 257.87\n",
            "ARIMA(4, 0, 0) , MSE= 67.76\n",
            "ARIMA(4, 0, 1) , MSE= 59.90\n",
            "ARIMA(4, 0, 2) , MSE= 43.59\n",
            "ARIMA(4, 0, 3) , MSE= 51.15\n",
            "ARIMA(4, 0, 4) , MSE= 42.67\n",
            "ARIMA(4, 1, 0) , MSE= 117.39\n",
            "ARIMA(4, 1, 1) , MSE= 40.36\n",
            "ARIMA(4, 1, 2) , MSE= 39.73\n",
            "ARIMA(4, 1, 3) , MSE= 40.19\n",
            "ARIMA(4, 1, 4) , MSE= 43.12\n",
            "ARIMA(4, 2, 0) , MSE= 310.52\n",
            "ARIMA(5, 0, 0) , MSE= 69.18\n",
            "ARIMA(5, 0, 1) , MSE= 71.86\n",
            "ARIMA(5, 0, 2) , MSE= 49.04\n",
            "ARIMA(5, 0, 3) , MSE= 63.06\n",
            "ARIMA(5, 0, 4) , MSE= 42.50\n",
            "ARIMA(5, 1, 0) , MSE= 87.16\n",
            "ARIMA(5, 1, 1) , MSE= 40.65\n",
            "ARIMA(5, 1, 2) , MSE= 40.78\n",
            "ARIMA(5, 1, 3) , MSE= 40.55\n",
            "ARIMA(5, 1, 4) , MSE= 40.10\n",
            "ARIMA(5, 2, 0) , MSE= 246.31\n",
            "ARIMA(6, 0, 0) , MSE= 63.55\n",
            "ARIMA(6, 0, 1) , MSE= 52.50\n",
            "ARIMA(6, 0, 2) , MSE= 46.65\n",
            "ARIMA(6, 0, 3) , MSE= 62.48\n",
            "ARIMA(6, 0, 4) , MSE= 42.54\n",
            "ARIMA(6, 1, 0) , MSE= 88.56\n",
            "ARIMA(6, 1, 1) , MSE= 61.22\n",
            "ARIMA(6, 1, 2) , MSE= 39.83\n",
            "ARIMA(6, 1, 3) , MSE= 52.78\n",
            "ARIMA(6, 1, 4) , MSE= 42.25\n",
            "ARIMA(6, 2, 0) , MSE= 230.79\n",
            "ARIMA(7, 0, 0) , MSE= 68.76\n",
            "ARIMA(7, 0, 1) , MSE= 61.86\n",
            "ARIMA(7, 0, 2) , MSE= 62.79\n",
            "ARIMA(7, 0, 3) , MSE= 63.61\n",
            "ARIMA(7, 0, 4) , MSE= 40.27\n",
            "ARIMA(7, 1, 0) , MSE= 77.82\n",
            "ARIMA(7, 1, 1) , MSE= 43.93\n",
            "ARIMA(7, 1, 2) , MSE= 44.24\n",
            "ARIMA(7, 1, 3) , MSE= 44.47\n",
            "ARIMA(7, 1, 4) , MSE= 41.19\n",
            "ARIMA(7, 2, 0) , MSE= 215.93\n",
            "ARIMA(7, 2, 1) , MSE= 85.14\n",
            "ARIMA(7, 2, 2) , MSE= 69.06\n"
          ],
          "name": "stdout"
        }
      ]
    }
  ]
}