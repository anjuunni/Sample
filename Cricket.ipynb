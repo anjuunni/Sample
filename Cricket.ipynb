{
  "nbformat": 4,
  "nbformat_minor": 0,
  "metadata": {
    "colab": {
      "name": "Cricket.ipynb",
      "provenance": [],
      "authorship_tag": "ABX9TyMTT2ErXGl/uHtC+6X+wPnj",
      "include_colab_link": true
    },
    "kernelspec": {
      "name": "python3",
      "display_name": "Python 3"
    }
  },
  "cells": [
    {
      "cell_type": "markdown",
      "metadata": {
        "id": "view-in-github",
        "colab_type": "text"
      },
      "source": [
        "<a href=\"https://colab.research.google.com/github/anjuunni/Sample/blob/main/Cricket.ipynb\" target=\"_parent\"><img src=\"https://colab.research.google.com/assets/colab-badge.svg\" alt=\"Open In Colab\"/></a>"
      ]
    },
    {
      "cell_type": "code",
      "metadata": {
        "id": "bVdoSfI2ORGb"
      },
      "source": [
        "import pandas as pd\r\n"
      ],
      "execution_count": 3,
      "outputs": []
    },
    {
      "cell_type": "code",
      "metadata": {
        "colab": {
          "resources": {
            "http://localhost:8080/nbextensions/google.colab/files.js": {
              "data": "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",
              "ok": true,
              "headers": [
                [
                  "content-type",
                  "application/javascript"
                ]
              ],
              "status": 200,
              "status_text": ""
            }
          },
          "base_uri": "https://localhost:8080/",
          "height": 73
        },
        "id": "9DtxnY_-OQDG",
        "outputId": "5619ffaf-6e45-48de-8020-0afcbbe385a8"
      },
      "source": [
        "from google.colab import files\r\n",
        "uploaded = files.upload()"
      ],
      "execution_count": 4,
      "outputs": [
        {
          "output_type": "display_data",
          "data": {
            "text/html": [
              "\n",
              "     <input type=\"file\" id=\"files-b6b7336f-c356-4a8c-ad2f-20a8c653abc0\" name=\"files[]\" multiple disabled\n",
              "        style=\"border:none\" />\n",
              "     <output id=\"result-b6b7336f-c356-4a8c-ad2f-20a8c653abc0\">\n",
              "      Upload widget is only available when the cell has been executed in the\n",
              "      current browser session. Please rerun this cell to enable.\n",
              "      </output>\n",
              "      <script src=\"/nbextensions/google.colab/files.js\"></script> "
            ],
            "text/plain": [
              "<IPython.core.display.HTML object>"
            ]
          },
          "metadata": {
            "tags": []
          }
        },
        {
          "output_type": "stream",
          "text": [
            "Saving 1 - 2019 ODI Cricket Matches.xlsx to 1 - 2019 ODI Cricket Matches.xlsx\n"
          ],
          "name": "stdout"
        }
      ]
    },
    {
      "cell_type": "code",
      "metadata": {
        "id": "OB-V69G-Obgu"
      },
      "source": [
        "cricket_data=pd.read_excel(\"1 - 2019 ODI Cricket Matches.xlsx\")"
      ],
      "execution_count": 5,
      "outputs": []
    },
    {
      "cell_type": "code",
      "metadata": {
        "colab": {
          "base_uri": "https://localhost:8080/",
          "height": 195
        },
        "id": "dUYiaeDyObkn",
        "outputId": "e53fbe90-cb1f-4dd1-d9c6-825061b9c77e"
      },
      "source": [
        "cricket_data.head()"
      ],
      "execution_count": 6,
      "outputs": [
        {
          "output_type": "execute_result",
          "data": {
            "text/html": [
              "<div>\n",
              "<style scoped>\n",
              "    .dataframe tbody tr th:only-of-type {\n",
              "        vertical-align: middle;\n",
              "    }\n",
              "\n",
              "    .dataframe tbody tr th {\n",
              "        vertical-align: top;\n",
              "    }\n",
              "\n",
              "    .dataframe thead th {\n",
              "        text-align: right;\n",
              "    }\n",
              "</style>\n",
              "<table border=\"1\" class=\"dataframe\">\n",
              "  <thead>\n",
              "    <tr style=\"text-align: right;\">\n",
              "      <th></th>\n",
              "      <th>Team 1</th>\n",
              "      <th>Team 2</th>\n",
              "      <th>Winner</th>\n",
              "      <th>Margin</th>\n",
              "      <th>Win by Runs</th>\n",
              "      <th>Win by Wickets</th>\n",
              "      <th>Ground</th>\n",
              "      <th>Match Date</th>\n",
              "      <th>Scorecard</th>\n",
              "    </tr>\n",
              "  </thead>\n",
              "  <tbody>\n",
              "    <tr>\n",
              "      <th>0</th>\n",
              "      <td>New Zealand</td>\n",
              "      <td>Pakistan</td>\n",
              "      <td>New Zealand</td>\n",
              "      <td>61 runs</td>\n",
              "      <td>61.0</td>\n",
              "      <td>NaN</td>\n",
              "      <td>Wellington</td>\n",
              "      <td>2018-01-06</td>\n",
              "      <td>ODI # 3946</td>\n",
              "    </tr>\n",
              "    <tr>\n",
              "      <th>1</th>\n",
              "      <td>New Zealand</td>\n",
              "      <td>Pakistan</td>\n",
              "      <td>New Zealand</td>\n",
              "      <td>8 wickets</td>\n",
              "      <td>NaN</td>\n",
              "      <td>8.0</td>\n",
              "      <td>Nelson</td>\n",
              "      <td>2018-01-09</td>\n",
              "      <td>ODI # 3947</td>\n",
              "    </tr>\n",
              "    <tr>\n",
              "      <th>2</th>\n",
              "      <td>U.A.E.</td>\n",
              "      <td>Ireland</td>\n",
              "      <td>Ireland</td>\n",
              "      <td>4 wickets</td>\n",
              "      <td>NaN</td>\n",
              "      <td>4.0</td>\n",
              "      <td>ICCA Dubai</td>\n",
              "      <td>2018-01-11</td>\n",
              "      <td>ODI # 3948</td>\n",
              "    </tr>\n",
              "    <tr>\n",
              "      <th>3</th>\n",
              "      <td>New Zealand</td>\n",
              "      <td>Pakistan</td>\n",
              "      <td>New Zealand</td>\n",
              "      <td>183 runs</td>\n",
              "      <td>183.0</td>\n",
              "      <td>NaN</td>\n",
              "      <td>Dunedin</td>\n",
              "      <td>2018-01-13</td>\n",
              "      <td>ODI # 3949</td>\n",
              "    </tr>\n",
              "    <tr>\n",
              "      <th>4</th>\n",
              "      <td>U.A.E.</td>\n",
              "      <td>Ireland</td>\n",
              "      <td>Ireland</td>\n",
              "      <td>67 runs</td>\n",
              "      <td>67.0</td>\n",
              "      <td>NaN</td>\n",
              "      <td>ICCA Dubai</td>\n",
              "      <td>2018-01-13</td>\n",
              "      <td>ODI # 3950</td>\n",
              "    </tr>\n",
              "  </tbody>\n",
              "</table>\n",
              "</div>"
            ],
            "text/plain": [
              "        Team 1    Team 2       Winner  ...      Ground  Match Date   Scorecard\n",
              "0  New Zealand  Pakistan  New Zealand  ...  Wellington  2018-01-06  ODI # 3946\n",
              "1  New Zealand  Pakistan  New Zealand  ...      Nelson  2018-01-09  ODI # 3947\n",
              "2       U.A.E.   Ireland      Ireland  ...  ICCA Dubai  2018-01-11  ODI # 3948\n",
              "3  New Zealand  Pakistan  New Zealand  ...     Dunedin  2018-01-13  ODI # 3949\n",
              "4       U.A.E.   Ireland      Ireland  ...  ICCA Dubai  2018-01-13  ODI # 3950\n",
              "\n",
              "[5 rows x 9 columns]"
            ]
          },
          "metadata": {
            "tags": []
          },
          "execution_count": 6
        }
      ]
    },
    {
      "cell_type": "code",
      "metadata": {
        "id": "JnmAiKWsOboO"
      },
      "source": [
        "most_odi_1=cricket_data[\"Team 1\"].value_counts()"
      ],
      "execution_count": 7,
      "outputs": []
    },
    {
      "cell_type": "code",
      "metadata": {
        "id": "vnGeRWjFObrn"
      },
      "source": [
        "most_odi_2=cricket_data[\"Team 2\"].value_counts()"
      ],
      "execution_count": 8,
      "outputs": []
    },
    {
      "cell_type": "code",
      "metadata": {
        "colab": {
          "base_uri": "https://localhost:8080/"
        },
        "id": "R_zyeNXTPbh0",
        "outputId": "6c664e8e-0df3-49f2-d7e4-b0263e92fc9b"
      },
      "source": [
        "\r\n",
        "print(most_odi_1)"
      ],
      "execution_count": 9,
      "outputs": [
        {
          "output_type": "stream",
          "text": [
            "Afghanistan     16\n",
            "Bangladesh      15\n",
            "New Zealand     13\n",
            "Sri Lanka       12\n",
            "Zimbabwe        11\n",
            "South Africa     9\n",
            "Ireland          9\n",
            "England          8\n",
            "Australia        8\n",
            "India            7\n",
            "U.A.E.           5\n",
            "Hong Kong        4\n",
            "Scotland         3\n",
            "West Indies      3\n",
            "Netherlands      2\n",
            "P.N.G.           2\n",
            "Nepal            1\n",
            "Name: Team 1, dtype: int64\n"
          ],
          "name": "stdout"
        }
      ]
    },
    {
      "cell_type": "code",
      "metadata": {
        "colab": {
          "base_uri": "https://localhost:8080/"
        },
        "id": "hcRkkRgCPbm-",
        "outputId": "f504282b-a38b-4fcd-83e3-9ae9f114cc44"
      },
      "source": [
        "print(most_odi_2)"
      ],
      "execution_count": 10,
      "outputs": [
        {
          "output_type": "stream",
          "text": [
            "Pakistan        18\n",
            "England         16\n",
            "West Indies     15\n",
            "Zimbabwe        15\n",
            "India           13\n",
            "Scotland         8\n",
            "South Africa     8\n",
            "U.A.E.           6\n",
            "Sri Lanka        5\n",
            "Australia        5\n",
            "Bangladesh       5\n",
            "Ireland          4\n",
            "Afghanistan      4\n",
            "P.N.G.           2\n",
            "Nepal            2\n",
            "Hong Kong        2\n",
            "Name: Team 2, dtype: int64\n"
          ],
          "name": "stdout"
        }
      ]
    },
    {
      "cell_type": "code",
      "metadata": {
        "id": "1O2sx1pTPbs-"
      },
      "source": [
        "most_odi=most_odi_1+most_odi_2"
      ],
      "execution_count": 11,
      "outputs": []
    },
    {
      "cell_type": "code",
      "metadata": {
        "colab": {
          "base_uri": "https://localhost:8080/"
        },
        "id": "uSRzcbaLQ63T",
        "outputId": "b6bd43bf-298d-4032-b5fb-d8120797e962"
      },
      "source": [
        "#Question 2\r\n",
        "print(most_odi)"
      ],
      "execution_count": 12,
      "outputs": [
        {
          "output_type": "stream",
          "text": [
            "Afghanistan     20.0\n",
            "Australia       13.0\n",
            "Bangladesh      20.0\n",
            "England         24.0\n",
            "Hong Kong        6.0\n",
            "India           20.0\n",
            "Ireland         13.0\n",
            "Nepal            3.0\n",
            "Netherlands      NaN\n",
            "New Zealand      NaN\n",
            "P.N.G.           4.0\n",
            "Pakistan         NaN\n",
            "Scotland        11.0\n",
            "South Africa    17.0\n",
            "Sri Lanka       17.0\n",
            "U.A.E.          11.0\n",
            "West Indies     18.0\n",
            "Zimbabwe        26.0\n",
            "dtype: float64\n"
          ],
          "name": "stdout"
        }
      ]
    },
    {
      "cell_type": "code",
      "metadata": {
        "id": "2qnTUS8MQ67W"
      },
      "source": [
        "winner_list=cricket_data[\"Winner\"].value_counts()"
      ],
      "execution_count": 13,
      "outputs": []
    },
    {
      "cell_type": "code",
      "metadata": {
        "colab": {
          "base_uri": "https://localhost:8080/"
        },
        "id": "8YSy-2VaQ6_O",
        "outputId": "7f134000-dde1-4369-f8e3-c32c55f752c7"
      },
      "source": [
        "#Question 3,13\r\n",
        "print(winner_list)"
      ],
      "execution_count": 14,
      "outputs": [
        {
          "output_type": "stream",
          "text": [
            "England         17\n",
            "India           14\n",
            "Bangladesh      13\n",
            "Afghanistan     12\n",
            "South Africa     9\n",
            "West Indies      8\n",
            "Ireland          8\n",
            "Pakistan         8\n",
            "New Zealand      8\n",
            "Sri Lanka        6\n",
            "Scotland         5\n",
            "Zimbabwe         5\n",
            "U.A.E.           4\n",
            "tied             3\n",
            "no result        2\n",
            "Australia        2\n",
            "Nepal            1\n",
            "Netherlands      1\n",
            "Hong Kong        1\n",
            "P.N.G.           1\n",
            "Name: Winner, dtype: int64\n"
          ],
          "name": "stdout"
        }
      ]
    },
    {
      "cell_type": "code",
      "metadata": {
        "id": "2MjJDpRwI6Ox"
      },
      "source": [
        "#Question 4\r\n",
        "import folium\r\n"
      ],
      "execution_count": 15,
      "outputs": []
    },
    {
      "cell_type": "code",
      "metadata": {
        "colab": {
          "base_uri": "https://localhost:8080/",
          "height": 866
        },
        "id": "xKGujJ2FI6Sp",
        "outputId": "1d114e9a-847a-4538-a82d-e6496059c84c"
      },
      "source": [
        "\r\n",
        "\r\n",
        "m = folium.Map(location=[52.3555, 1.1743],zoom_start=2.5)\r\n",
        " \r\n",
        "\r\n",
        "folium.Marker(\r\n",
        "    [52.3555, 1.1743], popup=\"<b>Most winning Country</b>\").add_to(m)\r\n",
        "\r\n",
        "m\r\n"
      ],
      "execution_count": 16,
      "outputs": [
        {
          "output_type": "execute_result",
          "data": {
            "text/html": [
              "<div style=\"width:100%;\"><div style=\"position:relative;width:100%;height:0;padding-bottom:60%;\"><span style=\"color:#565656\">Make this Notebook Trusted to load map: File -> Trust Notebook</span><iframe src=\"about:blank\" style=\"position:absolute;width:100%;height:100%;left:0;top:0;border:none !important;\" data-html=%3C%21DOCTYPE%20html%3E%0A%3Chead%3E%20%20%20%20%0A%20%20%20%20%3Cmeta%20http-equiv%3D%22content-type%22%20content%3D%22text/html%3B%20charset%3DUTF-8%22%20/%3E%0A%20%20%20%20%3Cscript%3EL_PREFER_CANVAS%3Dfalse%3B%20L_NO_TOUCH%3Dfalse%3B%20L_DISABLE_3D%3Dfalse%3B%3C/script%3E%0A%20%20%20%20%3Cscript%20src%3D%22https%3A//cdn.jsdelivr.net/npm/leaflet%401.4.0/dist/leaflet.js%22%3E%3C/script%3E%0A%20%20%20%20%3Cscript%20src%3D%22https%3A//code.jquery.com/jquery-1.12.4.min.js%22%3E%3C/script%3E%0A%20%20%20%20%3Cscript%20src%3D%22https%3A//maxcdn.bootstrapcdn.com/bootstrap/3.2.0/js/bootstrap.min.js%22%3E%3C/script%3E%0A%20%20%20%20%3Cscript%20src%3D%22https%3A//cdnjs.cloudflare.com/ajax/libs/Leaflet.awesome-markers/2.0.2/leaflet.awesome-markers.js%22%3E%3C/script%3E%0A%20%20%20%20%3Clink%20rel%3D%22stylesheet%22%20href%3D%22https%3A//cdn.jsdelivr.net/npm/leaflet%401.4.0/dist/leaflet.css%22/%3E%0A%20%20%20%20%3Clink%20rel%3D%22stylesheet%22%20href%3D%22https%3A//maxcdn.bootstrapcdn.com/bootstrap/3.2.0/css/bootstrap.min.css%22/%3E%0A%20%20%20%20%3Clink%20rel%3D%22stylesheet%22%20href%3D%22https%3A//maxcdn.bootstrapcdn.com/bootstrap/3.2.0/css/bootstrap-theme.min.css%22/%3E%0A%20%20%20%20%3Clink%20rel%3D%22stylesheet%22%20href%3D%22https%3A//maxcdn.bootstrapcdn.com/font-awesome/4.6.3/css/font-awesome.min.css%22/%3E%0A%20%20%20%20%3Clink%20rel%3D%22stylesheet%22%20href%3D%22https%3A//cdnjs.cloudflare.com/ajax/libs/Leaflet.awesome-markers/2.0.2/leaflet.awesome-markers.css%22/%3E%0A%20%20%20%20%3Clink%20rel%3D%22stylesheet%22%20href%3D%22https%3A//rawcdn.githack.com/python-visualization/folium/master/folium/templates/leaflet.awesome.rotate.css%22/%3E%0A%20%20%20%20%3Cstyle%3Ehtml%2C%20body%20%7Bwidth%3A%20100%25%3Bheight%3A%20100%25%3Bmargin%3A%200%3Bpadding%3A%200%3B%7D%3C/style%3E%0A%20%20%20%20%3Cstyle%3E%23map%20%7Bposition%3Aabsolute%3Btop%3A0%3Bbottom%3A0%3Bright%3A0%3Bleft%3A0%3B%7D%3C/style%3E%0A%20%20%20%20%0A%20%20%20%20%3Cmeta%20name%3D%22viewport%22%20content%3D%22width%3Ddevice-width%2C%0A%20%20%20%20%20%20%20%20initial-scale%3D1.0%2C%20maximum-scale%3D1.0%2C%20user-scalable%3Dno%22%20/%3E%0A%20%20%20%20%3Cstyle%3E%23map_c68ec0a2b895415da5d78ce9d62ac714%20%7B%0A%20%20%20%20%20%20%20%20position%3A%20relative%3B%0A%20%20%20%20%20%20%20%20width%3A%20100.0%25%3B%0A%20%20%20%20%20%20%20%20height%3A%20100.0%25%3B%0A%20%20%20%20%20%20%20%20left%3A%200.0%25%3B%0A%20%20%20%20%20%20%20%20top%3A%200.0%25%3B%0A%20%20%20%20%20%20%20%20%7D%0A%20%20%20%20%3C/style%3E%0A%3C/head%3E%0A%3Cbody%3E%20%20%20%20%0A%20%20%20%20%0A%20%20%20%20%3Cdiv%20class%3D%22folium-map%22%20id%3D%22map_c68ec0a2b895415da5d78ce9d62ac714%22%20%3E%3C/div%3E%0A%3C/body%3E%0A%3Cscript%3E%20%20%20%20%0A%20%20%20%20%0A%20%20%20%20%0A%20%20%20%20%20%20%20%20var%20bounds%20%3D%20null%3B%0A%20%20%20%20%0A%0A%20%20%20%20var%20map_c68ec0a2b895415da5d78ce9d62ac714%20%3D%20L.map%28%0A%20%20%20%20%20%20%20%20%27map_c68ec0a2b895415da5d78ce9d62ac714%27%2C%20%7B%0A%20%20%20%20%20%20%20%20center%3A%20%5B52.3555%2C%201.1743%5D%2C%0A%20%20%20%20%20%20%20%20zoom%3A%202.5%2C%0A%20%20%20%20%20%20%20%20maxBounds%3A%20bounds%2C%0A%20%20%20%20%20%20%20%20layers%3A%20%5B%5D%2C%0A%20%20%20%20%20%20%20%20worldCopyJump%3A%20false%2C%0A%20%20%20%20%20%20%20%20crs%3A%20L.CRS.EPSG3857%2C%0A%20%20%20%20%20%20%20%20zoomControl%3A%20true%2C%0A%20%20%20%20%20%20%20%20%7D%29%3B%0A%0A%0A%20%20%20%20%0A%20%20%20%20var%20tile_layer_f8b7f95cf628413fbd240a15b66474e5%20%3D%20L.tileLayer%28%0A%20%20%20%20%20%20%20%20%27https%3A//%7Bs%7D.tile.openstreetmap.org/%7Bz%7D/%7Bx%7D/%7By%7D.png%27%2C%0A%20%20%20%20%20%20%20%20%7B%0A%20%20%20%20%20%20%20%20%22attribution%22%3A%20null%2C%0A%20%20%20%20%20%20%20%20%22detectRetina%22%3A%20false%2C%0A%20%20%20%20%20%20%20%20%22maxNativeZoom%22%3A%2018%2C%0A%20%20%20%20%20%20%20%20%22maxZoom%22%3A%2018%2C%0A%20%20%20%20%20%20%20%20%22minZoom%22%3A%200%2C%0A%20%20%20%20%20%20%20%20%22noWrap%22%3A%20false%2C%0A%20%20%20%20%20%20%20%20%22opacity%22%3A%201%2C%0A%20%20%20%20%20%20%20%20%22subdomains%22%3A%20%22abc%22%2C%0A%20%20%20%20%20%20%20%20%22tms%22%3A%20false%0A%7D%29.addTo%28map_c68ec0a2b895415da5d78ce9d62ac714%29%3B%0A%20%20%20%20%0A%20%20%20%20%20%20%20%20var%20marker_7dfa0755580b49e69abf7290a35dd964%20%3D%20L.marker%28%0A%20%20%20%20%20%20%20%20%20%20%20%20%5B52.3555%2C%201.1743%5D%2C%0A%20%20%20%20%20%20%20%20%20%20%20%20%7B%0A%20%20%20%20%20%20%20%20%20%20%20%20%20%20%20%20icon%3A%20new%20L.Icon.Default%28%29%2C%0A%20%20%20%20%20%20%20%20%20%20%20%20%20%20%20%20%7D%0A%20%20%20%20%20%20%20%20%20%20%20%20%29.addTo%28map_c68ec0a2b895415da5d78ce9d62ac714%29%3B%0A%20%20%20%20%20%20%20%20%0A%20%20%20%20%0A%20%20%20%20%20%20%20%20%20%20%20%20var%20popup_073654005a4e403784847114db1a4b53%20%3D%20L.popup%28%7BmaxWidth%3A%20%27100%25%27%0A%20%20%20%20%20%20%20%20%20%20%20%20%0A%20%20%20%20%20%20%20%20%20%20%20%20%7D%29%3B%0A%0A%20%20%20%20%20%20%20%20%20%20%20%20%0A%20%20%20%20%20%20%20%20%20%20%20%20%20%20%20%20var%20html_32ba57411769420cad6fd0bc48a32fe5%20%3D%20%24%28%60%3Cdiv%20id%3D%22html_32ba57411769420cad6fd0bc48a32fe5%22%20style%3D%22width%3A%20100.0%25%3B%20height%3A%20100.0%25%3B%22%3E%3Cb%3EMost%20winning%20Country%3C/b%3E%3C/div%3E%60%29%5B0%5D%3B%0A%20%20%20%20%20%20%20%20%20%20%20%20%20%20%20%20popup_073654005a4e403784847114db1a4b53.setContent%28html_32ba57411769420cad6fd0bc48a32fe5%29%3B%0A%20%20%20%20%20%20%20%20%20%20%20%20%0A%0A%20%20%20%20%20%20%20%20%20%20%20%20marker_7dfa0755580b49e69abf7290a35dd964.bindPopup%28popup_073654005a4e403784847114db1a4b53%29%0A%20%20%20%20%20%20%20%20%20%20%20%20%3B%0A%0A%20%20%20%20%20%20%20%20%20%20%20%20%0A%20%20%20%20%20%20%20%20%0A%3C/script%3E onload=\"this.contentDocument.open();this.contentDocument.write(    decodeURIComponent(this.getAttribute('data-html')));this.contentDocument.close();\" allowfullscreen webkitallowfullscreen mozallowfullscreen></iframe></div></div>"
            ],
            "text/plain": [
              "<folium.folium.Map at 0x7f6d7011eb38>"
            ]
          },
          "metadata": {
            "tags": []
          },
          "execution_count": 16
        }
      ]
    },
    {
      "cell_type": "code",
      "metadata": {
        "colab": {
          "base_uri": "https://localhost:8080/"
        },
        "id": "jqrUSRnLKAZG",
        "outputId": "dc51fd13-ac44-4bd9-a59c-67d9ad099853"
      },
      "source": [
        "#question 5\r\n",
        "!pip install opencage\r\n",
        "from opencage.geocoder import OpenCageGeocode"
      ],
      "execution_count": 17,
      "outputs": [
        {
          "output_type": "stream",
          "text": [
            "Collecting opencage\n",
            "  Downloading https://files.pythonhosted.org/packages/44/56/e912b950ab7b05902c08ebc3eb6c6e22f40ca2657194e04fc205a9d793e7/opencage-1.2.2-py3-none-any.whl\n",
            "Collecting backoff>=1.10.0\n",
            "  Downloading https://files.pythonhosted.org/packages/f0/32/c5dd4f4b0746e9ec05ace2a5045c1fc375ae67ee94355344ad6c7005fd87/backoff-1.10.0-py2.py3-none-any.whl\n",
            "Requirement already satisfied: six>=1.4.0 in /usr/local/lib/python3.6/dist-packages (from opencage) (1.15.0)\n",
            "Collecting pyopenssl>=0.15.1\n",
            "\u001b[?25l  Downloading https://files.pythonhosted.org/packages/b2/5e/06351ede29fd4899782ad335c2e02f1f862a887c20a3541f17c3fa1a3525/pyOpenSSL-20.0.1-py2.py3-none-any.whl (54kB)\n",
            "\u001b[K     |████████████████████████████████| 61kB 4.4MB/s \n",
            "\u001b[?25hRequirement already satisfied: Requests>=2.2.0 in /usr/local/lib/python3.6/dist-packages (from opencage) (2.23.0)\n",
            "Collecting cryptography>=3.2\n",
            "\u001b[?25l  Downloading https://files.pythonhosted.org/packages/c9/de/7054df0620b5411ba45480f0261e1fb66a53f3db31b28e3aa52c026e72d9/cryptography-3.3.1-cp36-abi3-manylinux2010_x86_64.whl (2.6MB)\n",
            "\u001b[K     |████████████████████████████████| 2.6MB 20.3MB/s \n",
            "\u001b[?25hRequirement already satisfied: idna<3,>=2.5 in /usr/local/lib/python3.6/dist-packages (from Requests>=2.2.0->opencage) (2.10)\n",
            "Requirement already satisfied: urllib3!=1.25.0,!=1.25.1,<1.26,>=1.21.1 in /usr/local/lib/python3.6/dist-packages (from Requests>=2.2.0->opencage) (1.24.3)\n",
            "Requirement already satisfied: certifi>=2017.4.17 in /usr/local/lib/python3.6/dist-packages (from Requests>=2.2.0->opencage) (2020.12.5)\n",
            "Requirement already satisfied: chardet<4,>=3.0.2 in /usr/local/lib/python3.6/dist-packages (from Requests>=2.2.0->opencage) (3.0.4)\n",
            "Requirement already satisfied: cffi>=1.12 in /usr/local/lib/python3.6/dist-packages (from cryptography>=3.2->pyopenssl>=0.15.1->opencage) (1.14.4)\n",
            "Requirement already satisfied: pycparser in /usr/local/lib/python3.6/dist-packages (from cffi>=1.12->cryptography>=3.2->pyopenssl>=0.15.1->opencage) (2.20)\n",
            "Installing collected packages: backoff, cryptography, pyopenssl, opencage\n",
            "Successfully installed backoff-1.10.0 cryptography-3.3.1 opencage-1.2.2 pyopenssl-20.0.1\n"
          ],
          "name": "stdout"
        }
      ]
    },
    {
      "cell_type": "code",
      "metadata": {
        "id": "4jGuWo6fKAcf"
      },
      "source": [
        "key='67c62e2ed671448f972af090d9d1ece7'"
      ],
      "execution_count": 18,
      "outputs": []
    },
    {
      "cell_type": "code",
      "metadata": {
        "id": "IwLkQ3ncKAf_"
      },
      "source": [
        "geocoder = OpenCageGeocode(key)\r\n",
        "list_lat = []   # create empty lists\r\n",
        "\r\n",
        "list_long = []\r\n",
        "\r\n",
        "\r\n",
        "\t\r\n",
        "for index, row in cricket_data.iterrows():\r\n",
        "  place=row['Ground']     \r\n",
        "  query = place\r\n",
        "\r\n",
        "  results = geocoder.geocode(query)   \r\n",
        "  lat = results[0]['geometry']['lat']\r\n",
        "  long = results[0]['geometry']['lng']\r\n",
        "  list_lat.append(lat)\r\n",
        "  list_long.append(long)\r\n",
        "cricket_data['lat']=list_lat\r\n",
        "cricket_data['long']=list_long\r\n",
        "\r\n",
        "\t\r\n"
      ],
      "execution_count": 19,
      "outputs": []
    },
    {
      "cell_type": "code",
      "metadata": {
        "colab": {
          "base_uri": "https://localhost:8080/",
          "height": 195
        },
        "id": "3g4Tlk_CKAjS",
        "outputId": "3902a9e4-15a8-44a8-89b7-4a67bcd160c0"
      },
      "source": [
        "cricket_data.head()"
      ],
      "execution_count": 20,
      "outputs": [
        {
          "output_type": "execute_result",
          "data": {
            "text/html": [
              "<div>\n",
              "<style scoped>\n",
              "    .dataframe tbody tr th:only-of-type {\n",
              "        vertical-align: middle;\n",
              "    }\n",
              "\n",
              "    .dataframe tbody tr th {\n",
              "        vertical-align: top;\n",
              "    }\n",
              "\n",
              "    .dataframe thead th {\n",
              "        text-align: right;\n",
              "    }\n",
              "</style>\n",
              "<table border=\"1\" class=\"dataframe\">\n",
              "  <thead>\n",
              "    <tr style=\"text-align: right;\">\n",
              "      <th></th>\n",
              "      <th>Team 1</th>\n",
              "      <th>Team 2</th>\n",
              "      <th>Winner</th>\n",
              "      <th>Margin</th>\n",
              "      <th>Win by Runs</th>\n",
              "      <th>Win by Wickets</th>\n",
              "      <th>Ground</th>\n",
              "      <th>Match Date</th>\n",
              "      <th>Scorecard</th>\n",
              "      <th>lat</th>\n",
              "      <th>long</th>\n",
              "    </tr>\n",
              "  </thead>\n",
              "  <tbody>\n",
              "    <tr>\n",
              "      <th>0</th>\n",
              "      <td>New Zealand</td>\n",
              "      <td>Pakistan</td>\n",
              "      <td>New Zealand</td>\n",
              "      <td>61 runs</td>\n",
              "      <td>61.0</td>\n",
              "      <td>NaN</td>\n",
              "      <td>Wellington</td>\n",
              "      <td>2018-01-06</td>\n",
              "      <td>ODI # 3946</td>\n",
              "      <td>-41.288795</td>\n",
              "      <td>174.777211</td>\n",
              "    </tr>\n",
              "    <tr>\n",
              "      <th>1</th>\n",
              "      <td>New Zealand</td>\n",
              "      <td>Pakistan</td>\n",
              "      <td>New Zealand</td>\n",
              "      <td>8 wickets</td>\n",
              "      <td>NaN</td>\n",
              "      <td>8.0</td>\n",
              "      <td>Nelson</td>\n",
              "      <td>2018-01-09</td>\n",
              "      <td>ODI # 3947</td>\n",
              "      <td>-41.271085</td>\n",
              "      <td>173.283676</td>\n",
              "    </tr>\n",
              "    <tr>\n",
              "      <th>2</th>\n",
              "      <td>U.A.E.</td>\n",
              "      <td>Ireland</td>\n",
              "      <td>Ireland</td>\n",
              "      <td>4 wickets</td>\n",
              "      <td>NaN</td>\n",
              "      <td>4.0</td>\n",
              "      <td>ICCA Dubai</td>\n",
              "      <td>2018-01-11</td>\n",
              "      <td>ODI # 3948</td>\n",
              "      <td>25.102259</td>\n",
              "      <td>55.161646</td>\n",
              "    </tr>\n",
              "    <tr>\n",
              "      <th>3</th>\n",
              "      <td>New Zealand</td>\n",
              "      <td>Pakistan</td>\n",
              "      <td>New Zealand</td>\n",
              "      <td>183 runs</td>\n",
              "      <td>183.0</td>\n",
              "      <td>NaN</td>\n",
              "      <td>Dunedin</td>\n",
              "      <td>2018-01-13</td>\n",
              "      <td>ODI # 3949</td>\n",
              "      <td>-45.874098</td>\n",
              "      <td>170.503576</td>\n",
              "    </tr>\n",
              "    <tr>\n",
              "      <th>4</th>\n",
              "      <td>U.A.E.</td>\n",
              "      <td>Ireland</td>\n",
              "      <td>Ireland</td>\n",
              "      <td>67 runs</td>\n",
              "      <td>67.0</td>\n",
              "      <td>NaN</td>\n",
              "      <td>ICCA Dubai</td>\n",
              "      <td>2018-01-13</td>\n",
              "      <td>ODI # 3950</td>\n",
              "      <td>25.102259</td>\n",
              "      <td>55.161646</td>\n",
              "    </tr>\n",
              "  </tbody>\n",
              "</table>\n",
              "</div>"
            ],
            "text/plain": [
              "        Team 1    Team 2       Winner  ...   Scorecard        lat        long\n",
              "0  New Zealand  Pakistan  New Zealand  ...  ODI # 3946 -41.288795  174.777211\n",
              "1  New Zealand  Pakistan  New Zealand  ...  ODI # 3947 -41.271085  173.283676\n",
              "2       U.A.E.   Ireland      Ireland  ...  ODI # 3948  25.102259   55.161646\n",
              "3  New Zealand  Pakistan  New Zealand  ...  ODI # 3949 -45.874098  170.503576\n",
              "4       U.A.E.   Ireland      Ireland  ...  ODI # 3950  25.102259   55.161646\n",
              "\n",
              "[5 rows x 11 columns]"
            ]
          },
          "metadata": {
            "tags": []
          },
          "execution_count": 20
        }
      ]
    },
    {
      "cell_type": "code",
      "metadata": {
        "id": "Xfjh3j4v-GB3"
      },
      "source": [
        "country=[]\r\n",
        "for index, row in cricket_data.iterrows():\r\n",
        "  ctry=row['Ground']\r\n",
        "  query=ctry\r\n",
        "  results=geocoder.geocode(query)\r\n",
        "  c=results[0]['components']['country']\r\n",
        "  country.append(c)\r\n",
        "cricket_data['Country']=country  \r\n",
        "cricket_data.loc[cricket_data['Team 1'] =='U.A.E.', ['Country']] = 'U.A.E.'"
      ],
      "execution_count": 21,
      "outputs": []
    },
    {
      "cell_type": "code",
      "metadata": {
        "id": "beVl7gBgJHzj"
      },
      "source": [
        ""
      ],
      "execution_count": 21,
      "outputs": []
    },
    {
      "cell_type": "code",
      "metadata": {
        "colab": {
          "base_uri": "https://localhost:8080/",
          "height": 195
        },
        "id": "Jt0QVAlEJExh",
        "outputId": "e760ad50-7b67-4426-f3eb-f1af23df46f9"
      },
      "source": [
        "cricket_data.head()"
      ],
      "execution_count": 22,
      "outputs": [
        {
          "output_type": "execute_result",
          "data": {
            "text/html": [
              "<div>\n",
              "<style scoped>\n",
              "    .dataframe tbody tr th:only-of-type {\n",
              "        vertical-align: middle;\n",
              "    }\n",
              "\n",
              "    .dataframe tbody tr th {\n",
              "        vertical-align: top;\n",
              "    }\n",
              "\n",
              "    .dataframe thead th {\n",
              "        text-align: right;\n",
              "    }\n",
              "</style>\n",
              "<table border=\"1\" class=\"dataframe\">\n",
              "  <thead>\n",
              "    <tr style=\"text-align: right;\">\n",
              "      <th></th>\n",
              "      <th>Team 1</th>\n",
              "      <th>Team 2</th>\n",
              "      <th>Winner</th>\n",
              "      <th>Margin</th>\n",
              "      <th>Win by Runs</th>\n",
              "      <th>Win by Wickets</th>\n",
              "      <th>Ground</th>\n",
              "      <th>Match Date</th>\n",
              "      <th>Scorecard</th>\n",
              "      <th>lat</th>\n",
              "      <th>long</th>\n",
              "      <th>Country</th>\n",
              "    </tr>\n",
              "  </thead>\n",
              "  <tbody>\n",
              "    <tr>\n",
              "      <th>0</th>\n",
              "      <td>New Zealand</td>\n",
              "      <td>Pakistan</td>\n",
              "      <td>New Zealand</td>\n",
              "      <td>61 runs</td>\n",
              "      <td>61.0</td>\n",
              "      <td>NaN</td>\n",
              "      <td>Wellington</td>\n",
              "      <td>2018-01-06</td>\n",
              "      <td>ODI # 3946</td>\n",
              "      <td>-41.288795</td>\n",
              "      <td>174.777211</td>\n",
              "      <td>New Zealand</td>\n",
              "    </tr>\n",
              "    <tr>\n",
              "      <th>1</th>\n",
              "      <td>New Zealand</td>\n",
              "      <td>Pakistan</td>\n",
              "      <td>New Zealand</td>\n",
              "      <td>8 wickets</td>\n",
              "      <td>NaN</td>\n",
              "      <td>8.0</td>\n",
              "      <td>Nelson</td>\n",
              "      <td>2018-01-09</td>\n",
              "      <td>ODI # 3947</td>\n",
              "      <td>-41.271085</td>\n",
              "      <td>173.283676</td>\n",
              "      <td>New Zealand</td>\n",
              "    </tr>\n",
              "    <tr>\n",
              "      <th>2</th>\n",
              "      <td>U.A.E.</td>\n",
              "      <td>Ireland</td>\n",
              "      <td>Ireland</td>\n",
              "      <td>4 wickets</td>\n",
              "      <td>NaN</td>\n",
              "      <td>4.0</td>\n",
              "      <td>ICCA Dubai</td>\n",
              "      <td>2018-01-11</td>\n",
              "      <td>ODI # 3948</td>\n",
              "      <td>25.102259</td>\n",
              "      <td>55.161646</td>\n",
              "      <td>U.A.E.</td>\n",
              "    </tr>\n",
              "    <tr>\n",
              "      <th>3</th>\n",
              "      <td>New Zealand</td>\n",
              "      <td>Pakistan</td>\n",
              "      <td>New Zealand</td>\n",
              "      <td>183 runs</td>\n",
              "      <td>183.0</td>\n",
              "      <td>NaN</td>\n",
              "      <td>Dunedin</td>\n",
              "      <td>2018-01-13</td>\n",
              "      <td>ODI # 3949</td>\n",
              "      <td>-45.874098</td>\n",
              "      <td>170.503576</td>\n",
              "      <td>New Zealand</td>\n",
              "    </tr>\n",
              "    <tr>\n",
              "      <th>4</th>\n",
              "      <td>U.A.E.</td>\n",
              "      <td>Ireland</td>\n",
              "      <td>Ireland</td>\n",
              "      <td>67 runs</td>\n",
              "      <td>67.0</td>\n",
              "      <td>NaN</td>\n",
              "      <td>ICCA Dubai</td>\n",
              "      <td>2018-01-13</td>\n",
              "      <td>ODI # 3950</td>\n",
              "      <td>25.102259</td>\n",
              "      <td>55.161646</td>\n",
              "      <td>U.A.E.</td>\n",
              "    </tr>\n",
              "  </tbody>\n",
              "</table>\n",
              "</div>"
            ],
            "text/plain": [
              "        Team 1    Team 2       Winner  ...        lat        long      Country\n",
              "0  New Zealand  Pakistan  New Zealand  ... -41.288795  174.777211  New Zealand\n",
              "1  New Zealand  Pakistan  New Zealand  ... -41.271085  173.283676  New Zealand\n",
              "2       U.A.E.   Ireland      Ireland  ...  25.102259   55.161646       U.A.E.\n",
              "3  New Zealand  Pakistan  New Zealand  ... -45.874098  170.503576  New Zealand\n",
              "4       U.A.E.   Ireland      Ireland  ...  25.102259   55.161646       U.A.E.\n",
              "\n",
              "[5 rows x 12 columns]"
            ]
          },
          "metadata": {
            "tags": []
          },
          "execution_count": 22
        }
      ]
    },
    {
      "cell_type": "code",
      "metadata": {
        "id": "iFE93fMwt2ti"
      },
      "source": [
        "import numpy as np\r\n",
        "comparison_column = np.where(cricket_data[\"Team 1\"] == cricket_data[\"Country\"], True, False)\r\n",
        "cricket_data['equal_1']=comparison_column"
      ],
      "execution_count": 23,
      "outputs": []
    },
    {
      "cell_type": "code",
      "metadata": {
        "colab": {
          "base_uri": "https://localhost:8080/",
          "height": 195
        },
        "id": "OCXd2XO6t25a",
        "outputId": "f1443ba1-3d5a-4b44-b65e-83a56ad6c510"
      },
      "source": [
        "cricket_data.head()"
      ],
      "execution_count": 24,
      "outputs": [
        {
          "output_type": "execute_result",
          "data": {
            "text/html": [
              "<div>\n",
              "<style scoped>\n",
              "    .dataframe tbody tr th:only-of-type {\n",
              "        vertical-align: middle;\n",
              "    }\n",
              "\n",
              "    .dataframe tbody tr th {\n",
              "        vertical-align: top;\n",
              "    }\n",
              "\n",
              "    .dataframe thead th {\n",
              "        text-align: right;\n",
              "    }\n",
              "</style>\n",
              "<table border=\"1\" class=\"dataframe\">\n",
              "  <thead>\n",
              "    <tr style=\"text-align: right;\">\n",
              "      <th></th>\n",
              "      <th>Team 1</th>\n",
              "      <th>Team 2</th>\n",
              "      <th>Winner</th>\n",
              "      <th>Margin</th>\n",
              "      <th>Win by Runs</th>\n",
              "      <th>Win by Wickets</th>\n",
              "      <th>Ground</th>\n",
              "      <th>Match Date</th>\n",
              "      <th>Scorecard</th>\n",
              "      <th>lat</th>\n",
              "      <th>long</th>\n",
              "      <th>Country</th>\n",
              "      <th>equal_1</th>\n",
              "    </tr>\n",
              "  </thead>\n",
              "  <tbody>\n",
              "    <tr>\n",
              "      <th>0</th>\n",
              "      <td>New Zealand</td>\n",
              "      <td>Pakistan</td>\n",
              "      <td>New Zealand</td>\n",
              "      <td>61 runs</td>\n",
              "      <td>61.0</td>\n",
              "      <td>NaN</td>\n",
              "      <td>Wellington</td>\n",
              "      <td>2018-01-06</td>\n",
              "      <td>ODI # 3946</td>\n",
              "      <td>-41.288795</td>\n",
              "      <td>174.777211</td>\n",
              "      <td>New Zealand</td>\n",
              "      <td>True</td>\n",
              "    </tr>\n",
              "    <tr>\n",
              "      <th>1</th>\n",
              "      <td>New Zealand</td>\n",
              "      <td>Pakistan</td>\n",
              "      <td>New Zealand</td>\n",
              "      <td>8 wickets</td>\n",
              "      <td>NaN</td>\n",
              "      <td>8.0</td>\n",
              "      <td>Nelson</td>\n",
              "      <td>2018-01-09</td>\n",
              "      <td>ODI # 3947</td>\n",
              "      <td>-41.271085</td>\n",
              "      <td>173.283676</td>\n",
              "      <td>New Zealand</td>\n",
              "      <td>True</td>\n",
              "    </tr>\n",
              "    <tr>\n",
              "      <th>2</th>\n",
              "      <td>U.A.E.</td>\n",
              "      <td>Ireland</td>\n",
              "      <td>Ireland</td>\n",
              "      <td>4 wickets</td>\n",
              "      <td>NaN</td>\n",
              "      <td>4.0</td>\n",
              "      <td>ICCA Dubai</td>\n",
              "      <td>2018-01-11</td>\n",
              "      <td>ODI # 3948</td>\n",
              "      <td>25.102259</td>\n",
              "      <td>55.161646</td>\n",
              "      <td>U.A.E.</td>\n",
              "      <td>True</td>\n",
              "    </tr>\n",
              "    <tr>\n",
              "      <th>3</th>\n",
              "      <td>New Zealand</td>\n",
              "      <td>Pakistan</td>\n",
              "      <td>New Zealand</td>\n",
              "      <td>183 runs</td>\n",
              "      <td>183.0</td>\n",
              "      <td>NaN</td>\n",
              "      <td>Dunedin</td>\n",
              "      <td>2018-01-13</td>\n",
              "      <td>ODI # 3949</td>\n",
              "      <td>-45.874098</td>\n",
              "      <td>170.503576</td>\n",
              "      <td>New Zealand</td>\n",
              "      <td>True</td>\n",
              "    </tr>\n",
              "    <tr>\n",
              "      <th>4</th>\n",
              "      <td>U.A.E.</td>\n",
              "      <td>Ireland</td>\n",
              "      <td>Ireland</td>\n",
              "      <td>67 runs</td>\n",
              "      <td>67.0</td>\n",
              "      <td>NaN</td>\n",
              "      <td>ICCA Dubai</td>\n",
              "      <td>2018-01-13</td>\n",
              "      <td>ODI # 3950</td>\n",
              "      <td>25.102259</td>\n",
              "      <td>55.161646</td>\n",
              "      <td>U.A.E.</td>\n",
              "      <td>True</td>\n",
              "    </tr>\n",
              "  </tbody>\n",
              "</table>\n",
              "</div>"
            ],
            "text/plain": [
              "        Team 1    Team 2       Winner  ...        long      Country  equal_1\n",
              "0  New Zealand  Pakistan  New Zealand  ...  174.777211  New Zealand     True\n",
              "1  New Zealand  Pakistan  New Zealand  ...  173.283676  New Zealand     True\n",
              "2       U.A.E.   Ireland      Ireland  ...   55.161646       U.A.E.     True\n",
              "3  New Zealand  Pakistan  New Zealand  ...  170.503576  New Zealand     True\n",
              "4       U.A.E.   Ireland      Ireland  ...   55.161646       U.A.E.     True\n",
              "\n",
              "[5 rows x 13 columns]"
            ]
          },
          "metadata": {
            "tags": []
          },
          "execution_count": 24
        }
      ]
    },
    {
      "cell_type": "code",
      "metadata": {
        "id": "a4jUCYrwuoTt"
      },
      "source": [
        "equal_1=cricket_data[cricket_data['equal_1']==True]"
      ],
      "execution_count": 25,
      "outputs": []
    },
    {
      "cell_type": "code",
      "metadata": {
        "colab": {
          "base_uri": "https://localhost:8080/"
        },
        "id": "HKdJHzDYuoYg",
        "outputId": "f3d8c4a6-8523-4294-8233-666567be2785"
      },
      "source": [
        "eq1=equal_1.groupby('Team 1')['equal_1'].sum()\r\n",
        "print(eq1)"
      ],
      "execution_count": 26,
      "outputs": [
        {
          "output_type": "stream",
          "text": [
            "Team 1\n",
            "Australia        8\n",
            "Bangladesh      11\n",
            "India            5\n",
            "Netherlands      2\n",
            "New Zealand      8\n",
            "South Africa     9\n",
            "Sri Lanka       10\n",
            "U.A.E.           5\n",
            "Zimbabwe        11\n",
            "Name: equal_1, dtype: int64\n"
          ],
          "name": "stdout"
        }
      ]
    },
    {
      "cell_type": "code",
      "metadata": {
        "id": "0u9l0hNJxD9j"
      },
      "source": [
        "comparison_column = np.where(cricket_data[\"Team 2\"] == cricket_data[\"Country\"], True, False)\r\n",
        "cricket_data['equal_2']=comparison_column\r\n"
      ],
      "execution_count": 27,
      "outputs": []
    },
    {
      "cell_type": "code",
      "metadata": {
        "colab": {
          "base_uri": "https://localhost:8080/",
          "height": 195
        },
        "id": "3KSz4F6GyT-B",
        "outputId": "c957b92a-ddef-49fa-c24e-aebf6ee29f7f"
      },
      "source": [
        "cricket_data.head()"
      ],
      "execution_count": 28,
      "outputs": [
        {
          "output_type": "execute_result",
          "data": {
            "text/html": [
              "<div>\n",
              "<style scoped>\n",
              "    .dataframe tbody tr th:only-of-type {\n",
              "        vertical-align: middle;\n",
              "    }\n",
              "\n",
              "    .dataframe tbody tr th {\n",
              "        vertical-align: top;\n",
              "    }\n",
              "\n",
              "    .dataframe thead th {\n",
              "        text-align: right;\n",
              "    }\n",
              "</style>\n",
              "<table border=\"1\" class=\"dataframe\">\n",
              "  <thead>\n",
              "    <tr style=\"text-align: right;\">\n",
              "      <th></th>\n",
              "      <th>Team 1</th>\n",
              "      <th>Team 2</th>\n",
              "      <th>Winner</th>\n",
              "      <th>Margin</th>\n",
              "      <th>Win by Runs</th>\n",
              "      <th>Win by Wickets</th>\n",
              "      <th>Ground</th>\n",
              "      <th>Match Date</th>\n",
              "      <th>Scorecard</th>\n",
              "      <th>lat</th>\n",
              "      <th>long</th>\n",
              "      <th>Country</th>\n",
              "      <th>equal_1</th>\n",
              "      <th>equal_2</th>\n",
              "    </tr>\n",
              "  </thead>\n",
              "  <tbody>\n",
              "    <tr>\n",
              "      <th>0</th>\n",
              "      <td>New Zealand</td>\n",
              "      <td>Pakistan</td>\n",
              "      <td>New Zealand</td>\n",
              "      <td>61 runs</td>\n",
              "      <td>61.0</td>\n",
              "      <td>NaN</td>\n",
              "      <td>Wellington</td>\n",
              "      <td>2018-01-06</td>\n",
              "      <td>ODI # 3946</td>\n",
              "      <td>-41.288795</td>\n",
              "      <td>174.777211</td>\n",
              "      <td>New Zealand</td>\n",
              "      <td>True</td>\n",
              "      <td>False</td>\n",
              "    </tr>\n",
              "    <tr>\n",
              "      <th>1</th>\n",
              "      <td>New Zealand</td>\n",
              "      <td>Pakistan</td>\n",
              "      <td>New Zealand</td>\n",
              "      <td>8 wickets</td>\n",
              "      <td>NaN</td>\n",
              "      <td>8.0</td>\n",
              "      <td>Nelson</td>\n",
              "      <td>2018-01-09</td>\n",
              "      <td>ODI # 3947</td>\n",
              "      <td>-41.271085</td>\n",
              "      <td>173.283676</td>\n",
              "      <td>New Zealand</td>\n",
              "      <td>True</td>\n",
              "      <td>False</td>\n",
              "    </tr>\n",
              "    <tr>\n",
              "      <th>2</th>\n",
              "      <td>U.A.E.</td>\n",
              "      <td>Ireland</td>\n",
              "      <td>Ireland</td>\n",
              "      <td>4 wickets</td>\n",
              "      <td>NaN</td>\n",
              "      <td>4.0</td>\n",
              "      <td>ICCA Dubai</td>\n",
              "      <td>2018-01-11</td>\n",
              "      <td>ODI # 3948</td>\n",
              "      <td>25.102259</td>\n",
              "      <td>55.161646</td>\n",
              "      <td>U.A.E.</td>\n",
              "      <td>True</td>\n",
              "      <td>False</td>\n",
              "    </tr>\n",
              "    <tr>\n",
              "      <th>3</th>\n",
              "      <td>New Zealand</td>\n",
              "      <td>Pakistan</td>\n",
              "      <td>New Zealand</td>\n",
              "      <td>183 runs</td>\n",
              "      <td>183.0</td>\n",
              "      <td>NaN</td>\n",
              "      <td>Dunedin</td>\n",
              "      <td>2018-01-13</td>\n",
              "      <td>ODI # 3949</td>\n",
              "      <td>-45.874098</td>\n",
              "      <td>170.503576</td>\n",
              "      <td>New Zealand</td>\n",
              "      <td>True</td>\n",
              "      <td>False</td>\n",
              "    </tr>\n",
              "    <tr>\n",
              "      <th>4</th>\n",
              "      <td>U.A.E.</td>\n",
              "      <td>Ireland</td>\n",
              "      <td>Ireland</td>\n",
              "      <td>67 runs</td>\n",
              "      <td>67.0</td>\n",
              "      <td>NaN</td>\n",
              "      <td>ICCA Dubai</td>\n",
              "      <td>2018-01-13</td>\n",
              "      <td>ODI # 3950</td>\n",
              "      <td>25.102259</td>\n",
              "      <td>55.161646</td>\n",
              "      <td>U.A.E.</td>\n",
              "      <td>True</td>\n",
              "      <td>False</td>\n",
              "    </tr>\n",
              "  </tbody>\n",
              "</table>\n",
              "</div>"
            ],
            "text/plain": [
              "        Team 1    Team 2       Winner  ...      Country  equal_1  equal_2\n",
              "0  New Zealand  Pakistan  New Zealand  ...  New Zealand     True    False\n",
              "1  New Zealand  Pakistan  New Zealand  ...  New Zealand     True    False\n",
              "2       U.A.E.   Ireland      Ireland  ...       U.A.E.     True    False\n",
              "3  New Zealand  Pakistan  New Zealand  ...  New Zealand     True    False\n",
              "4       U.A.E.   Ireland      Ireland  ...       U.A.E.     True    False\n",
              "\n",
              "[5 rows x 14 columns]"
            ]
          },
          "metadata": {
            "tags": []
          },
          "execution_count": 28
        }
      ]
    },
    {
      "cell_type": "code",
      "metadata": {
        "id": "--rSk0gLxEA6"
      },
      "source": [
        "equal_2=cricket_data[cricket_data['equal_2']==True]"
      ],
      "execution_count": 29,
      "outputs": []
    },
    {
      "cell_type": "code",
      "metadata": {
        "colab": {
          "base_uri": "https://localhost:8080/"
        },
        "id": "KkP15qNpxEEj",
        "outputId": "1540b3e7-8099-4569-ab4f-0172f253b9d2"
      },
      "source": [
        "eq2=equal_2.groupby('Team 2')['equal_2'].sum()\r\n",
        "print(eq2)"
      ],
      "execution_count": 30,
      "outputs": [
        {
          "output_type": "stream",
          "text": [
            "Team 2\n",
            "India    1\n",
            "Name: equal_2, dtype: int64\n"
          ],
          "name": "stdout"
        }
      ]
    },
    {
      "cell_type": "code",
      "metadata": {
        "id": "zwfqna_oyiG0"
      },
      "source": [
        "#Question 6\r\n",
        "sri_lanka=cricket_data[(cricket_data['Team 1']=='Sri Lanka') | (cricket_data['Team 2']=='Sri Lanka')]\r\n",
        "\r\n"
      ],
      "execution_count": 31,
      "outputs": []
    },
    {
      "cell_type": "code",
      "metadata": {
        "colab": {
          "base_uri": "https://localhost:8080/"
        },
        "id": "uxQ_EH0nyiig",
        "outputId": "142bec40-c972-4cf5-96ea-8cb57db26ce5"
      },
      "source": [
        "print(sri_lanka)"
      ],
      "execution_count": 32,
      "outputs": [
        {
          "output_type": "stream",
          "text": [
            "          Team 1        Team 2  ... equal_1 equal_2\n",
            "9      Sri Lanka      Zimbabwe  ...   False   False\n",
            "13    Bangladesh     Sri Lanka  ...    True   False\n",
            "16     Sri Lanka      Zimbabwe  ...   False   False\n",
            "19    Bangladesh     Sri Lanka  ...    True   False\n",
            "21    Bangladesh     Sri Lanka  ...    True   False\n",
            "79     Sri Lanka  South Africa  ...    True   False\n",
            "81     Sri Lanka  South Africa  ...    True   False\n",
            "83     Sri Lanka  South Africa  ...    True   False\n",
            "84     Sri Lanka  South Africa  ...    True   False\n",
            "85     Sri Lanka  South Africa  ...    True   False\n",
            "90    Bangladesh     Sri Lanka  ...   False   False\n",
            "92   Afghanistan     Sri Lanka  ...   False   False\n",
            "106    Sri Lanka       England  ...    True   False\n",
            "107    Sri Lanka       England  ...    True   False\n",
            "108    Sri Lanka       England  ...    True   False\n",
            "109    Sri Lanka       England  ...    True   False\n",
            "112    Sri Lanka       England  ...    True   False\n",
            "\n",
            "[17 rows x 14 columns]\n"
          ],
          "name": "stdout"
        }
      ]
    },
    {
      "cell_type": "code",
      "metadata": {
        "colab": {
          "base_uri": "https://localhost:8080/"
        },
        "id": "YV3QsHgmKCVw",
        "outputId": "7c72f935-f74e-4478-a00a-a7ac1706871c"
      },
      "source": [
        "win_column = np.where(sri_lanka[\"Winner\"] == \"Sri Lanka\", True, False)\r\n",
        "sri_lanka['Win/Lose']=win_column                             \r\n",
        "                                 "
      ],
      "execution_count": 33,
      "outputs": [
        {
          "output_type": "stream",
          "text": [
            "/usr/local/lib/python3.6/dist-packages/ipykernel_launcher.py:2: SettingWithCopyWarning: \n",
            "A value is trying to be set on a copy of a slice from a DataFrame.\n",
            "Try using .loc[row_indexer,col_indexer] = value instead\n",
            "\n",
            "See the caveats in the documentation: https://pandas.pydata.org/pandas-docs/stable/user_guide/indexing.html#returning-a-view-versus-a-copy\n",
            "  \n"
          ],
          "name": "stderr"
        }
      ]
    },
    {
      "cell_type": "code",
      "metadata": {
        "colab": {
          "base_uri": "https://localhost:8080/"
        },
        "id": "LWbMgUR1KCf5",
        "outputId": "295f5f9e-52e4-4e1b-d6ee-f8e2f97fcc19"
      },
      "source": [
        "print(sri_lanka)"
      ],
      "execution_count": 34,
      "outputs": [
        {
          "output_type": "stream",
          "text": [
            "          Team 1        Team 2        Winner  ... equal_1  equal_2  Win/Lose\n",
            "9      Sri Lanka      Zimbabwe      Zimbabwe  ...   False    False     False\n",
            "13    Bangladesh     Sri Lanka    Bangladesh  ...    True    False     False\n",
            "16     Sri Lanka      Zimbabwe     Sri Lanka  ...   False    False      True\n",
            "19    Bangladesh     Sri Lanka     Sri Lanka  ...    True    False      True\n",
            "21    Bangladesh     Sri Lanka     Sri Lanka  ...    True    False      True\n",
            "79     Sri Lanka  South Africa  South Africa  ...    True    False     False\n",
            "81     Sri Lanka  South Africa  South Africa  ...    True    False     False\n",
            "83     Sri Lanka  South Africa  South Africa  ...    True    False     False\n",
            "84     Sri Lanka  South Africa     Sri Lanka  ...    True    False      True\n",
            "85     Sri Lanka  South Africa     Sri Lanka  ...    True    False      True\n",
            "90    Bangladesh     Sri Lanka    Bangladesh  ...   False    False     False\n",
            "92   Afghanistan     Sri Lanka   Afghanistan  ...   False    False     False\n",
            "106    Sri Lanka       England     no result  ...    True    False     False\n",
            "107    Sri Lanka       England       England  ...    True    False     False\n",
            "108    Sri Lanka       England       England  ...    True    False     False\n",
            "109    Sri Lanka       England       England  ...    True    False     False\n",
            "112    Sri Lanka       England     Sri Lanka  ...    True    False      True\n",
            "\n",
            "[17 rows x 15 columns]\n"
          ],
          "name": "stdout"
        }
      ]
    },
    {
      "cell_type": "code",
      "metadata": {
        "colab": {
          "base_uri": "https://localhost:8080/"
        },
        "id": "2fKPWXTbpUS-",
        "outputId": "10a0c0ba-33f6-466d-c7b9-a5e68dee86ea"
      },
      "source": [
        "home_column = np.where(sri_lanka[\"Country\"] == \"Sri Lanka\", True, False)\r\n",
        "sri_lanka['Home/Away']=home_column"
      ],
      "execution_count": 35,
      "outputs": [
        {
          "output_type": "stream",
          "text": [
            "/usr/local/lib/python3.6/dist-packages/ipykernel_launcher.py:2: SettingWithCopyWarning: \n",
            "A value is trying to be set on a copy of a slice from a DataFrame.\n",
            "Try using .loc[row_indexer,col_indexer] = value instead\n",
            "\n",
            "See the caveats in the documentation: https://pandas.pydata.org/pandas-docs/stable/user_guide/indexing.html#returning-a-view-versus-a-copy\n",
            "  \n"
          ],
          "name": "stderr"
        }
      ]
    },
    {
      "cell_type": "code",
      "metadata": {
        "colab": {
          "base_uri": "https://localhost:8080/"
        },
        "id": "5Dm-5DslsSU5",
        "outputId": "8662b924-b386-458f-b1b8-67438678091c"
      },
      "source": [
        "print(sri_lanka)"
      ],
      "execution_count": 36,
      "outputs": [
        {
          "output_type": "stream",
          "text": [
            "          Team 1        Team 2        Winner  ... equal_2  Win/Lose  Home/Away\n",
            "9      Sri Lanka      Zimbabwe      Zimbabwe  ...   False     False      False\n",
            "13    Bangladesh     Sri Lanka    Bangladesh  ...   False     False      False\n",
            "16     Sri Lanka      Zimbabwe     Sri Lanka  ...   False      True      False\n",
            "19    Bangladesh     Sri Lanka     Sri Lanka  ...   False      True      False\n",
            "21    Bangladesh     Sri Lanka     Sri Lanka  ...   False      True      False\n",
            "79     Sri Lanka  South Africa  South Africa  ...   False     False       True\n",
            "81     Sri Lanka  South Africa  South Africa  ...   False     False       True\n",
            "83     Sri Lanka  South Africa  South Africa  ...   False     False       True\n",
            "84     Sri Lanka  South Africa     Sri Lanka  ...   False      True       True\n",
            "85     Sri Lanka  South Africa     Sri Lanka  ...   False      True       True\n",
            "90    Bangladesh     Sri Lanka    Bangladesh  ...   False     False      False\n",
            "92   Afghanistan     Sri Lanka   Afghanistan  ...   False     False      False\n",
            "106    Sri Lanka       England     no result  ...   False     False       True\n",
            "107    Sri Lanka       England       England  ...   False     False       True\n",
            "108    Sri Lanka       England       England  ...   False     False       True\n",
            "109    Sri Lanka       England       England  ...   False     False       True\n",
            "112    Sri Lanka       England     Sri Lanka  ...   False      True       True\n",
            "\n",
            "[17 rows x 16 columns]\n"
          ],
          "name": "stdout"
        }
      ]
    },
    {
      "cell_type": "code",
      "metadata": {
        "colab": {
          "base_uri": "https://localhost:8080/"
        },
        "id": "jOtsyhLyNfP9",
        "outputId": "83196935-9b03-4a9e-f9f9-85e6964ac2cb"
      },
      "source": [
        "print(sri_lanka['Home/Away'].value_counts())"
      ],
      "execution_count": 37,
      "outputs": [
        {
          "output_type": "stream",
          "text": [
            "True     10\n",
            "False     7\n",
            "Name: Home/Away, dtype: int64\n"
          ],
          "name": "stdout"
        }
      ]
    },
    {
      "cell_type": "code",
      "metadata": {
        "id": "-HN7QksqNfhi",
        "colab": {
          "base_uri": "https://localhost:8080/"
        },
        "outputId": "9567c70d-7bc4-403b-f614-050b82d9591c"
      },
      "source": [
        "print(sri_lanka['Winner'].value_counts())"
      ],
      "execution_count": 38,
      "outputs": [
        {
          "output_type": "stream",
          "text": [
            "Sri Lanka       6\n",
            "South Africa    3\n",
            "England         3\n",
            "Bangladesh      2\n",
            "no result       1\n",
            "Zimbabwe        1\n",
            "Afghanistan     1\n",
            "Name: Winner, dtype: int64\n"
          ],
          "name": "stdout"
        }
      ]
    },
    {
      "cell_type": "code",
      "metadata": {
        "colab": {
          "base_uri": "https://localhost:8080/"
        },
        "id": "cJMgVCPFGEjx",
        "outputId": "2b2fb741-3d0f-4175-cf27-a4dda5a60f17"
      },
      "source": [
        "#Winning/Losing percentage of Sri Lanka\r\n",
        "sri_per=sri_lanka['Win/Lose'].value_counts(normalize=True)*100\r\n",
        "print(sri_per)"
      ],
      "execution_count": 39,
      "outputs": [
        {
          "output_type": "stream",
          "text": [
            "False    64.705882\n",
            "True     35.294118\n",
            "Name: Win/Lose, dtype: float64\n"
          ],
          "name": "stdout"
        }
      ]
    },
    {
      "cell_type": "code",
      "metadata": {
        "colab": {
          "base_uri": "https://localhost:8080/",
          "height": 248
        },
        "id": "3tLOYLlIHqXn",
        "outputId": "fc7c0ea5-65d3-40fa-e904-4e8b52413067"
      },
      "source": [
        "import matplotlib.pyplot as plt\r\n",
        "labels=['Lose','Win']\r\n",
        "plt.pie(sri_per,labels=labels,startangle=90, autopct='%1.1f%%')\r\n",
        "\r\n",
        "plt.axis('equal')\r\n",
        "\r\n",
        "plt.show()"
      ],
      "execution_count": 40,
      "outputs": [
        {
          "output_type": "display_data",
          "data": {
            "image/png": "[encoded data removed]",
            "text/plain": [
              "<Figure size 432x288 with 1 Axes>"
            ]
          },
          "metadata": {
            "tags": []
          }
        }
      ]
    },
    {
      "cell_type": "code",
      "metadata": {
        "colab": {
          "base_uri": "https://localhost:8080/"
        },
        "id": "zQrvAc405SjR",
        "outputId": "373ec8d1-3430-4d9e-9961-5e82e78efd58"
      },
      "source": [
        "#Winning percentage in the home country Sri Lanka\r\n",
        "home_win=sri_lanka[sri_lanka['Country']=='Sri Lanka']\r\n",
        "print(home_win)"
      ],
      "execution_count": 41,
      "outputs": [
        {
          "output_type": "stream",
          "text": [
            "        Team 1        Team 2        Winner  ... equal_2  Win/Lose  Home/Away\n",
            "79   Sri Lanka  South Africa  South Africa  ...   False     False       True\n",
            "81   Sri Lanka  South Africa  South Africa  ...   False     False       True\n",
            "83   Sri Lanka  South Africa  South Africa  ...   False     False       True\n",
            "84   Sri Lanka  South Africa     Sri Lanka  ...   False      True       True\n",
            "85   Sri Lanka  South Africa     Sri Lanka  ...   False      True       True\n",
            "106  Sri Lanka       England     no result  ...   False     False       True\n",
            "107  Sri Lanka       England       England  ...   False     False       True\n",
            "108  Sri Lanka       England       England  ...   False     False       True\n",
            "109  Sri Lanka       England       England  ...   False     False       True\n",
            "112  Sri Lanka       England     Sri Lanka  ...   False      True       True\n",
            "\n",
            "[10 rows x 16 columns]\n"
          ],
          "name": "stdout"
        }
      ]
    },
    {
      "cell_type": "code",
      "metadata": {
        "colab": {
          "base_uri": "https://localhost:8080/"
        },
        "id": "Es79lCrTMBpR",
        "outputId": "c75177cb-7fee-4c02-f66b-4df81875aac2"
      },
      "source": [
        "home_win_per=home_win['Winner'].value_counts(normalize=True)*100\r\n",
        "print(home_win_per)"
      ],
      "execution_count": 42,
      "outputs": [
        {
          "output_type": "stream",
          "text": [
            "South Africa    30.0\n",
            "Sri Lanka       30.0\n",
            "England         30.0\n",
            "no result       10.0\n",
            "Name: Winner, dtype: float64\n"
          ],
          "name": "stdout"
        }
      ]
    },
    {
      "cell_type": "code",
      "metadata": {
        "colab": {
          "base_uri": "https://localhost:8080/",
          "height": 248
        },
        "id": "-hYvr_8fMpqq",
        "outputId": "256225d0-88b7-40fc-d5ce-0c7ba07496e7"
      },
      "source": [
        "labels=['South Africa','Sri Lanka','England','Tie']\r\n",
        "plt.pie(home_win_per,labels=labels,startangle=90, autopct='%1.1f%%')\r\n",
        "\r\n",
        "plt.axis('equal')\r\n",
        "\r\n",
        "plt.show()"
      ],
      "execution_count": 43,
      "outputs": [
        {
          "output_type": "display_data",
          "data": {
            "image/png": "[encoded data removed]",
            "text/plain": [
              "<Figure size 432x288 with 1 Axes>"
            ]
          },
          "metadata": {
            "tags": []
          }
        }
      ]
    },
    {
      "cell_type": "code",
      "metadata": {
        "colab": {
          "base_uri": "https://localhost:8080/"
        },
        "id": "UZqNnlcQWdha",
        "outputId": "e61b2dff-c37b-4927-e980-2487f0ca822a"
      },
      "source": [
        "#winning percentage of Sri Lanka outside home country\r\n",
        "not_home_win=sri_lanka[sri_lanka['Country']!='Sri Lanka']\r\n",
        "print(not_home_win)"
      ],
      "execution_count": 44,
      "outputs": [
        {
          "output_type": "stream",
          "text": [
            "         Team 1     Team 2       Winner  ... equal_2  Win/Lose  Home/Away\n",
            "9     Sri Lanka   Zimbabwe     Zimbabwe  ...   False     False      False\n",
            "13   Bangladesh  Sri Lanka   Bangladesh  ...   False     False      False\n",
            "16    Sri Lanka   Zimbabwe    Sri Lanka  ...   False      True      False\n",
            "19   Bangladesh  Sri Lanka    Sri Lanka  ...   False      True      False\n",
            "21   Bangladesh  Sri Lanka    Sri Lanka  ...   False      True      False\n",
            "90   Bangladesh  Sri Lanka   Bangladesh  ...   False     False      False\n",
            "92  Afghanistan  Sri Lanka  Afghanistan  ...   False     False      False\n",
            "\n",
            "[7 rows x 16 columns]\n"
          ],
          "name": "stdout"
        }
      ]
    },
    {
      "cell_type": "code",
      "metadata": {
        "colab": {
          "base_uri": "https://localhost:8080/"
        },
        "id": "y1bdZgHZWdny",
        "outputId": "acc382a6-10c9-461d-9f0a-635aea52ffd8"
      },
      "source": [
        "not_home_win_per=not_home_win['Winner'].value_counts(normalize=True)*100\r\n",
        "print(not_home_win_per)"
      ],
      "execution_count": 45,
      "outputs": [
        {
          "output_type": "stream",
          "text": [
            "Sri Lanka      42.857143\n",
            "Bangladesh     28.571429\n",
            "Zimbabwe       14.285714\n",
            "Afghanistan    14.285714\n",
            "Name: Winner, dtype: float64\n"
          ],
          "name": "stdout"
        }
      ]
    },
    {
      "cell_type": "code",
      "metadata": {
        "colab": {
          "base_uri": "https://localhost:8080/",
          "height": 248
        },
        "id": "1u0UjDDrWdrp",
        "outputId": "52908664-1b0e-47b2-8478-dbe2e3d57b8e"
      },
      "source": [
        "labelsnot=['Sri Lanka','Bangladesh','Afghanistan','Zimbabwe']\r\n",
        "plt.pie(not_home_win_per,labels=labelsnot,startangle=90, autopct='%1.1f%%')\r\n",
        "\r\n",
        "plt.axis('equal')\r\n",
        "\r\n",
        "plt.show()"
      ],
      "execution_count": 46,
      "outputs": [
        {
          "output_type": "display_data",
          "data": {
            "image/png": "[encoded data removed]",
            "text/plain": [
              "<Figure size 432x288 with 1 Axes>"
            ]
          },
          "metadata": {
            "tags": []
          }
        }
      ]
    },
    {
      "cell_type": "code",
      "metadata": {
        "colab": {
          "base_uri": "https://localhost:8080/"
        },
        "id": "mcI2oExe6uyQ",
        "outputId": "9742c937-246d-4e1c-8afd-be97c510edf6"
      },
      "source": [
        "#No of matches played by Sri Lanka compared to other countries\r\n",
        "matchcount1=cricket_data['Team 1'].value_counts()\r\n",
        "print(matchcount1)\r\n",
        "\r\n"
      ],
      "execution_count": 47,
      "outputs": [
        {
          "output_type": "stream",
          "text": [
            "Afghanistan     16\n",
            "Bangladesh      15\n",
            "New Zealand     13\n",
            "Sri Lanka       12\n",
            "Zimbabwe        11\n",
            "South Africa     9\n",
            "Ireland          9\n",
            "England          8\n",
            "Australia        8\n",
            "India            7\n",
            "U.A.E.           5\n",
            "Hong Kong        4\n",
            "Scotland         3\n",
            "West Indies      3\n",
            "Netherlands      2\n",
            "P.N.G.           2\n",
            "Nepal            1\n",
            "Name: Team 1, dtype: int64\n"
          ],
          "name": "stdout"
        }
      ]
    },
    {
      "cell_type": "code",
      "metadata": {
        "colab": {
          "base_uri": "https://localhost:8080/"
        },
        "id": "aFiXao3v7cA6",
        "outputId": "50e47d41-1782-424b-967e-01fab28a7585"
      },
      "source": [
        "matchcount2=cricket_data['Team 2'].value_counts()\r\n",
        "print(matchcount2)\r\n"
      ],
      "execution_count": 48,
      "outputs": [
        {
          "output_type": "stream",
          "text": [
            "Pakistan        18\n",
            "England         16\n",
            "West Indies     15\n",
            "Zimbabwe        15\n",
            "India           13\n",
            "Scotland         8\n",
            "South Africa     8\n",
            "U.A.E.           6\n",
            "Sri Lanka        5\n",
            "Australia        5\n",
            "Bangladesh       5\n",
            "Ireland          4\n",
            "Afghanistan      4\n",
            "P.N.G.           2\n",
            "Nepal            2\n",
            "Hong Kong        2\n",
            "Name: Team 2, dtype: int64\n"
          ],
          "name": "stdout"
        }
      ]
    },
    {
      "cell_type": "code",
      "metadata": {
        "colab": {
          "base_uri": "https://localhost:8080/"
        },
        "id": "GNpKWMFI7cKs",
        "outputId": "5cfc4334-e9e0-49cf-aa8a-bdd91d8627a7"
      },
      "source": [
        "matchcount=matchcount1.add(matchcount2, fill_value=0)\r\n",
        "print(matchcount)"
      ],
      "execution_count": 49,
      "outputs": [
        {
          "output_type": "stream",
          "text": [
            "Afghanistan     20.0\n",
            "Australia       13.0\n",
            "Bangladesh      20.0\n",
            "England         24.0\n",
            "Hong Kong        6.0\n",
            "India           20.0\n",
            "Ireland         13.0\n",
            "Nepal            3.0\n",
            "Netherlands      2.0\n",
            "New Zealand     13.0\n",
            "P.N.G.           4.0\n",
            "Pakistan        18.0\n",
            "Scotland        11.0\n",
            "South Africa    17.0\n",
            "Sri Lanka       17.0\n",
            "U.A.E.          11.0\n",
            "West Indies     18.0\n",
            "Zimbabwe        26.0\n",
            "dtype: float64\n"
          ],
          "name": "stdout"
        }
      ]
    },
    {
      "cell_type": "code",
      "metadata": {
        "colab": {
          "base_uri": "https://localhost:8080/"
        },
        "id": "LXrNwJXF-3Bf",
        "outputId": "3ff4e3a8-8288-4db3-a754-b1877e037778"
      },
      "source": [
        "countcountry1=cricket_data['Team 1'].unique()\r\n",
        "print(countcountry1)"
      ],
      "execution_count": 50,
      "outputs": [
        {
          "output_type": "stream",
          "text": [
            "['New Zealand' 'U.A.E.' 'Australia' 'Bangladesh' 'Ireland' 'Sri Lanka'\n",
            " 'South Africa' 'Afghanistan' 'P.N.G.' 'Hong Kong' 'Zimbabwe' 'Scotland'\n",
            " 'England' 'West Indies' 'Netherlands' 'Nepal' 'India']\n"
          ],
          "name": "stdout"
        }
      ]
    },
    {
      "cell_type": "code",
      "metadata": {
        "colab": {
          "base_uri": "https://localhost:8080/"
        },
        "id": "X7jYKz8-_Qy0",
        "outputId": "e62f40e7-8393-4259-87bf-47e3759b9281"
      },
      "source": [
        "countcountry2=cricket_data['Team 2'].unique()\r\n",
        "print(countcountry2)\r\n"
      ],
      "execution_count": 51,
      "outputs": [
        {
          "output_type": "stream",
          "text": [
            "['Pakistan' 'Ireland' 'England' 'Zimbabwe' 'Scotland' 'Sri Lanka' 'India'\n",
            " 'U.A.E.' 'P.N.G.' 'West Indies' 'Afghanistan' 'Hong Kong' 'Australia'\n",
            " 'Bangladesh' 'South Africa' 'Nepal']\n"
          ],
          "name": "stdout"
        }
      ]
    },
    {
      "cell_type": "code",
      "metadata": {
        "colab": {
          "base_uri": "https://localhost:8080/"
        },
        "id": "yxPZrzfy_jV2",
        "outputId": "61fc4906-71d4-4c8d-849e-15c63b5ffdcd"
      },
      "source": [
        "resulting_list = list(countcountry1)\r\n",
        "resulting_list.extend(x for x in countcountry2 if x not in resulting_list)\r\n",
        "Countries = sorted(resulting_list)\r\n",
        "print(Countries)"
      ],
      "execution_count": 52,
      "outputs": [
        {
          "output_type": "stream",
          "text": [
            "['Afghanistan', 'Australia', 'Bangladesh', 'England', 'Hong Kong', 'India', 'Ireland', 'Nepal', 'Netherlands', 'New Zealand', 'P.N.G.', 'Pakistan', 'Scotland', 'South Africa', 'Sri Lanka', 'U.A.E.', 'West Indies', 'Zimbabwe']\n"
          ],
          "name": "stdout"
        }
      ]
    },
    {
      "cell_type": "code",
      "metadata": {
        "colab": {
          "base_uri": "https://localhost:8080/",
          "height": 518
        },
        "id": "-sLgvd1v-cjt",
        "outputId": "09311efb-195b-4b04-eae9-bd98d86704ad"
      },
      "source": [
        "fig = plt.figure(figsize =(10, 7)) \r\n",
        "plt.bar(Countries,matchcount)\r\n",
        "plt.xticks(rotation=90)"
      ],
      "execution_count": 53,
      "outputs": [
        {
          "output_type": "execute_result",
          "data": {
            "text/plain": [
              "([0, 1, 2, 3, 4, 5, 6, 7, 8, 9, 10, 11, 12, 13, 14, 15, 16, 17],\n",
              " <a list of 18 Text major ticklabel objects>)"
            ]
          },
          "metadata": {
            "tags": []
          },
          "execution_count": 53
        },
        {
          "output_type": "display_data",
          "data": {
            "image/png": "[encoded data removed]",
            "text/plain": [
              "<Figure size 720x504 with 1 Axes>"
            ]
          },
          "metadata": {
            "tags": [],
            "needs_background": "light"
          }
        }
      ]
    },
    {
      "cell_type": "code",
      "metadata": {
        "colab": {
          "base_uri": "https://localhost:8080/"
        },
        "id": "M6AKBxoi-czT",
        "outputId": "bc2d2a38-45d4-4475-92df-f1a3e7a4ccba"
      },
      "source": [
        "sri_lanka['Match Date'] = pd.to_datetime(sri_lanka['Match Date'])\r\n",
        "dg = sri_lanka.groupby(pd.Grouper(key='Match Date', freq='1M'))['Win/Lose'].sum() # groupby each 1 month\r\n",
        "print(dg)"
      ],
      "execution_count": 54,
      "outputs": [
        {
          "output_type": "stream",
          "text": [
            "Match Date\n",
            "2018-01-31    3\n",
            "2018-02-28    0\n",
            "2018-03-31    0\n",
            "2018-04-30    0\n",
            "2018-05-31    0\n",
            "2018-06-30    0\n",
            "2018-07-31    0\n",
            "2018-08-31    2\n",
            "2018-09-30    0\n",
            "2018-10-31    1\n",
            "Freq: M, Name: Win/Lose, dtype: int64\n"
          ],
          "name": "stdout"
        },
        {
          "output_type": "stream",
          "text": [
            "/usr/local/lib/python3.6/dist-packages/ipykernel_launcher.py:1: SettingWithCopyWarning: \n",
            "A value is trying to be set on a copy of a slice from a DataFrame.\n",
            "Try using .loc[row_indexer,col_indexer] = value instead\n",
            "\n",
            "See the caveats in the documentation: https://pandas.pydata.org/pandas-docs/stable/user_guide/indexing.html#returning-a-view-versus-a-copy\n",
            "  \"\"\"Entry point for launching an IPython kernel.\n"
          ],
          "name": "stderr"
        }
      ]
    },
    {
      "cell_type": "code",
      "metadata": {
        "colab": {
          "base_uri": "https://localhost:8080/",
          "height": 313
        },
        "id": "Z_dyISkKodds",
        "outputId": "7561e09c-4256-40de-a180-6a394ed2c123"
      },
      "source": [
        "plt.plot(dg)\r\n",
        "plt.xticks(rotation=90)\r\n",
        "plt.title('Sri Lanka Win per month')\r\n",
        "plt.show()"
      ],
      "execution_count": 55,
      "outputs": [
        {
          "output_type": "display_data",
          "data": {
            "image/png": "[encoded data removed]",
            "text/plain": [
              "<Figure size 432x288 with 1 Axes>"
            ]
          },
          "metadata": {
            "tags": [],
            "needs_background": "light"
          }
        }
      ]
    },
    {
      "cell_type": "code",
      "metadata": {
        "colab": {
          "base_uri": "https://localhost:8080/"
        },
        "id": "Rc_zbvcYpbuD",
        "outputId": "f784dc58-f6a0-4250-d87e-8e0ec7240ae6"
      },
      "source": [
        "#Question 7\r\n",
        "cricket_data.info()"
      ],
      "execution_count": 56,
      "outputs": [
        {
          "output_type": "stream",
          "text": [
            "<class 'pandas.core.frame.DataFrame'>\n",
            "RangeIndex: 128 entries, 0 to 127\n",
            "Data columns (total 14 columns):\n",
            " #   Column          Non-Null Count  Dtype         \n",
            "---  ------          --------------  -----         \n",
            " 0   Team 1          128 non-null    object        \n",
            " 1   Team 2          128 non-null    object        \n",
            " 2   Winner          128 non-null    object        \n",
            " 3   Margin          123 non-null    object        \n",
            " 4   Win by Runs     63 non-null     float64       \n",
            " 5   Win by Wickets  58 non-null     float64       \n",
            " 6   Ground          128 non-null    object        \n",
            " 7   Match Date      128 non-null    datetime64[ns]\n",
            " 8   Scorecard       128 non-null    object        \n",
            " 9   lat             128 non-null    float64       \n",
            " 10  long            128 non-null    float64       \n",
            " 11  Country         128 non-null    object        \n",
            " 12  equal_1         128 non-null    bool          \n",
            " 13  equal_2         128 non-null    bool          \n",
            "dtypes: bool(2), datetime64[ns](1), float64(4), object(7)\n",
            "memory usage: 12.4+ KB\n"
          ],
          "name": "stdout"
        }
      ]
    },
    {
      "cell_type": "code",
      "metadata": {
        "colab": {
          "base_uri": "https://localhost:8080/"
        },
        "id": "EYerso--rw3r",
        "outputId": "7844a937-4baa-4ddd-a825-f17e8967dd14"
      },
      "source": [
        "winruns=cricket_data.sort_values(by='Win by Runs', ascending=False)\r\n",
        "print(winruns[['Team 1','Team 2','Winner','Win by Runs']].head())"
      ],
      "execution_count": 57,
      "outputs": [
        {
          "output_type": "stream",
          "text": [
            "        Team 1       Team 2     Winner  Win by Runs\n",
            "74    Zimbabwe     Pakistan   Pakistan        244.0\n",
            "65     England    Australia    England        242.0\n",
            "49     Ireland       U.A.E.    Ireland        226.0\n",
            "117      India  West Indies      India        224.0\n",
            "112  Sri Lanka      England  Sri Lanka        219.0\n"
          ],
          "name": "stdout"
        }
      ]
    },
    {
      "cell_type": "code",
      "metadata": {
        "colab": {
          "base_uri": "https://localhost:8080/"
        },
        "id": "-cL0ccWFp-T0",
        "outputId": "4268bf67-ffe8-46e0-ba4b-b740399fd57f"
      },
      "source": [
        "#Question 8,10\r\n",
        "\r\n",
        "cricket_data['Match Date'] = pd.to_datetime(cricket_data['Match Date'])\r\n",
        "odimnth = cricket_data.groupby(pd.Grouper(key='Match Date', freq='1M')).size()\r\n",
        "print(odimnth.sort_values(ascending=False))\r\n"
      ],
      "execution_count": 58,
      "outputs": [
        {
          "output_type": "stream",
          "text": [
            "Match Date\n",
            "2018-03-31    26\n",
            "2018-01-31    23\n",
            "2018-10-31    14\n",
            "2018-09-30    14\n",
            "2018-02-28    13\n",
            "2018-07-31    12\n",
            "2018-08-31    10\n",
            "2018-11-30     7\n",
            "2018-06-30     6\n",
            "2018-12-31     3\n",
            "2018-05-31     0\n",
            "2018-04-30     0\n",
            "dtype: int64\n"
          ],
          "name": "stdout"
        }
      ]
    },
    {
      "cell_type": "code",
      "metadata": {
        "colab": {
          "base_uri": "https://localhost:8080/",
          "height": 313
        },
        "id": "mb1eHaNIVFGR",
        "outputId": "b5161110-2fed-434d-9ed8-06fd4a62e80b"
      },
      "source": [
        "plt.plot(odimnth)\r\n",
        "plt.xticks(rotation=90)\r\n",
        "plt.title('Matches in months')\r\n",
        "plt.show()"
      ],
      "execution_count": 59,
      "outputs": [
        {
          "output_type": "display_data",
          "data": {
            "image/png": "[encoded data removed]",
            "text/plain": [
              "<Figure size 432x288 with 1 Axes>"
            ]
          },
          "metadata": {
            "tags": [],
            "needs_background": "light"
          }
        }
      ]
    },
    {
      "cell_type": "code",
      "metadata": {
        "colab": {
          "base_uri": "https://localhost:8080/"
        },
        "id": "31vOJlu0s8-s",
        "outputId": "8a2155e8-cafd-4abd-c24e-ec7c651ca7e7"
      },
      "source": [
        "#Question 9\r\n",
        "not_eq1=cricket_data[cricket_data['equal_1']==False]\r\n",
        "neq1=not_eq1.groupby('Team 1')['equal_1'].count()\r\n",
        "print(neq1)"
      ],
      "execution_count": 60,
      "outputs": [
        {
          "output_type": "stream",
          "text": [
            "Team 1\n",
            "Afghanistan    16\n",
            "Bangladesh      4\n",
            "England         8\n",
            "Hong Kong       4\n",
            "India           2\n",
            "Ireland         9\n",
            "Nepal           1\n",
            "New Zealand     5\n",
            "P.N.G.          2\n",
            "Scotland        3\n",
            "Sri Lanka       2\n",
            "West Indies     3\n",
            "Name: equal_1, dtype: int64\n"
          ],
          "name": "stdout"
        }
      ]
    },
    {
      "cell_type": "code",
      "metadata": {
        "colab": {
          "base_uri": "https://localhost:8080/"
        },
        "id": "Mt3zifXtxB6E",
        "outputId": "a358da9d-61c8-4fab-8700-eaadcf163f4f"
      },
      "source": [
        "not_eq2=cricket_data[cricket_data['equal_2']==False]\r\n",
        "neq2=not_eq2.groupby('Team 2')['equal_2'].count()\r\n",
        "print(neq2)"
      ],
      "execution_count": 61,
      "outputs": [
        {
          "output_type": "stream",
          "text": [
            "Team 2\n",
            "Afghanistan      4\n",
            "Australia        5\n",
            "Bangladesh       5\n",
            "England         16\n",
            "Hong Kong        2\n",
            "India           12\n",
            "Ireland          4\n",
            "Nepal            2\n",
            "P.N.G.           2\n",
            "Pakistan        18\n",
            "Scotland         8\n",
            "South Africa     8\n",
            "Sri Lanka        5\n",
            "U.A.E.           6\n",
            "West Indies     15\n",
            "Zimbabwe        15\n",
            "Name: equal_2, dtype: int64\n"
          ],
          "name": "stdout"
        }
      ]
    },
    {
      "cell_type": "code",
      "metadata": {
        "colab": {
          "base_uri": "https://localhost:8080/"
        },
        "id": "gCpRg__VxkWF",
        "outputId": "c046ffea-c191-4ef4-8eb8-9744819a801e"
      },
      "source": [
        "neq=neq1.add(neq2, fill_value=0)\r\n",
        "print(neq.sort_values(ascending=False))"
      ],
      "execution_count": 62,
      "outputs": [
        {
          "output_type": "stream",
          "text": [
            "England         24.0\n",
            "Afghanistan     20.0\n",
            "Pakistan        18.0\n",
            "West Indies     18.0\n",
            "Zimbabwe        15.0\n",
            "India           14.0\n",
            "Ireland         13.0\n",
            "Scotland        11.0\n",
            "Bangladesh       9.0\n",
            "South Africa     8.0\n",
            "Sri Lanka        7.0\n",
            "Hong Kong        6.0\n",
            "U.A.E.           6.0\n",
            "Australia        5.0\n",
            "New Zealand      5.0\n",
            "P.N.G.           4.0\n",
            "Nepal            3.0\n",
            "dtype: float64\n"
          ],
          "name": "stdout"
        }
      ]
    },
    {
      "cell_type": "code",
      "metadata": {
        "colab": {
          "base_uri": "https://localhost:8080/"
        },
        "id": "uAO7A3DHUrtf",
        "outputId": "00f246c0-c5d3-433c-e223-d87506604efd"
      },
      "source": [
        "#Question 11\r\n",
        "cricket_data['Ground'].value_counts()\r\n",
        "\t\r\n"
      ],
      "execution_count": 63,
      "outputs": [
        {
          "output_type": "execute_result",
          "data": {
            "text/plain": [
              "Harare                16\n",
              "Bulawayo              12\n",
              "Dhaka                 10\n",
              "Dubai (DSC)            9\n",
              "Abu Dhabi              7\n",
              "ICCA Dubai             6\n",
              "Sharjah                5\n",
              "Dambulla               4\n",
              "Pallekele              4\n",
              "Wellington             3\n",
              "Belfast                3\n",
              "Centurion              2\n",
              "Dunedin                2\n",
              "Providence             2\n",
              "Nottingham             2\n",
              "Hamilton               2\n",
              "Amstelveen             2\n",
              "Perth                  2\n",
              "Adelaide               2\n",
              "Colombo (RPS)          2\n",
              "Chattogram             2\n",
              "Cardiff                1\n",
              "Port Elizabeth         1\n",
              "Pune                   1\n",
              "Basseterre             1\n",
              "Johannesburg           1\n",
              "The Oval               1\n",
              "Bloemfontein           1\n",
              "Sylhet                 1\n",
              "Christchurch           1\n",
              "Cape Town              1\n",
              "Chester-le-Street      1\n",
              "Kimberley              1\n",
              "Visakhapatnam          1\n",
              "Hobart                 1\n",
              "Lord's                 1\n",
              "Kuala Lumpur           1\n",
              "Mumbai (BS)            1\n",
              "Thiruvananthapuram     1\n",
              "Nelson                 1\n",
              "Manchester             1\n",
              "Melbourne              1\n",
              "Durban                 1\n",
              "Guwahati               1\n",
              "Edinburgh              1\n",
              "Mount Maunganui        1\n",
              "Sydney                 1\n",
              "Brisbane               1\n",
              "Leeds                  1\n",
              "Paarl                  1\n",
              "Name: Ground, dtype: int64"
            ]
          },
          "metadata": {
            "tags": []
          },
          "execution_count": 63
        }
      ]
    },
    {
      "cell_type": "code",
      "metadata": {
        "colab": {
          "base_uri": "https://localhost:8080/"
        },
        "id": "XVCM6wa7UrxS",
        "outputId": "d39c336d-f11d-4233-9e6d-09f6fc042de3"
      },
      "source": [
        "#Question 12\r\n",
        "India=cricket_data[(cricket_data['Team 1']=='India') | (cricket_data['Team 2']=='India')]\r\n",
        "print(India)"
      ],
      "execution_count": 90,
      "outputs": [
        {
          "output_type": "stream",
          "text": [
            "           Team 1       Team 2  ... equal_1 equal_2\n",
            "23   South Africa        India  ...    True   False\n",
            "24   South Africa        India  ...    True   False\n",
            "25   South Africa        India  ...    True   False\n",
            "27   South Africa        India  ...    True   False\n",
            "30   South Africa        India  ...    True   False\n",
            "32   South Africa        India  ...    True   False\n",
            "68        England        India  ...   False   False\n",
            "70        England        India  ...   False    True\n",
            "72        England        India  ...   False   False\n",
            "93      Hong Kong        India  ...   False   False\n",
            "94          India     Pakistan  ...   False   False\n",
            "96     Bangladesh        India  ...   False   False\n",
            "98          India     Pakistan  ...   False   False\n",
            "100   Afghanistan        India  ...   False   False\n",
            "102    Bangladesh        India  ...   False   False\n",
            "110         India  West Indies  ...    True   False\n",
            "113         India  West Indies  ...    True   False\n",
            "116         India  West Indies  ...    True   False\n",
            "117         India  West Indies  ...    True   False\n",
            "118         India  West Indies  ...    True   False\n",
            "\n",
            "[20 rows x 14 columns]\n"
          ],
          "name": "stdout"
        }
      ]
    },
    {
      "cell_type": "code",
      "metadata": {
        "colab": {
          "base_uri": "https://localhost:8080/"
        },
        "id": "8iYr3KnQUr1W",
        "outputId": "059c8b30-68c1-4e25-fe50-05efb5b94111"
      },
      "source": [
        "print(India[['Team 1','Team 2','Winner','Win by Runs','Win by Wickets']])"
      ],
      "execution_count": 91,
      "outputs": [
        {
          "output_type": "stream",
          "text": [
            "           Team 1       Team 2        Winner  Win by Runs  Win by Wickets\n",
            "23   South Africa        India         India          NaN             6.0\n",
            "24   South Africa        India         India          NaN             9.0\n",
            "25   South Africa        India         India        124.0             NaN\n",
            "27   South Africa        India  South Africa          NaN             5.0\n",
            "30   South Africa        India         India         73.0             NaN\n",
            "32   South Africa        India         India          NaN             8.0\n",
            "68        England        India         India          NaN             8.0\n",
            "70        England        India       England         86.0             NaN\n",
            "72        England        India       England          NaN             8.0\n",
            "93      Hong Kong        India         India         26.0             NaN\n",
            "94          India     Pakistan         India          NaN             8.0\n",
            "96     Bangladesh        India         India          NaN             7.0\n",
            "98          India     Pakistan         India          NaN             9.0\n",
            "100   Afghanistan        India          tied          NaN             NaN\n",
            "102    Bangladesh        India         India          NaN             3.0\n",
            "110         India  West Indies         India          NaN             8.0\n",
            "113         India  West Indies          tied          NaN             NaN\n",
            "116         India  West Indies   West Indies         43.0             NaN\n",
            "117         India  West Indies         India        224.0             NaN\n",
            "118         India  West Indies         India          NaN             9.0\n"
          ],
          "name": "stdout"
        }
      ]
    },
    {
      "cell_type": "code",
      "metadata": {
        "id": "Qei2_a9vw59B"
      },
      "source": [
        "India.set_index('Match Date', inplace = True)\r\n"
      ],
      "execution_count": 93,
      "outputs": []
    },
    {
      "cell_type": "code",
      "metadata": {
        "colab": {
          "base_uri": "https://localhost:8080/"
        },
        "id": "_kTyk-uloJGv",
        "outputId": "14bd4403-dd76-4a25-d834-be5423d7ffbe"
      },
      "source": [
        "India_win=India[India['Winner']=='India']\r\n",
        "print(India_win)"
      ],
      "execution_count": 94,
      "outputs": [
        {
          "output_type": "stream",
          "text": [
            "                  Team 1       Team 2  ... equal_1 equal_2\n",
            "Match Date                             ...                \n",
            "2018-02-01  South Africa        India  ...    True   False\n",
            "2018-02-04  South Africa        India  ...    True   False\n",
            "2018-02-07  South Africa        India  ...    True   False\n",
            "2018-02-13  South Africa        India  ...    True   False\n",
            "2018-02-16  South Africa        India  ...    True   False\n",
            "2018-07-12       England        India  ...   False   False\n",
            "2018-09-18     Hong Kong        India  ...   False   False\n",
            "2018-09-19         India     Pakistan  ...   False   False\n",
            "2018-09-21    Bangladesh        India  ...   False   False\n",
            "2018-09-23         India     Pakistan  ...   False   False\n",
            "2018-09-28    Bangladesh        India  ...   False   False\n",
            "2018-10-21         India  West Indies  ...    True   False\n",
            "2018-10-29         India  West Indies  ...    True   False\n",
            "2018-11-01         India  West Indies  ...    True   False\n",
            "\n",
            "[14 rows x 13 columns]\n"
          ],
          "name": "stdout"
        }
      ]
    },
    {
      "cell_type": "code",
      "metadata": {
        "colab": {
          "base_uri": "https://localhost:8080/"
        },
        "id": "ol_Ad9r7oscN",
        "outputId": "be6f429c-4506-4661-8bdd-8136b3d0c8ef"
      },
      "source": [
        "Runsindi=India_win.groupby('Winner')['Win by Runs'].count()\r\n",
        "print(Runsindi)"
      ],
      "execution_count": 95,
      "outputs": [
        {
          "output_type": "stream",
          "text": [
            "Winner\n",
            "India    4\n",
            "Name: Win by Runs, dtype: int64\n"
          ],
          "name": "stdout"
        }
      ]
    },
    {
      "cell_type": "code",
      "metadata": {
        "colab": {
          "base_uri": "https://localhost:8080/"
        },
        "id": "CgCw8b4zpawe",
        "outputId": "367bba04-5887-4e8f-eb54-400c2f6f089b"
      },
      "source": [
        "Wicketsindi=India_win.groupby('Winner')['Win by Wickets'].count()\r\n",
        "print(Wicketsindi)"
      ],
      "execution_count": 96,
      "outputs": [
        {
          "output_type": "stream",
          "text": [
            "Winner\n",
            "India    10\n",
            "Name: Win by Wickets, dtype: int64\n"
          ],
          "name": "stdout"
        }
      ]
    },
    {
      "cell_type": "code",
      "metadata": {
        "colab": {
          "base_uri": "https://localhost:8080/"
        },
        "id": "KqmMzN8M0JmO",
        "outputId": "6f8e5deb-3199-47e3-fc93-5d2f32121f03"
      },
      "source": [
        "#question13\r\n",
        "winner_list_per=cricket_data[\"Winner\"].value_counts(normalize=True)*100\r\n",
        "print(winner_list_per)"
      ],
      "execution_count": 69,
      "outputs": [
        {
          "output_type": "stream",
          "text": [
            "England         13.28125\n",
            "India           10.93750\n",
            "Bangladesh      10.15625\n",
            "Afghanistan      9.37500\n",
            "South Africa     7.03125\n",
            "West Indies      6.25000\n",
            "Ireland          6.25000\n",
            "Pakistan         6.25000\n",
            "New Zealand      6.25000\n",
            "Sri Lanka        4.68750\n",
            "Scotland         3.90625\n",
            "Zimbabwe         3.90625\n",
            "U.A.E.           3.12500\n",
            "tied             2.34375\n",
            "no result        1.56250\n",
            "Australia        1.56250\n",
            "Nepal            0.78125\n",
            "Netherlands      0.78125\n",
            "Hong Kong        0.78125\n",
            "P.N.G.           0.78125\n",
            "Name: Winner, dtype: float64\n"
          ],
          "name": "stdout"
        }
      ]
    },
    {
      "cell_type": "code",
      "metadata": {
        "colab": {
          "base_uri": "https://localhost:8080/",
          "height": 338
        },
        "id": "oZLCRZuHtXj6",
        "outputId": "d98d8938-bc4c-43ef-d0d4-350b41afd09d"
      },
      "source": [
        "winner_list_per.plot(kind='bar')"
      ],
      "execution_count": 70,
      "outputs": [
        {
          "output_type": "execute_result",
          "data": {
            "text/plain": [
              "<matplotlib.axes._subplots.AxesSubplot at 0x7f6d6ee88630>"
            ]
          },
          "metadata": {
            "tags": []
          },
          "execution_count": 70
        },
        {
          "output_type": "display_data",
          "data": {
            "image/png": "[encoded data removed]",
            "text/plain": [
              "<Figure size 432x288 with 1 Axes>"
            ]
          },
          "metadata": {
            "tags": [],
            "needs_background": "light"
          }
        }
      ]
    },
    {
      "cell_type": "code",
      "metadata": {
        "colab": {
          "base_uri": "https://localhost:8080/"
        },
        "id": "YFYkZEc5J6Oo",
        "outputId": "7ee22535-6442-4bae-b493-22bf353734a8"
      },
      "source": [
        "England=cricket_data[(cricket_data['Team 1']=='England') | (cricket_data['Team 2']=='England')]\r\n",
        "\r\n",
        "print(England[['Team 1','Team 2','Winner','Match Date']])"
      ],
      "execution_count": 71,
      "outputs": [
        {
          "output_type": "stream",
          "text": [
            "          Team 1     Team 2       Winner Match Date\n",
            "5      Australia    England      England 2018-01-14\n",
            "12     Australia    England      England 2018-01-19\n",
            "14     Australia    England      England 2018-01-21\n",
            "20     Australia    England    Australia 2018-01-26\n",
            "22     Australia    England      England 2018-01-28\n",
            "34   New Zealand    England  New Zealand 2018-02-25\n",
            "35   New Zealand    England      England 2018-02-28\n",
            "36   New Zealand    England      England 2018-03-03\n",
            "43   New Zealand    England  New Zealand 2018-03-07\n",
            "46   New Zealand    England      England 2018-03-10\n",
            "62      Scotland    England     Scotland 2018-06-10\n",
            "63       England  Australia      England 2018-06-13\n",
            "64       England  Australia      England 2018-06-16\n",
            "65       England  Australia      England 2018-06-19\n",
            "66       England  Australia      England 2018-06-21\n",
            "67       England  Australia      England 2018-06-24\n",
            "68       England      India        India 2018-07-12\n",
            "70       England      India      England 2018-07-14\n",
            "72       England      India      England 2018-07-17\n",
            "106    Sri Lanka    England    no result 2018-10-10\n",
            "107    Sri Lanka    England      England 2018-10-13\n",
            "108    Sri Lanka    England      England 2018-10-17\n",
            "109    Sri Lanka    England      England 2018-10-20\n",
            "112    Sri Lanka    England    Sri Lanka 2018-10-23\n"
          ],
          "name": "stdout"
        }
      ]
    },
    {
      "cell_type": "code",
      "metadata": {
        "id": "hEtPNnLB8JMB"
      },
      "source": [
        "England.set_index('Match Date', inplace = True)\r\n"
      ],
      "execution_count": 72,
      "outputs": []
    },
    {
      "cell_type": "code",
      "metadata": {
        "colab": {
          "base_uri": "https://localhost:8080/"
        },
        "id": "K4Eowl0PKRro",
        "outputId": "f13610ee-982d-4db6-af5e-111b1e3855ee"
      },
      "source": [
        "England_win=England[England['Winner']=='England']\r\n",
        "print(England_win)"
      ],
      "execution_count": 73,
      "outputs": [
        {
          "output_type": "stream",
          "text": [
            "                 Team 1     Team 2   Winner  ...         Country  equal_1  equal_2\n",
            "Match Date                                   ...                                  \n",
            "2018-01-14    Australia    England  England  ...       Australia     True    False\n",
            "2018-01-19    Australia    England  England  ...       Australia     True    False\n",
            "2018-01-21    Australia    England  England  ...       Australia     True    False\n",
            "2018-01-28    Australia    England  England  ...       Australia     True    False\n",
            "2018-02-28  New Zealand    England  England  ...     New Zealand     True    False\n",
            "2018-03-03  New Zealand    England  England  ...     New Zealand     True    False\n",
            "2018-03-10  New Zealand    England  England  ...     New Zealand     True    False\n",
            "2018-06-13      England  Australia  England  ...  United Kingdom    False    False\n",
            "2018-06-16      England  Australia  England  ...  United Kingdom    False    False\n",
            "2018-06-19      England  Australia  England  ...  United Kingdom    False    False\n",
            "2018-06-21      England  Australia  England  ...  United Kingdom    False    False\n",
            "2018-06-24      England  Australia  England  ...  United Kingdom    False    False\n",
            "2018-07-14      England      India  England  ...           India    False     True\n",
            "2018-07-17      England      India  England  ...  United Kingdom    False    False\n",
            "2018-10-13    Sri Lanka    England  England  ...       Sri Lanka     True    False\n",
            "2018-10-17    Sri Lanka    England  England  ...       Sri Lanka     True    False\n",
            "2018-10-20    Sri Lanka    England  England  ...       Sri Lanka     True    False\n",
            "\n",
            "[17 rows x 13 columns]\n"
          ],
          "name": "stdout"
        }
      ]
    },
    {
      "cell_type": "code",
      "metadata": {
        "colab": {
          "base_uri": "https://localhost:8080/",
          "height": 308
        },
        "id": "yevZcCsYKjtc",
        "outputId": "32dc75b0-c0f9-4164-9f95-bd25923935e6"
      },
      "source": [
        "England.resample('1M').count()['Winner'].plot()\r\n",
        "England_win.resample('1M').count()['Winner'].plot()\r\n"
      ],
      "execution_count": 74,
      "outputs": [
        {
          "output_type": "execute_result",
          "data": {
            "text/plain": [
              "<matplotlib.axes._subplots.AxesSubplot at 0x7f6d6edd3a90>"
            ]
          },
          "metadata": {
            "tags": []
          },
          "execution_count": 74
        },
        {
          "output_type": "display_data",
          "data": {
            "image/png": "[encoded data removed]",
            "text/plain": [
              "<Figure size 432x288 with 1 Axes>"
            ]
          },
          "metadata": {
            "tags": [],
            "needs_background": "light"
          }
        }
      ]
    },
    {
      "cell_type": "code",
      "metadata": {
        "colab": {
          "base_uri": "https://localhost:8080/",
          "height": 306
        },
        "id": "7FZX2fnHFMh6",
        "outputId": "1582b964-a41f-41a4-d651-6a36c60f8990"
      },
      "source": [
        "#India_play_month_size=India.groupby(pd.Grouper(key='Match Date',freq='1M')).size()\r\n",
        "#India_win_month_size = India_win.groupby(pd.Grouper(key='Match Date', freq='1M')).size()\r\n",
        "#winperindie=(India_win_month_size/India_play_month_size)*100\r\n",
        "#print(winperindie)\r\n",
        "\r\n",
        "India.resample('1M').count()['Winner'].plot()\r\n",
        "India_win.resample('1M').count()['Winner'].plot()\r\n"
      ],
      "execution_count": 97,
      "outputs": [
        {
          "output_type": "execute_result",
          "data": {
            "text/plain": [
              "<matplotlib.axes._subplots.AxesSubplot at 0x7f6d6eb7cf98>"
            ]
          },
          "metadata": {
            "tags": []
          },
          "execution_count": 97
        },
        {
          "output_type": "display_data",
          "data": {
            "image/png": "[encoded data removed]",
            "text/plain": [
              "<Figure size 432x288 with 1 Axes>"
            ]
          },
          "metadata": {
            "tags": [],
            "needs_background": "light"
          }
        }
      ]
    },
    {
      "cell_type": "code",
      "metadata": {
        "colab": {
          "base_uri": "https://localhost:8080/"
        },
        "id": "7auBON8UK5hO",
        "outputId": "ddab1f16-3fbc-434f-9eab-25d8dec3c8ff"
      },
      "source": [
        "Bangladesh=cricket_data[(cricket_data['Team 1']=='Bangladesh') | (cricket_data['Team 2']=='Bangladesh')]\r\n",
        "print(Bangladesh)"
      ],
      "execution_count": 76,
      "outputs": [
        {
          "output_type": "stream",
          "text": [
            "          Team 1       Team 2  ... equal_1 equal_2\n",
            "6     Bangladesh     Zimbabwe  ...    True   False\n",
            "13    Bangladesh    Sri Lanka  ...    True   False\n",
            "18    Bangladesh     Zimbabwe  ...    True   False\n",
            "19    Bangladesh    Sri Lanka  ...    True   False\n",
            "21    Bangladesh    Sri Lanka  ...    True   False\n",
            "76   West Indies   Bangladesh  ...   False   False\n",
            "77   West Indies   Bangladesh  ...   False   False\n",
            "78   West Indies   Bangladesh  ...   False   False\n",
            "90    Bangladesh    Sri Lanka  ...   False   False\n",
            "95   Afghanistan   Bangladesh  ...   False   False\n",
            "96    Bangladesh        India  ...   False   False\n",
            "99   Afghanistan   Bangladesh  ...   False   False\n",
            "101   Bangladesh     Pakistan  ...   False   False\n",
            "102   Bangladesh        India  ...   False   False\n",
            "111   Bangladesh     Zimbabwe  ...    True   False\n",
            "114   Bangladesh     Zimbabwe  ...    True   False\n",
            "115   Bangladesh     Zimbabwe  ...    True   False\n",
            "125   Bangladesh  West Indies  ...    True   False\n",
            "126   Bangladesh  West Indies  ...    True   False\n",
            "127   Bangladesh  West Indies  ...    True   False\n",
            "\n",
            "[20 rows x 14 columns]\n"
          ],
          "name": "stdout"
        }
      ]
    },
    {
      "cell_type": "code",
      "metadata": {
        "id": "HKUyB2OJxPLa"
      },
      "source": [
        "Bangladesh.set_index('Match Date', inplace = True)"
      ],
      "execution_count": 98,
      "outputs": []
    },
    {
      "cell_type": "code",
      "metadata": {
        "colab": {
          "base_uri": "https://localhost:8080/"
        },
        "id": "bDonwlwILOh3",
        "outputId": "ad44db0f-fc2a-4c91-c145-1ec6f4d337fc"
      },
      "source": [
        "Bangla_win=Bangladesh[Bangladesh['Winner']=='Bangladesh']\r\n",
        "print(Bangla_win)"
      ],
      "execution_count": 99,
      "outputs": [
        {
          "output_type": "stream",
          "text": [
            "                 Team 1       Team 2  ... equal_1 equal_2\n",
            "Match Date                            ...                \n",
            "2018-01-15   Bangladesh     Zimbabwe  ...    True   False\n",
            "2018-01-19   Bangladesh    Sri Lanka  ...    True   False\n",
            "2018-01-23   Bangladesh     Zimbabwe  ...    True   False\n",
            "2018-07-22  West Indies   Bangladesh  ...   False   False\n",
            "2018-07-28  West Indies   Bangladesh  ...   False   False\n",
            "2018-09-15   Bangladesh    Sri Lanka  ...   False   False\n",
            "2018-09-23  Afghanistan   Bangladesh  ...   False   False\n",
            "2018-09-26   Bangladesh     Pakistan  ...   False   False\n",
            "2018-10-21   Bangladesh     Zimbabwe  ...    True   False\n",
            "2018-10-24   Bangladesh     Zimbabwe  ...    True   False\n",
            "2018-10-26   Bangladesh     Zimbabwe  ...    True   False\n",
            "2018-12-09   Bangladesh  West Indies  ...    True   False\n",
            "2018-12-14   Bangladesh  West Indies  ...    True   False\n",
            "\n",
            "[13 rows x 13 columns]\n"
          ],
          "name": "stdout"
        }
      ]
    },
    {
      "cell_type": "code",
      "metadata": {
        "colab": {
          "base_uri": "https://localhost:8080/",
          "height": 308
        },
        "id": "80VxJ1_eLOlr",
        "outputId": "1affc05f-7c8a-435c-c471-da3d8d1cd92c"
      },
      "source": [
        "Bangladesh.resample('1M').count()['Winner'].plot()\r\n",
        "Bangla_win.resample('1M').count()['Winner'].plot()"
      ],
      "execution_count": 100,
      "outputs": [
        {
          "output_type": "execute_result",
          "data": {
            "text/plain": [
              "<matplotlib.axes._subplots.AxesSubplot at 0x7f6d6eb07d68>"
            ]
          },
          "metadata": {
            "tags": []
          },
          "execution_count": 100
        },
        {
          "output_type": "display_data",
          "data": {
            "image/png": "[encoded data removed]",
            "text/plain": [
              "<Figure size 432x288 with 1 Axes>"
            ]
          },
          "metadata": {
            "tags": [],
            "needs_background": "light"
          }
        }
      ]
    },
    {
      "cell_type": "code",
      "metadata": {
        "colab": {
          "base_uri": "https://localhost:8080/"
        },
        "id": "H1rHwWvZx5pr",
        "outputId": "86a8bf16-320b-459e-c491-2c8f39da4c78"
      },
      "source": [
        "Loser_list=cricket_data[\"Winner\"].value_counts(ascending=True)\r\n",
        "print(Loser_list)"
      ],
      "execution_count": 103,
      "outputs": [
        {
          "output_type": "stream",
          "text": [
            "P.N.G.           1\n",
            "Hong Kong        1\n",
            "Netherlands      1\n",
            "Nepal            1\n",
            "Australia        2\n",
            "no result        2\n",
            "tied             3\n",
            "U.A.E.           4\n",
            "Zimbabwe         5\n",
            "Scotland         5\n",
            "Sri Lanka        6\n",
            "New Zealand      8\n",
            "Pakistan         8\n",
            "Ireland          8\n",
            "West Indies      8\n",
            "South Africa     9\n",
            "Afghanistan     12\n",
            "Bangladesh      13\n",
            "India           14\n",
            "England         17\n",
            "Name: Winner, dtype: int64\n"
          ],
          "name": "stdout"
        }
      ]
    },
    {
      "cell_type": "code",
      "metadata": {
        "colab": {
          "base_uri": "https://localhost:8080/"
        },
        "id": "YWhRT7LKyUrR",
        "outputId": "23176ee9-781a-47f7-ba7f-499bb742101d"
      },
      "source": [
        "PNG=cricket_data[(cricket_data['Team 1']=='P.N.G.') | (cricket_data['Team 2']=='P.N.G.')]\r\n",
        "print(PNG)"
      ],
      "execution_count": 105,
      "outputs": [
        {
          "output_type": "stream",
          "text": [
            "       Team 1       Team 2       Winner  ...   Country  equal_1  equal_2\n",
            "38     P.N.G.       U.A.E.       U.A.E.  ...  Zimbabwe    False    False\n",
            "40    Ireland       P.N.G.      Ireland  ...  Zimbabwe    False    False\n",
            "45     P.N.G.  West Indies  West Indies  ...  Zimbabwe    False    False\n",
            "54  Hong Kong       P.N.G.       P.N.G.  ...  Zimbabwe    False    False\n",
            "\n",
            "[4 rows x 14 columns]\n"
          ],
          "name": "stdout"
        }
      ]
    },
    {
      "cell_type": "code",
      "metadata": {
        "colab": {
          "base_uri": "https://localhost:8080/"
        },
        "id": "UrhDWLaHy-JN",
        "outputId": "4a673c06-97af-43c4-e56a-348e99154cec"
      },
      "source": [
        "PNG_lose=PNG[PNG['Winner']!= 'P.N.G.']\r\n",
        "print(PNG_lose)"
      ],
      "execution_count": 108,
      "outputs": [
        {
          "output_type": "stream",
          "text": [
            "     Team 1       Team 2       Winner  ...   Country  equal_1  equal_2\n",
            "38   P.N.G.       U.A.E.       U.A.E.  ...  Zimbabwe    False    False\n",
            "40  Ireland       P.N.G.      Ireland  ...  Zimbabwe    False    False\n",
            "45   P.N.G.  West Indies  West Indies  ...  Zimbabwe    False    False\n",
            "\n",
            "[3 rows x 14 columns]\n"
          ],
          "name": "stdout"
        }
      ]
    },
    {
      "cell_type": "code",
      "metadata": {
        "colab": {
          "base_uri": "https://localhost:8080/",
          "height": 136
        },
        "id": "BjlyMNXpzcPG",
        "outputId": "9f83115a-0926-41ef-8666-d1d8ff63db20"
      },
      "source": [
        "PNG_lose[['Team 1','Team 2','Winner','Win by Runs','Win by Wickets']]"
      ],
      "execution_count": 109,
      "outputs": [
        {
          "output_type": "execute_result",
          "data": {
            "text/html": [
              "<div>\n",
              "<style scoped>\n",
              "    .dataframe tbody tr th:only-of-type {\n",
              "        vertical-align: middle;\n",
              "    }\n",
              "\n",
              "    .dataframe tbody tr th {\n",
              "        vertical-align: top;\n",
              "    }\n",
              "\n",
              "    .dataframe thead th {\n",
              "        text-align: right;\n",
              "    }\n",
              "</style>\n",
              "<table border=\"1\" class=\"dataframe\">\n",
              "  <thead>\n",
              "    <tr style=\"text-align: right;\">\n",
              "      <th></th>\n",
              "      <th>Team 1</th>\n",
              "      <th>Team 2</th>\n",
              "      <th>Winner</th>\n",
              "      <th>Win by Runs</th>\n",
              "      <th>Win by Wickets</th>\n",
              "    </tr>\n",
              "  </thead>\n",
              "  <tbody>\n",
              "    <tr>\n",
              "      <th>38</th>\n",
              "      <td>P.N.G.</td>\n",
              "      <td>U.A.E.</td>\n",
              "      <td>U.A.E.</td>\n",
              "      <td>56.0</td>\n",
              "      <td>NaN</td>\n",
              "    </tr>\n",
              "    <tr>\n",
              "      <th>40</th>\n",
              "      <td>Ireland</td>\n",
              "      <td>P.N.G.</td>\n",
              "      <td>Ireland</td>\n",
              "      <td>NaN</td>\n",
              "      <td>4.0</td>\n",
              "    </tr>\n",
              "    <tr>\n",
              "      <th>45</th>\n",
              "      <td>P.N.G.</td>\n",
              "      <td>West Indies</td>\n",
              "      <td>West Indies</td>\n",
              "      <td>NaN</td>\n",
              "      <td>6.0</td>\n",
              "    </tr>\n",
              "  </tbody>\n",
              "</table>\n",
              "</div>"
            ],
            "text/plain": [
              "     Team 1       Team 2       Winner  Win by Runs  Win by Wickets\n",
              "38   P.N.G.       U.A.E.       U.A.E.         56.0             NaN\n",
              "40  Ireland       P.N.G.      Ireland          NaN             4.0\n",
              "45   P.N.G.  West Indies  West Indies          NaN             6.0"
            ]
          },
          "metadata": {
            "tags": []
          },
          "execution_count": 109
        }
      ]
    }
  ]
}