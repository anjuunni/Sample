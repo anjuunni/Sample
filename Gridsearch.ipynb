{
  "nbformat": 4,
  "nbformat_minor": 0,
  "metadata": {
    "colab": {
      "name": "Gridsearch.ipynb",
      "provenance": [],
      "authorship_tag": "ABX9TyPfTH/dF81HTOabR/x92R7k",
      "include_colab_link": true
    },
    "kernelspec": {
      "name": "python3",
      "display_name": "Python 3"
    }
  },
  "cells": [
    {
      "cell_type": "markdown",
      "metadata": {
        "id": "view-in-github",
        "colab_type": "text"
      },
      "source": [
        "<a href=\"https://colab.research.google.com/github/anjuunni/Sample/blob/main/Gridsearch.ipynb\" target=\"_parent\"><img src=\"https://colab.research.google.com/assets/colab-badge.svg\" alt=\"Open In Colab\"/></a>"
      ]
    },
    {
      "cell_type": "code",
      "metadata": {
        "id": "XeNohgcBZcQC"
      },
      "source": [
        "from sklearn import svm,datasets\r\n",
        "iris=datasets.load_iris()"
      ],
      "execution_count": null,
      "outputs": []
    },
    {
      "cell_type": "code",
      "metadata": {
        "colab": {
          "base_uri": "https://localhost:8080/",
          "height": 195
        },
        "id": "MErJHA6NZ8ei",
        "outputId": "1af7c8f8-837d-44fd-a361-b37308f7c7c5"
      },
      "source": [
        "import pandas as pd\r\n",
        "df=pd.DataFrame(iris.data,columns=iris.feature_names)\r\n",
        "df['flower']=iris.target\r\n",
        "df['flower']=df['flower'].apply(lambda x:iris.target_names[x])\r\n",
        "df[47:52]"
      ],
      "execution_count": null,
      "outputs": [
        {
          "output_type": "execute_result",
          "data": {
            "text/html": [
              "<div>\n",
              "<style scoped>\n",
              "    .dataframe tbody tr th:only-of-type {\n",
              "        vertical-align: middle;\n",
              "    }\n",
              "\n",
              "    .dataframe tbody tr th {\n",
              "        vertical-align: top;\n",
              "    }\n",
              "\n",
              "    .dataframe thead th {\n",
              "        text-align: right;\n",
              "    }\n",
              "</style>\n",
              "<table border=\"1\" class=\"dataframe\">\n",
              "  <thead>\n",
              "    <tr style=\"text-align: right;\">\n",
              "      <th></th>\n",
              "      <th>sepal length (cm)</th>\n",
              "      <th>sepal width (cm)</th>\n",
              "      <th>petal length (cm)</th>\n",
              "      <th>petal width (cm)</th>\n",
              "      <th>flower</th>\n",
              "    </tr>\n",
              "  </thead>\n",
              "  <tbody>\n",
              "    <tr>\n",
              "      <th>47</th>\n",
              "      <td>4.6</td>\n",
              "      <td>3.2</td>\n",
              "      <td>1.4</td>\n",
              "      <td>0.2</td>\n",
              "      <td>setosa</td>\n",
              "    </tr>\n",
              "    <tr>\n",
              "      <th>48</th>\n",
              "      <td>5.3</td>\n",
              "      <td>3.7</td>\n",
              "      <td>1.5</td>\n",
              "      <td>0.2</td>\n",
              "      <td>setosa</td>\n",
              "    </tr>\n",
              "    <tr>\n",
              "      <th>49</th>\n",
              "      <td>5.0</td>\n",
              "      <td>3.3</td>\n",
              "      <td>1.4</td>\n",
              "      <td>0.2</td>\n",
              "      <td>setosa</td>\n",
              "    </tr>\n",
              "    <tr>\n",
              "      <th>50</th>\n",
              "      <td>7.0</td>\n",
              "      <td>3.2</td>\n",
              "      <td>4.7</td>\n",
              "      <td>1.4</td>\n",
              "      <td>versicolor</td>\n",
              "    </tr>\n",
              "    <tr>\n",
              "      <th>51</th>\n",
              "      <td>6.4</td>\n",
              "      <td>3.2</td>\n",
              "      <td>4.5</td>\n",
              "      <td>1.5</td>\n",
              "      <td>versicolor</td>\n",
              "    </tr>\n",
              "  </tbody>\n",
              "</table>\n",
              "</div>"
            ],
            "text/plain": [
              "    sepal length (cm)  sepal width (cm)  ...  petal width (cm)      flower\n",
              "47                4.6               3.2  ...               0.2      setosa\n",
              "48                5.3               3.7  ...               0.2      setosa\n",
              "49                5.0               3.3  ...               0.2      setosa\n",
              "50                7.0               3.2  ...               1.4  versicolor\n",
              "51                6.4               3.2  ...               1.5  versicolor\n",
              "\n",
              "[5 rows x 5 columns]"
            ]
          },
          "metadata": {
            "tags": []
          },
          "execution_count": 20
        }
      ]
    },
    {
      "cell_type": "code",
      "metadata": {
        "id": "czer6Nhfa1WT"
      },
      "source": [
        "from sklearn.model_selection import  train_test_split\r\n",
        "X_train,X_test,y_train,y_test=train_test_split(iris.data,iris.target,test_size=0.3)"
      ],
      "execution_count": null,
      "outputs": []
    },
    {
      "cell_type": "code",
      "metadata": {
        "colab": {
          "base_uri": "https://localhost:8080/"
        },
        "id": "fHWNzOn9beF3",
        "outputId": "ceb1fc33-c819-4abf-c493-47d750041a21"
      },
      "source": [
        "model=svm.SVC(kernel='rbf',C=30,gamma='auto')\r\n",
        "model.fit(X_train,y_train)\r\n",
        "model.score(X_test,y_test)"
      ],
      "execution_count": null,
      "outputs": [
        {
          "output_type": "execute_result",
          "data": {
            "text/plain": [
              "0.9555555555555556"
            ]
          },
          "metadata": {
            "tags": []
          },
          "execution_count": 22
        }
      ]
    },
    {
      "cell_type": "code",
      "metadata": {
        "id": "6xWUMxKpb8k1"
      },
      "source": [
        "from sklearn.model_selection import cross_val_score"
      ],
      "execution_count": null,
      "outputs": []
    },
    {
      "cell_type": "code",
      "metadata": {
        "colab": {
          "base_uri": "https://localhost:8080/"
        },
        "id": "C1glII4fcjcr",
        "outputId": "04b0ca95-5bf1-467e-da13-d50de7cd1e74"
      },
      "source": [
        "cross_val_score(svm.SVC(kernel='rbf',C=10,gamma='auto'),iris.data,iris.target,cv=5)"
      ],
      "execution_count": null,
      "outputs": [
        {
          "output_type": "execute_result",
          "data": {
            "text/plain": [
              "array([0.96666667, 1.        , 0.96666667, 0.96666667, 1.        ])"
            ]
          },
          "metadata": {
            "tags": []
          },
          "execution_count": 24
        }
      ]
    },
    {
      "cell_type": "code",
      "metadata": {
        "colab": {
          "base_uri": "https://localhost:8080/"
        },
        "id": "Q2B978c8c9wQ",
        "outputId": "c0bc5e83-f998-4fc0-bc90-1b7affd38a52"
      },
      "source": [
        "cross_val_score(svm.SVC(kernel='linear',C=10,gamma='auto'),iris.data,iris.target,cv=5)"
      ],
      "execution_count": null,
      "outputs": [
        {
          "output_type": "execute_result",
          "data": {
            "text/plain": [
              "array([1.        , 1.        , 0.9       , 0.96666667, 1.        ])"
            ]
          },
          "metadata": {
            "tags": []
          },
          "execution_count": 25
        }
      ]
    },
    {
      "cell_type": "code",
      "metadata": {
        "colab": {
          "base_uri": "https://localhost:8080/"
        },
        "id": "RnoU9VOIdQFs",
        "outputId": "0930f737-cf77-4f38-8ce5-0c1f14c16983"
      },
      "source": [
        "cross_val_score(svm.SVC(kernel='rbf',C=20,gamma='auto'),iris.data,iris.target,cv=5)"
      ],
      "execution_count": null,
      "outputs": [
        {
          "output_type": "execute_result",
          "data": {
            "text/plain": [
              "array([0.96666667, 1.        , 0.9       , 0.96666667, 1.        ])"
            ]
          },
          "metadata": {
            "tags": []
          },
          "execution_count": 26
        }
      ]
    },
    {
      "cell_type": "code",
      "metadata": {
        "colab": {
          "base_uri": "https://localhost:8080/"
        },
        "id": "BC05z90EdY-T",
        "outputId": "387ec0ba-e51f-4b55-b42c-d2fa6d1af185"
      },
      "source": [
        "import numpy as np\r\n",
        "kernels=['rbf','linear']\r\n",
        "C=[1,10,20]\r\n",
        "avg_scores={}\r\n",
        "for kval in kernels:\r\n",
        "    for cval in C:\r\n",
        "        cv_scores=cross_val_score(svm.SVC(kernel=kval,C=cval,gamma='auto'),iris.data,iris.target,cv=5)\r\n",
        "        avg_scores[kval + '_' + str(cval)] = np.average(cv_scores)\r\n",
        "avg_scores        \r\n",
        "        "
      ],
      "execution_count": null,
      "outputs": [
        {
          "output_type": "execute_result",
          "data": {
            "text/plain": [
              "{'linear_1': 0.9800000000000001,\n",
              " 'linear_10': 0.9733333333333334,\n",
              " 'linear_20': 0.9666666666666666,\n",
              " 'rbf_1': 0.9800000000000001,\n",
              " 'rbf_10': 0.9800000000000001,\n",
              " 'rbf_20': 0.9666666666666668}"
            ]
          },
          "metadata": {
            "tags": []
          },
          "execution_count": 27
        }
      ]
    },
    {
      "cell_type": "code",
      "metadata": {
        "colab": {
          "base_uri": "https://localhost:8080/"
        },
        "id": "c44mioV4e54B",
        "outputId": "c730a68d-378a-4419-a02b-eec4acd91294"
      },
      "source": [
        "from sklearn.model_selection import GridSearchCV\r\n",
        "clf=GridSearchCV(svm.SVC(gamma='auto'),{\r\n",
        "    'C' : [1,10,20],\r\n",
        "    'kernel' : ['rbf','linear']\r\n",
        "},cv=5,return_train_score=False)\r\n",
        "clf.fit(iris.data,iris.target)\r\n",
        "clf.cv_results_"
      ],
      "execution_count": null,
      "outputs": [
        {
          "output_type": "execute_result",
          "data": {
            "text/plain": [
              "{'mean_fit_time': array([0.00122714, 0.00056677, 0.00058765, 0.00044217, 0.00059934,\n",
              "        0.00045547]),\n",
              " 'mean_score_time': array([0.0004046 , 0.0003058 , 0.00030785, 0.00028634, 0.00029197,\n",
              "        0.00028119]),\n",
              " 'mean_test_score': array([0.98      , 0.98      , 0.98      , 0.97333333, 0.96666667,\n",
              "        0.96666667]),\n",
              " 'param_C': masked_array(data=[1, 1, 10, 10, 20, 20],\n",
              "              mask=[False, False, False, False, False, False],\n",
              "        fill_value='?',\n",
              "             dtype=object),\n",
              " 'param_kernel': masked_array(data=['rbf', 'linear', 'rbf', 'linear', 'rbf', 'linear'],\n",
              "              mask=[False, False, False, False, False, False],\n",
              "        fill_value='?',\n",
              "             dtype=object),\n",
              " 'params': [{'C': 1, 'kernel': 'rbf'},\n",
              "  {'C': 1, 'kernel': 'linear'},\n",
              "  {'C': 10, 'kernel': 'rbf'},\n",
              "  {'C': 10, 'kernel': 'linear'},\n",
              "  {'C': 20, 'kernel': 'rbf'},\n",
              "  {'C': 20, 'kernel': 'linear'}],\n",
              " 'rank_test_score': array([1, 1, 1, 4, 5, 6], dtype=int32),\n",
              " 'split0_test_score': array([0.96666667, 0.96666667, 0.96666667, 1.        , 0.96666667,\n",
              "        1.        ]),\n",
              " 'split1_test_score': array([1., 1., 1., 1., 1., 1.]),\n",
              " 'split2_test_score': array([0.96666667, 0.96666667, 0.96666667, 0.9       , 0.9       ,\n",
              "        0.9       ]),\n",
              " 'split3_test_score': array([0.96666667, 0.96666667, 0.96666667, 0.96666667, 0.96666667,\n",
              "        0.93333333]),\n",
              " 'split4_test_score': array([1., 1., 1., 1., 1., 1.]),\n",
              " 'std_fit_time': array([1.00373514e-03, 2.36689276e-04, 3.44296241e-05, 3.44191221e-05,\n",
              "        7.04537834e-05, 2.79109045e-05]),\n",
              " 'std_score_time': array([1.38086393e-04, 2.39852409e-05, 1.30364175e-05, 2.28966260e-05,\n",
              "        7.65854512e-06, 1.04072919e-05]),\n",
              " 'std_test_score': array([0.01632993, 0.01632993, 0.01632993, 0.03887301, 0.03651484,\n",
              "        0.0421637 ])}"
            ]
          },
          "metadata": {
            "tags": []
          },
          "execution_count": 28
        }
      ]
    },
    {
      "cell_type": "code",
      "metadata": {
        "colab": {
          "base_uri": "https://localhost:8080/",
          "height": 446
        },
        "id": "uh-RVjfxunQ0",
        "outputId": "c64df0dd-5926-4944-bf25-c427dc991708"
      },
      "source": [
        "result_df=pd.DataFrame(clf.cv_results_)\r\n",
        "result_df"
      ],
      "execution_count": null,
      "outputs": [
        {
          "output_type": "execute_result",
          "data": {
            "text/html": [
              "<div>\n",
              "<style scoped>\n",
              "    .dataframe tbody tr th:only-of-type {\n",
              "        vertical-align: middle;\n",
              "    }\n",
              "\n",
              "    .dataframe tbody tr th {\n",
              "        vertical-align: top;\n",
              "    }\n",
              "\n",
              "    .dataframe thead th {\n",
              "        text-align: right;\n",
              "    }\n",
              "</style>\n",
              "<table border=\"1\" class=\"dataframe\">\n",
              "  <thead>\n",
              "    <tr style=\"text-align: right;\">\n",
              "      <th></th>\n",
              "      <th>mean_fit_time</th>\n",
              "      <th>std_fit_time</th>\n",
              "      <th>mean_score_time</th>\n",
              "      <th>std_score_time</th>\n",
              "      <th>param_C</th>\n",
              "      <th>param_kernel</th>\n",
              "      <th>params</th>\n",
              "      <th>split0_test_score</th>\n",
              "      <th>split1_test_score</th>\n",
              "      <th>split2_test_score</th>\n",
              "      <th>split3_test_score</th>\n",
              "      <th>split4_test_score</th>\n",
              "      <th>mean_test_score</th>\n",
              "      <th>std_test_score</th>\n",
              "      <th>rank_test_score</th>\n",
              "    </tr>\n",
              "  </thead>\n",
              "  <tbody>\n",
              "    <tr>\n",
              "      <th>0</th>\n",
              "      <td>0.001227</td>\n",
              "      <td>0.001004</td>\n",
              "      <td>0.000405</td>\n",
              "      <td>0.000138</td>\n",
              "      <td>1</td>\n",
              "      <td>rbf</td>\n",
              "      <td>{'C': 1, 'kernel': 'rbf'}</td>\n",
              "      <td>0.966667</td>\n",
              "      <td>1.0</td>\n",
              "      <td>0.966667</td>\n",
              "      <td>0.966667</td>\n",
              "      <td>1.0</td>\n",
              "      <td>0.980000</td>\n",
              "      <td>0.016330</td>\n",
              "      <td>1</td>\n",
              "    </tr>\n",
              "    <tr>\n",
              "      <th>1</th>\n",
              "      <td>0.000567</td>\n",
              "      <td>0.000237</td>\n",
              "      <td>0.000306</td>\n",
              "      <td>0.000024</td>\n",
              "      <td>1</td>\n",
              "      <td>linear</td>\n",
              "      <td>{'C': 1, 'kernel': 'linear'}</td>\n",
              "      <td>0.966667</td>\n",
              "      <td>1.0</td>\n",
              "      <td>0.966667</td>\n",
              "      <td>0.966667</td>\n",
              "      <td>1.0</td>\n",
              "      <td>0.980000</td>\n",
              "      <td>0.016330</td>\n",
              "      <td>1</td>\n",
              "    </tr>\n",
              "    <tr>\n",
              "      <th>2</th>\n",
              "      <td>0.000588</td>\n",
              "      <td>0.000034</td>\n",
              "      <td>0.000308</td>\n",
              "      <td>0.000013</td>\n",
              "      <td>10</td>\n",
              "      <td>rbf</td>\n",
              "      <td>{'C': 10, 'kernel': 'rbf'}</td>\n",
              "      <td>0.966667</td>\n",
              "      <td>1.0</td>\n",
              "      <td>0.966667</td>\n",
              "      <td>0.966667</td>\n",
              "      <td>1.0</td>\n",
              "      <td>0.980000</td>\n",
              "      <td>0.016330</td>\n",
              "      <td>1</td>\n",
              "    </tr>\n",
              "    <tr>\n",
              "      <th>3</th>\n",
              "      <td>0.000442</td>\n",
              "      <td>0.000034</td>\n",
              "      <td>0.000286</td>\n",
              "      <td>0.000023</td>\n",
              "      <td>10</td>\n",
              "      <td>linear</td>\n",
              "      <td>{'C': 10, 'kernel': 'linear'}</td>\n",
              "      <td>1.000000</td>\n",
              "      <td>1.0</td>\n",
              "      <td>0.900000</td>\n",
              "      <td>0.966667</td>\n",
              "      <td>1.0</td>\n",
              "      <td>0.973333</td>\n",
              "      <td>0.038873</td>\n",
              "      <td>4</td>\n",
              "    </tr>\n",
              "    <tr>\n",
              "      <th>4</th>\n",
              "      <td>0.000599</td>\n",
              "      <td>0.000070</td>\n",
              "      <td>0.000292</td>\n",
              "      <td>0.000008</td>\n",
              "      <td>20</td>\n",
              "      <td>rbf</td>\n",
              "      <td>{'C': 20, 'kernel': 'rbf'}</td>\n",
              "      <td>0.966667</td>\n",
              "      <td>1.0</td>\n",
              "      <td>0.900000</td>\n",
              "      <td>0.966667</td>\n",
              "      <td>1.0</td>\n",
              "      <td>0.966667</td>\n",
              "      <td>0.036515</td>\n",
              "      <td>5</td>\n",
              "    </tr>\n",
              "    <tr>\n",
              "      <th>5</th>\n",
              "      <td>0.000455</td>\n",
              "      <td>0.000028</td>\n",
              "      <td>0.000281</td>\n",
              "      <td>0.000010</td>\n",
              "      <td>20</td>\n",
              "      <td>linear</td>\n",
              "      <td>{'C': 20, 'kernel': 'linear'}</td>\n",
              "      <td>1.000000</td>\n",
              "      <td>1.0</td>\n",
              "      <td>0.900000</td>\n",
              "      <td>0.933333</td>\n",
              "      <td>1.0</td>\n",
              "      <td>0.966667</td>\n",
              "      <td>0.042164</td>\n",
              "      <td>6</td>\n",
              "    </tr>\n",
              "  </tbody>\n",
              "</table>\n",
              "</div>"
            ],
            "text/plain": [
              "   mean_fit_time  std_fit_time  ...  std_test_score  rank_test_score\n",
              "0       0.001227      0.001004  ...        0.016330                1\n",
              "1       0.000567      0.000237  ...        0.016330                1\n",
              "2       0.000588      0.000034  ...        0.016330                1\n",
              "3       0.000442      0.000034  ...        0.038873                4\n",
              "4       0.000599      0.000070  ...        0.036515                5\n",
              "5       0.000455      0.000028  ...        0.042164                6\n",
              "\n",
              "[6 rows x 15 columns]"
            ]
          },
          "metadata": {
            "tags": []
          },
          "execution_count": 30
        }
      ]
    },
    {
      "cell_type": "code",
      "metadata": {
        "colab": {
          "base_uri": "https://localhost:8080/"
        },
        "id": "ksiImreKvGJP",
        "outputId": "e2883836-c89b-4b07-eaef-98ac76eb4b7c"
      },
      "source": [
        "clf.best_score_"
      ],
      "execution_count": null,
      "outputs": [
        {
          "output_type": "execute_result",
          "data": {
            "text/plain": [
              "0.9800000000000001"
            ]
          },
          "metadata": {
            "tags": []
          },
          "execution_count": 31
        }
      ]
    },
    {
      "cell_type": "code",
      "metadata": {
        "colab": {
          "base_uri": "https://localhost:8080/"
        },
        "id": "_MUv0jgfvtC1",
        "outputId": "29397b15-fc0c-4d97-efea-454917709c29"
      },
      "source": [
        "clf.best_params_"
      ],
      "execution_count": null,
      "outputs": [
        {
          "output_type": "execute_result",
          "data": {
            "text/plain": [
              "{'C': 1, 'kernel': 'rbf'}"
            ]
          },
          "metadata": {
            "tags": []
          },
          "execution_count": 32
        }
      ]
    },
    {
      "cell_type": "code",
      "metadata": {
        "id": "lJOIontcvxAc"
      },
      "source": [
        "from sklearn.model_selection import RandomizedSearchCV\r\n",
        "rs=RandomizedSearchCV(svm.SVC(gamma='auto'),{\r\n",
        "    'C':[1,10,20],\r\n",
        "    'kernel':['rbf','linear']\r\n",
        "},cv=5,return_train_score=False,n_iter=2)"
      ],
      "execution_count": null,
      "outputs": []
    },
    {
      "cell_type": "code",
      "metadata": {
        "colab": {
          "base_uri": "https://localhost:8080/",
          "height": 106
        },
        "id": "lgkkgagMwuOP",
        "outputId": "e0ae31e5-eaf4-416c-80c0-80c713eebcbf"
      },
      "source": [
        "rs.fit(iris.data,iris.target)\r\n",
        "pd.DataFrame(rs.cv_results_)[['param_C','param_kernel','mean_test_score']]"
      ],
      "execution_count": null,
      "outputs": [
        {
          "output_type": "execute_result",
          "data": {
            "text/html": [
              "<div>\n",
              "<style scoped>\n",
              "    .dataframe tbody tr th:only-of-type {\n",
              "        vertical-align: middle;\n",
              "    }\n",
              "\n",
              "    .dataframe tbody tr th {\n",
              "        vertical-align: top;\n",
              "    }\n",
              "\n",
              "    .dataframe thead th {\n",
              "        text-align: right;\n",
              "    }\n",
              "</style>\n",
              "<table border=\"1\" class=\"dataframe\">\n",
              "  <thead>\n",
              "    <tr style=\"text-align: right;\">\n",
              "      <th></th>\n",
              "      <th>param_C</th>\n",
              "      <th>param_kernel</th>\n",
              "      <th>mean_test_score</th>\n",
              "    </tr>\n",
              "  </thead>\n",
              "  <tbody>\n",
              "    <tr>\n",
              "      <th>0</th>\n",
              "      <td>20</td>\n",
              "      <td>linear</td>\n",
              "      <td>0.966667</td>\n",
              "    </tr>\n",
              "    <tr>\n",
              "      <th>1</th>\n",
              "      <td>1</td>\n",
              "      <td>linear</td>\n",
              "      <td>0.980000</td>\n",
              "    </tr>\n",
              "  </tbody>\n",
              "</table>\n",
              "</div>"
            ],
            "text/plain": [
              "  param_C param_kernel  mean_test_score\n",
              "0      20       linear         0.966667\n",
              "1       1       linear         0.980000"
            ]
          },
          "metadata": {
            "tags": []
          },
          "execution_count": 35
        }
      ]
    },
    {
      "cell_type": "code",
      "metadata": {
        "id": "mv3vjRYYxRZt"
      },
      "source": [
        "from sklearn.ensemble import RandomForestClassifier\r\n",
        "from sklearn.linear_model import LogisticRegression\r\n",
        "from sklearn import svm\r\n",
        "from sklearn.naive_bayes import GaussianNB\r\n",
        "from sklearn.naive_bayes import MultinomialNB\r\n",
        "from sklearn.tree import  DecisionTreeClassifier"
      ],
      "execution_count": null,
      "outputs": []
    },
    {
      "cell_type": "code",
      "metadata": {
        "id": "tZlkgR4oxttM"
      },
      "source": [
        "model_params={\r\n",
        "    'svm':{\r\n",
        "        'model':svm.SVC(gamma='auto'),\r\n",
        "        'params':{\r\n",
        "            'C':[.5,5],\r\n",
        "            'kernel':['rbf','linear','poly']\r\n",
        "        }\r\n",
        "    },\r\n",
        "    'random_forest':{\r\n",
        "        'model':RandomForestClassifier(),\r\n",
        "        'params':{\r\n",
        "            'n_estimators':[10,100]\r\n",
        "        }\r\n",
        "    },\r\n",
        "    'logistic_regression':{\r\n",
        "        'model':LogisticRegression(solver='liblinear',multi_class='auto'),\r\n",
        "        'params':{\r\n",
        "            'C':[1,5]\r\n",
        "        }\r\n",
        "    },\r\n",
        "    'GaussianNB':{\r\n",
        "        'model':GaussianNB(),\r\n",
        "        'params':{\r\n",
        "                 \r\n",
        "        }\r\n",
        "    },\r\n",
        "    'MultinomialNB':{\r\n",
        "        'model':MultinomialNB(),\r\n",
        "        'params':{\r\n",
        "           'alpha':[0]\r\n",
        "        }\r\n",
        "    },\r\n",
        "    'DecisionTree':{\r\n",
        "        'model':DecisionTreeClassifier(),\r\n",
        "        'params':{\r\n",
        "            'criterion':['gini'],\r\n",
        "            'max_leaf_nodes':[100]\r\n",
        "        }\r\n",
        "    }\r\n",
        "}"
      ],
      "execution_count": null,
      "outputs": []
    },
    {
      "cell_type": "code",
      "metadata": {
        "id": "JuzgfujhzKSf"
      },
      "source": [
        "scores=[]\r\n",
        "for model_name,mp in model_params.items():\r\n",
        "    clf=GridSearchCV(mp['model'],mp['params'],cv=5,return_train_score=False)\r\n",
        "    clf.fit(iris.data,iris.target)\r\n",
        "    scores.append(\r\n",
        "        {\r\n",
        "         'model':model_name ,\r\n",
        "         'best_score':clf.best_score_,\r\n",
        "         'best_params':clf.best_params_  \r\n",
        "        })\r\n",
        "\r\n"
      ],
      "execution_count": null,
      "outputs": []
    },
    {
      "cell_type": "code",
      "metadata": {
        "colab": {
          "base_uri": "https://localhost:8080/",
          "height": 136
        },
        "id": "e123KAXG0ncH",
        "outputId": "1299d9e7-25ac-4543-f325-39c6a0a854b4"
      },
      "source": [
        "r_df=pd.DataFrame(scores,columns=['model','best_score','best_params'])\r\n",
        "r_df"
      ],
      "execution_count": null,
      "outputs": [
        {
          "output_type": "execute_result",
          "data": {
            "text/html": [
              "<div>\n",
              "<style scoped>\n",
              "    .dataframe tbody tr th:only-of-type {\n",
              "        vertical-align: middle;\n",
              "    }\n",
              "\n",
              "    .dataframe tbody tr th {\n",
              "        vertical-align: top;\n",
              "    }\n",
              "\n",
              "    .dataframe thead th {\n",
              "        text-align: right;\n",
              "    }\n",
              "</style>\n",
              "<table border=\"1\" class=\"dataframe\">\n",
              "  <thead>\n",
              "    <tr style=\"text-align: right;\">\n",
              "      <th></th>\n",
              "      <th>model</th>\n",
              "      <th>best_score</th>\n",
              "      <th>best_params</th>\n",
              "    </tr>\n",
              "  </thead>\n",
              "  <tbody>\n",
              "    <tr>\n",
              "      <th>0</th>\n",
              "      <td>svm</td>\n",
              "      <td>0.980000</td>\n",
              "      <td>{'C': 1, 'kernel': 'rbf'}</td>\n",
              "    </tr>\n",
              "    <tr>\n",
              "      <th>1</th>\n",
              "      <td>random_forest</td>\n",
              "      <td>0.960000</td>\n",
              "      <td>{'n_estimators': 5}</td>\n",
              "    </tr>\n",
              "    <tr>\n",
              "      <th>2</th>\n",
              "      <td>logistic_regression</td>\n",
              "      <td>0.966667</td>\n",
              "      <td>{'C': 5}</td>\n",
              "    </tr>\n",
              "  </tbody>\n",
              "</table>\n",
              "</div>"
            ],
            "text/plain": [
              "                 model  best_score                best_params\n",
              "0                  svm    0.980000  {'C': 1, 'kernel': 'rbf'}\n",
              "1        random_forest    0.960000        {'n_estimators': 5}\n",
              "2  logistic_regression    0.966667                   {'C': 5}"
            ]
          },
          "metadata": {
            "tags": []
          },
          "execution_count": 43
        }
      ]
    },
    {
      "cell_type": "code",
      "metadata": {
        "id": "_FTePct80_mW"
      },
      "source": [
        "digits=datasets.load_digits()"
      ],
      "execution_count": null,
      "outputs": []
    },
    {
      "cell_type": "code",
      "metadata": {
        "colab": {
          "base_uri": "https://localhost:8080/"
        },
        "id": "23qioxYd9SCU",
        "outputId": "c34aa91c-61be-4a75-f73b-e1d8ff515c7b"
      },
      "source": [
        "scores=[]\r\n",
        "for model_name,mp in model_params.items():\r\n",
        "    clf=GridSearchCV(mp['model'],mp['params'],cv=5,return_train_score=False)\r\n",
        "    clf.fit(digits.data,digits.target)\r\n",
        "    scores.append(\r\n",
        "        {\r\n",
        "         'model':model_name ,\r\n",
        "         'best_score':clf.best_score_,\r\n",
        "         'best_params':clf.best_params_  \r\n",
        "        })"
      ],
      "execution_count": null,
      "outputs": [
        {
          "output_type": "stream",
          "text": [
            "/usr/local/lib/python3.7/dist-packages/sklearn/naive_bayes.py:507: UserWarning: alpha too small will result in numeric errors, setting alpha = 1.0e-10\n",
            "  'setting alpha = %.1e' % _ALPHA_MIN)\n",
            "/usr/local/lib/python3.7/dist-packages/sklearn/naive_bayes.py:507: UserWarning: alpha too small will result in numeric errors, setting alpha = 1.0e-10\n",
            "  'setting alpha = %.1e' % _ALPHA_MIN)\n",
            "/usr/local/lib/python3.7/dist-packages/sklearn/naive_bayes.py:507: UserWarning: alpha too small will result in numeric errors, setting alpha = 1.0e-10\n",
            "  'setting alpha = %.1e' % _ALPHA_MIN)\n",
            "/usr/local/lib/python3.7/dist-packages/sklearn/naive_bayes.py:507: UserWarning: alpha too small will result in numeric errors, setting alpha = 1.0e-10\n",
            "  'setting alpha = %.1e' % _ALPHA_MIN)\n",
            "/usr/local/lib/python3.7/dist-packages/sklearn/naive_bayes.py:507: UserWarning: alpha too small will result in numeric errors, setting alpha = 1.0e-10\n",
            "  'setting alpha = %.1e' % _ALPHA_MIN)\n",
            "/usr/local/lib/python3.7/dist-packages/sklearn/naive_bayes.py:507: UserWarning: alpha too small will result in numeric errors, setting alpha = 1.0e-10\n",
            "  'setting alpha = %.1e' % _ALPHA_MIN)\n"
          ],
          "name": "stderr"
        }
      ]
    },
    {
      "cell_type": "code",
      "metadata": {
        "colab": {
          "base_uri": "https://localhost:8080/",
          "height": 225
        },
        "id": "9YtPpZKP9ocp",
        "outputId": "82ceb3c0-e51c-42b4-aa0f-37e2356bf0fd"
      },
      "source": [
        "digi_df=pd.DataFrame(scores,columns=['model','best_score','best_params'])\r\n",
        "digi_df"
      ],
      "execution_count": null,
      "outputs": [
        {
          "output_type": "execute_result",
          "data": {
            "text/html": [
              "<div>\n",
              "<style scoped>\n",
              "    .dataframe tbody tr th:only-of-type {\n",
              "        vertical-align: middle;\n",
              "    }\n",
              "\n",
              "    .dataframe tbody tr th {\n",
              "        vertical-align: top;\n",
              "    }\n",
              "\n",
              "    .dataframe thead th {\n",
              "        text-align: right;\n",
              "    }\n",
              "</style>\n",
              "<table border=\"1\" class=\"dataframe\">\n",
              "  <thead>\n",
              "    <tr style=\"text-align: right;\">\n",
              "      <th></th>\n",
              "      <th>model</th>\n",
              "      <th>best_score</th>\n",
              "      <th>best_params</th>\n",
              "    </tr>\n",
              "  </thead>\n",
              "  <tbody>\n",
              "    <tr>\n",
              "      <th>0</th>\n",
              "      <td>svm</td>\n",
              "      <td>0.968842</td>\n",
              "      <td>{'C': 0.5, 'kernel': 'poly'}</td>\n",
              "    </tr>\n",
              "    <tr>\n",
              "      <th>1</th>\n",
              "      <td>random_forest</td>\n",
              "      <td>0.933802</td>\n",
              "      <td>{'n_estimators': 100}</td>\n",
              "    </tr>\n",
              "    <tr>\n",
              "      <th>2</th>\n",
              "      <td>logistic_regression</td>\n",
              "      <td>0.922114</td>\n",
              "      <td>{'C': 1}</td>\n",
              "    </tr>\n",
              "    <tr>\n",
              "      <th>3</th>\n",
              "      <td>GaussianNB</td>\n",
              "      <td>0.806928</td>\n",
              "      <td>{}</td>\n",
              "    </tr>\n",
              "    <tr>\n",
              "      <th>4</th>\n",
              "      <td>MultinomialNB</td>\n",
              "      <td>0.870350</td>\n",
              "      <td>{'alpha': 0}</td>\n",
              "    </tr>\n",
              "    <tr>\n",
              "      <th>5</th>\n",
              "      <td>DecisionTree</td>\n",
              "      <td>0.780799</td>\n",
              "      <td>{'criterion': 'gini', 'max_leaf_nodes': 100}</td>\n",
              "    </tr>\n",
              "  </tbody>\n",
              "</table>\n",
              "</div>"
            ],
            "text/plain": [
              "                 model  ...                                   best_params\n",
              "0                  svm  ...                  {'C': 0.5, 'kernel': 'poly'}\n",
              "1        random_forest  ...                         {'n_estimators': 100}\n",
              "2  logistic_regression  ...                                      {'C': 1}\n",
              "3           GaussianNB  ...                                            {}\n",
              "4        MultinomialNB  ...                                  {'alpha': 0}\n",
              "5         DecisionTree  ...  {'criterion': 'gini', 'max_leaf_nodes': 100}\n",
              "\n",
              "[6 rows x 3 columns]"
            ]
          },
          "metadata": {
            "tags": []
          },
          "execution_count": 96
        }
      ]
    },
    {
      "cell_type": "code",
      "metadata": {
        "id": "NIJY_-XC916U"
      },
      "source": [
        ""
      ],
      "execution_count": null,
      "outputs": []
    }
  ]
}